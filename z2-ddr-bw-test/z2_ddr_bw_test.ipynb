{
 "cells": [
  {
   "cell_type": "markdown",
   "id": "b412d750-f211-46f1-a157-172d9179f0ad",
   "metadata": {},
   "source": [
    "# load bitstream"
   ]
  },
  {
   "cell_type": "code",
   "execution_count": 22,
   "id": "787ded58",
   "metadata": {},
   "outputs": [],
   "source": [
    "\n",
    "from pynq import Overlay\n",
    "import numpy as np\n",
    "from pynq import allocate\n",
    "import time\n",
    "\n",
    "ol = Overlay('top_v2-7.bit')"
   ]
  },
  {
   "cell_type": "markdown",
   "id": "2d73d0f1-03be-4321-a251-9a9468d6e2a1",
   "metadata": {},
   "source": [
    "# allocate buf"
   ]
  },
  {
   "cell_type": "code",
   "execution_count": 2,
   "id": "60f5ac0c",
   "metadata": {},
   "outputs": [
    {
     "data": {
      "text/plain": [
       "(378535936,\n",
       " PynqBuffer([3, 0, 7, 0, 5, 4, 0, 7, 2, 0, 2, 2, 1, 7, 3, 1, 0, 5, 9, 1, 6,\n",
       "             1, 0, 2, 0, 7], dtype=uint32))"
      ]
     },
     "execution_count": 2,
     "metadata": {},
     "output_type": "execute_result"
    }
   ],
   "source": [
    "\n",
    "# u4: 32-bit unsigned integers\n",
    "weight_buffer = allocate(shape=(15000000,), dtype='u4') # 60 MB\n",
    "weight_buffer.device_address\n"
   ]
  },
  {
   "cell_type": "code",
   "execution_count": 3,
   "id": "0fef6c79-29b6-418d-814c-d3ab30a65c09",
   "metadata": {},
   "outputs": [
    {
     "data": {
      "text/plain": [
       "(439353344,\n",
       " PynqBuffer([8, 0, 6, 7, 7, 5, 8, 1, 4, 5, 1, 6, 9, 8, 1, 5, 4, 9, 6, 5, 6,\n",
       "             6, 1, 8, 7, 2], dtype=uint32))"
      ]
     },
     "execution_count": 3,
     "metadata": {},
     "output_type": "execute_result"
    }
   ],
   "source": [
    "# u4: 32-bit unsigned integers\n",
    "unified_buffer = allocate(shape=(10000000,), dtype='u4') # 40 MB\n",
    "\n",
    "unified_buffer[:256] = np.random.randint(10, size=256)\n",
    "unified_buffer.flush()\n",
    "\n",
    "unified_buffer.device_address, unified_buffer[:26]"
   ]
  },
  {
   "cell_type": "code",
   "execution_count": null,
   "id": "bb339037-beb1-4596-9fa3-b7e09887f6e0",
   "metadata": {},
   "outputs": [],
   "source": []
  },
  {
   "cell_type": "code",
   "execution_count": null,
   "id": "721ac863-8298-47e0-8ed4-b5df942569c7",
   "metadata": {},
   "outputs": [],
   "source": []
  },
  {
   "cell_type": "markdown",
   "id": "255f6b00-0fbf-414b-9263-d16e6c1634e2",
   "metadata": {},
   "source": [
    "#  test1"
   ]
  },
  {
   "cell_type": "code",
   "execution_count": 10,
   "id": "f79c1f92-34b2-483d-8f21-20f7cddb699a",
   "metadata": {},
   "outputs": [
    {
     "name": "stdout",
     "output_type": "stream",
     "text": [
      "0: 0x0100000000001000\n",
      "1: 0x3F00000000000000\n"
     ]
    }
   ],
   "source": [
    "## transfer tpu program\n",
    "\n",
    "binprog = [\n",
    "            (0b00000001 << 56) | (0 << 24) | (16 << 8), # read ddr, start addr: 0, nburst: 16.\n",
    "            (0b00111111 << 56)                          # end.\n",
    "          ]\n",
    "\n",
    "for i, inst in enumerate(binprog):\n",
    "    print(f\"{i}:\", '0x{0:0{1}X}'.format(inst, 16))\n",
    "    \n",
    "binprog = np.array(binprog, dtype=np.uint64)\n",
    "\n",
    "binprog = np.frombuffer(binprog, np.uint32)\n",
    "\n",
    "np.copyto(ol.axi_bram_ctrl_0.mmio.array[:len(binprog)], binprog)\n"
   ]
  },
  {
   "cell_type": "code",
   "execution_count": null,
   "id": "e2691258-6532-4631-88b6-a4faca5aad05",
   "metadata": {},
   "outputs": [],
   "source": [
    "## transfer input\n",
    "\n",
    "weight_buffer[:256] = np.random.randint(10, size=256)\n",
    "weight_buffer.flush()\n",
    "\n",
    "np.sum(weight_buffer[:256])"
   ]
  },
  {
   "cell_type": "code",
   "execution_count": 11,
   "id": "7061a001",
   "metadata": {},
   "outputs": [
    {
     "name": "stdout",
     "output_type": "stream",
     "text": [
      "reg2:  1118\n",
      "reg5:  0\n",
      "reg6:  0\n",
      "reg7:  0\n",
      "reg8:  0\n",
      "reg9:  0\n"
     ]
    }
   ],
   "source": [
    "## run\n",
    "\n",
    "ol.qt3_tpu_v1_0.mmio.array[1] = np.uint32(weight_buffer.device_address) # DDR_BASEADDR_REG\n",
    "time.sleep(0.2)\n",
    "\n",
    "ol.qt3_tpu_v1_0.mmio.array[0] = np.uint32(1) # START_REG\n",
    "time.sleep(0.2)\n",
    "\n",
    "ol.qt3_tpu_v1_0.mmio.array[0] = np.uint32(0) # START_REG\n",
    "time.sleep(0.2)\n",
    "\n",
    "print(\"reg2: \", ol.qt3_tpu_v1_0.mmio.array[2])\n",
    "for i in range(5, 10):\n",
    "    print(f\"reg{i}: \", ol.qt3_tpu_v1_0.mmio.array[i])"
   ]
  },
  {
   "cell_type": "markdown",
   "id": "430a2e3d-9547-42ce-8090-82f660e46d4a",
   "metadata": {},
   "source": [
    "# test2"
   ]
  },
  {
   "cell_type": "code",
   "execution_count": 23,
   "id": "e2b05964",
   "metadata": {},
   "outputs": [
    {
     "name": "stdout",
     "output_type": "stream",
     "text": [
      "0: 0x0100000000000200\n",
      "1: 0x3F00000000000000\n"
     ]
    }
   ],
   "source": [
    "## transfer tpu program\n",
    "## program: read 16 64-bits data from ddr and compute 16 partial sums, one for each cycle.\n",
    "\n",
    "# Note: burst length: 8, burst size: 64-bits.\n",
    "binprog = [\n",
    "            (0b00000001 << 56) | (0 << 24) | (2 << 8), # read ddr, start addr: 0, nburst: 2.\n",
    "            (0b00111111 << 56)                          # end.\n",
    "          ]\n",
    "\n",
    "for i, inst in enumerate(binprog):\n",
    "    print(f\"{i}:\", '0x{0:0{1}X}'.format(inst, 16))\n",
    "    \n",
    "binprog = np.array(binprog, dtype=np.uint64)\n",
    "binprog = np.frombuffer(binprog, np.uint32)\n",
    "np.copyto(ol.axi_bram_ctrl_0.mmio.array[:len(binprog)], binprog)\n"
   ]
  },
  {
   "cell_type": "code",
   "execution_count": 24,
   "id": "e38d0b8c-cdd8-4b8c-8133-d7e53ae39308",
   "metadata": {},
   "outputs": [
    {
     "data": {
      "text/plain": [
       "PynqBuffer(128, dtype=uint32)"
      ]
     },
     "execution_count": 24,
     "metadata": {},
     "output_type": "execute_result"
    }
   ],
   "source": [
    "## transfer input\n",
    "\n",
    "\n",
    "# 32 == 2 (nburst) * 8 (burst length) * 2 (2 32-bit data)\n",
    "weight_buffer[:32] = np.random.randint(10, size=32)\n",
    "weight_buffer.flush()\n",
    "\n",
    "np.sum(weight_buffer[:32])"
   ]
  },
  {
   "cell_type": "code",
   "execution_count": 25,
   "id": "c803da32",
   "metadata": {},
   "outputs": [
    {
     "name": "stdout",
     "output_type": "stream",
     "text": [
      "reg2:  128\n"
     ]
    }
   ],
   "source": [
    "## run\n",
    "\n",
    "ol.qt3_tpu_v1_0.mmio.array[1] = np.uint32(weight_buffer.device_address) # DDR_BASEADDR_REG\n",
    "time.sleep(0.2)\n",
    "\n",
    "ol.qt3_tpu_v1_0.mmio.array[0] = np.uint32(1) # START_REG\n",
    "time.sleep(0.2)\n",
    "\n",
    "ol.qt3_tpu_v1_0.mmio.array[0] = np.uint32(0) # START_REG\n",
    "time.sleep(0.2)\n",
    "\n",
    "print(\"reg2: \", ol.qt3_tpu_v1_0.mmio.array[2])"
   ]
  },
  {
   "cell_type": "code",
   "execution_count": null,
   "id": "02b780f2-957c-499b-bffe-bba6e00fb7c6",
   "metadata": {},
   "outputs": [],
   "source": []
  },
  {
   "cell_type": "code",
   "execution_count": 26,
   "id": "964d16bc-ef34-4713-b6a2-a11ebd5c3ebd",
   "metadata": {},
   "outputs": [
    {
     "name": "stdout",
     "output_type": "stream",
     "text": [
      "0: 0x0200000000000200\n",
      "1: 0x3F00000000000000\n"
     ]
    }
   ],
   "source": [
    "## transfer tpu program\n",
    "## program: write the 16 partial sums (currently in fifo) back to ddr.\n",
    "\n",
    "\n",
    "# Note: burst length: 8, burst size: 64-bits.\n",
    "binprog = [\n",
    "            (0b00000010 << 56) | (0 << 24) | (2 << 8), # write ddr, start addr: 0, nburst: 2.\n",
    "            (0b00111111 << 56)                          # end.\n",
    "          ]\n",
    "\n",
    "for i, inst in enumerate(binprog):\n",
    "    print(f\"{i}:\", '0x{0:0{1}X}'.format(inst, 16))\n",
    "    \n",
    "binprog = np.array(binprog, dtype=np.uint64)\n",
    "binprog = np.frombuffer(binprog, np.uint32)\n",
    "np.copyto(ol.axi_bram_ctrl_0.mmio.array[:len(binprog)], binprog)"
   ]
  },
  {
   "cell_type": "code",
   "execution_count": 27,
   "id": "a159e17e-37e4-4543-a50c-3120aba4bb43",
   "metadata": {},
   "outputs": [],
   "source": [
    "## run\n",
    "\n",
    "ol.qt3_tpu_v1_0.mmio.array[1] = np.uint32(unified_buffer.device_address) # DDR_BASEADDR_REG\n",
    "time.sleep(0.2)\n",
    "\n",
    "ol.qt3_tpu_v1_0.mmio.array[0] = np.uint32(1) # START_REG\n",
    "time.sleep(0.2)\n",
    "\n",
    "ol.qt3_tpu_v1_0.mmio.array[0] = np.uint32(0) # START_REG\n",
    "time.sleep(0.2)\n",
    "\n"
   ]
  },
  {
   "cell_type": "code",
   "execution_count": 28,
   "id": "f3e4f212-d8fc-42b4-928c-6d90390c5275",
   "metadata": {},
   "outputs": [
    {
     "data": {
      "text/plain": [
       "PynqBuffer([  0,   0,   6,   0,   8,   0,  12,   0,  23,   0,  36,   0,\n",
       "             41,   0,  54,   0,  60,   0,  69,   0,  77,   0,  87,   0,\n",
       "             99,   0, 104,   0, 109,   0, 123,   0], dtype=uint32)"
      ]
     },
     "execution_count": 28,
     "metadata": {},
     "output_type": "execute_result"
    }
   ],
   "source": [
    "# unified_buffer[:32] = np.zeros(32)\n",
    "unified_buffer[:32]"
   ]
  },
  {
   "cell_type": "code",
   "execution_count": 29,
   "id": "cf8e2e7e-9bc4-4415-b9f1-6c75ae6d3d1e",
   "metadata": {},
   "outputs": [
    {
     "data": {
      "text/plain": [
       "array([  0.,   0.,   6.,   0.,   8.,   0.,  12.,   0.,  23.,   0.,  36.,\n",
       "         0.,  41.,   0.,  54.,   0.,  60.,   0.,  69.,   0.,  77.,   0.,\n",
       "        87.,   0.,  99.,   0., 104.,   0., 109.,   0., 123.,   0.])"
      ]
     },
     "execution_count": 29,
     "metadata": {},
     "output_type": "execute_result"
    }
   ],
   "source": [
    "\n",
    "a = np.zeros(32)\n",
    "np.copyto(a, unified_buffer[:32])\n",
    "a"
   ]
  },
  {
   "cell_type": "code",
   "execution_count": 30,
   "id": "ecce2559-0334-4267-9cc6-0b505ae22fe3",
   "metadata": {},
   "outputs": [
    {
     "data": {
      "text/plain": [
       "array([  0,   6,   8,  12,  23,  36,  41,  54,  60,  69,  77,  87,  99,\n",
       "       104, 109, 123], dtype=uint64)"
      ]
     },
     "execution_count": 30,
     "metadata": {},
     "output_type": "execute_result"
    }
   ],
   "source": [
    "a = np.array(a, dtype=np.uint32)\n",
    "a = np.frombuffer(a, np.uint64)\n",
    "a"
   ]
  },
  {
   "cell_type": "code",
   "execution_count": 34,
   "id": "7cba3855-418c-4f68-adf6-592f83388ac5",
   "metadata": {},
   "outputs": [
    {
     "name": "stdout",
     "output_type": "stream",
     "text": [
      "6\n",
      "8\n",
      "12\n",
      "23\n",
      "36\n",
      "41\n",
      "54\n",
      "60\n",
      "69\n",
      "77\n",
      "87\n",
      "99\n",
      "104\n",
      "109\n",
      "123\n"
     ]
    }
   ],
   "source": [
    "for i in range(2,32,2):\n",
    "    print(np.sum(weight_buffer[:i]))"
   ]
  },
  {
   "cell_type": "code",
   "execution_count": null,
   "id": "638edbd9-8ef1-4301-b3db-de2411d092fe",
   "metadata": {},
   "outputs": [],
   "source": []
  }
 ],
 "metadata": {
  "kernelspec": {
   "display_name": "Python 3",
   "language": "python",
   "name": "python3"
  },
  "language_info": {
   "codemirror_mode": {
    "name": "ipython",
    "version": 3
   },
   "file_extension": ".py",
   "mimetype": "text/x-python",
   "name": "python",
   "nbconvert_exporter": "python",
   "pygments_lexer": "ipython3",
   "version": "3.8.2"
  }
 },
 "nbformat": 4,
 "nbformat_minor": 5
}
