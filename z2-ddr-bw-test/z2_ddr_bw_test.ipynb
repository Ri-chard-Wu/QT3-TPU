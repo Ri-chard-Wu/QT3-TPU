{
 "cells": [
  {
   "cell_type": "markdown",
   "id": "b412d750-f211-46f1-a157-172d9179f0ad",
   "metadata": {},
   "source": [
    "# load bitstream"
   ]
  },
  {
   "cell_type": "code",
   "execution_count": 2,
   "id": "787ded58",
   "metadata": {},
   "outputs": [],
   "source": [
    "\n",
    "from pynq import Overlay\n",
    "import numpy as np\n",
    "from pynq import allocate\n",
    "import time\n",
    "\n",
    "ol = Overlay('top-v8.bit')"
   ]
  },
  {
   "cell_type": "markdown",
   "id": "2d73d0f1-03be-4321-a251-9a9468d6e2a1",
   "metadata": {},
   "source": [
    "# allocate buf"
   ]
  },
  {
   "cell_type": "code",
   "execution_count": 3,
   "id": "60f5ac0c",
   "metadata": {},
   "outputs": [
    {
     "data": {
      "text/plain": [
       "378535936"
      ]
     },
     "execution_count": 3,
     "metadata": {},
     "output_type": "execute_result"
    }
   ],
   "source": [
    "\n",
    "# u4: 32-bit unsigned integers\n",
    "input_buffer = allocate(shape=(25000000,), dtype='u4')\n",
    "input_buffer.device_address"
   ]
  },
  {
   "cell_type": "code",
   "execution_count": 8,
   "id": "6169c91a",
   "metadata": {},
   "outputs": [
    {
     "data": {
      "text/plain": [
       "PynqBuffer([3, 7, 9, 7, 3, 3, 6, 0, 7, 9, 1, 2, 0, 3, 9, 5], dtype=uint32)"
      ]
     },
     "execution_count": 8,
     "metadata": {},
     "output_type": "execute_result"
    }
   ],
   "source": [
    "input_buffer[:16] = np.random.randint(10, size=16)\n",
    "input_buffer.flush()\n",
    "input_buffer[:16]"
   ]
  },
  {
   "cell_type": "code",
   "execution_count": 9,
   "id": "4d97b8bb-eb0d-4bbc-ba42-4e9ad52efc7f",
   "metadata": {},
   "outputs": [
    {
     "data": {
      "text/plain": [
       "PynqBuffer(54, dtype=uint32)"
      ]
     },
     "execution_count": 9,
     "metadata": {},
     "output_type": "execute_result"
    }
   ],
   "source": [
    "np.sum(input_buffer[:10])"
   ]
  },
  {
   "cell_type": "markdown",
   "id": "5e81d17c-4d22-4d80-967a-74c4ad7ef865",
   "metadata": {},
   "source": [
    "# axi-lite ctrl"
   ]
  },
  {
   "cell_type": "code",
   "execution_count": 10,
   "id": "7061a001",
   "metadata": {},
   "outputs": [
    {
     "name": "stdout",
     "output_type": "stream",
     "text": [
      "reg2:  54\n",
      "reg5:  253697323\n",
      "reg6:  15\n",
      "reg7:  378535936\n",
      "reg8:  3\n",
      "reg9:  15\n"
     ]
    }
   ],
   "source": [
    "\n",
    "ol.qt3_tpu_v1_0.mmio.array[1] = np.uint32(input_buffer.device_address) # DDR_BASEADDR_REG\n",
    "time.sleep(0.2)\n",
    "\n",
    "ol.qt3_tpu_v1_0.mmio.array[0] = np.uint32(1) # START_REG\n",
    "time.sleep(0.2)\n",
    "\n",
    "ol.qt3_tpu_v1_0.mmio.array[0] = np.uint32(0) # START_REG\n",
    "time.sleep(0.2)\n",
    "\n",
    "print(\"reg2: \", ol.qt3_tpu_v1_0.mmio.array[2])\n",
    "for i in range(5, 10):\n",
    "    print(f\"reg{i}: \", ol.qt3_tpu_v1_0.mmio.array[i])"
   ]
  },
  {
   "cell_type": "code",
   "execution_count": 11,
   "id": "fd6de536",
   "metadata": {},
   "outputs": [
    {
     "data": {
      "text/plain": [
       "PynqBuffer([0, 8, 9, ..., 1, 6, 5], dtype=uint32)"
      ]
     },
     "execution_count": 11,
     "metadata": {},
     "output_type": "execute_result"
    }
   ],
   "source": [
    "input_buffer[:25000000]"
   ]
  },
  {
   "cell_type": "code",
   "execution_count": 10,
   "id": "fa542588",
   "metadata": {},
   "outputs": [],
   "source": [
    "input_buffer.flush()"
   ]
  },
  {
   "cell_type": "code",
   "execution_count": null,
   "id": "1f556712",
   "metadata": {},
   "outputs": [],
   "source": []
  },
  {
   "cell_type": "code",
   "execution_count": null,
   "id": "064e3338",
   "metadata": {},
   "outputs": [],
   "source": []
  },
  {
   "cell_type": "code",
   "execution_count": null,
   "id": "e2b05964",
   "metadata": {},
   "outputs": [],
   "source": []
  },
  {
   "cell_type": "code",
   "execution_count": null,
   "id": "c803da32",
   "metadata": {},
   "outputs": [],
   "source": []
  }
 ],
 "metadata": {
  "kernelspec": {
   "display_name": "Python 3",
   "language": "python",
   "name": "python3"
  },
  "language_info": {
   "codemirror_mode": {
    "name": "ipython",
    "version": 3
   },
   "file_extension": ".py",
   "mimetype": "text/x-python",
   "name": "python",
   "nbconvert_exporter": "python",
   "pygments_lexer": "ipython3",
   "version": "3.8.2"
  }
 },
 "nbformat": 4,
 "nbformat_minor": 5
}
