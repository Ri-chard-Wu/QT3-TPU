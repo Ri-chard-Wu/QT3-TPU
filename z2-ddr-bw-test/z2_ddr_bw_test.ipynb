{
 "cells": [
  {
   "cell_type": "markdown",
   "id": "b412d750-f211-46f1-a157-172d9179f0ad",
   "metadata": {},
   "source": [
    "# load bitstream"
   ]
  },
  {
   "cell_type": "code",
   "execution_count": 15,
   "id": "787ded58",
   "metadata": {},
   "outputs": [],
   "source": [
    "\n",
    "from pynq import Overlay\n",
    "import numpy as np\n",
    "from pynq import allocate\n",
    "import time\n",
    "\n",
    "ol = Overlay('top9.bit')"
   ]
  },
  {
   "cell_type": "markdown",
   "id": "2d73d0f1-03be-4321-a251-9a9468d6e2a1",
   "metadata": {},
   "source": [
    "# allocate buf"
   ]
  },
  {
   "cell_type": "code",
   "execution_count": 2,
   "id": "60f5ac0c",
   "metadata": {},
   "outputs": [
    {
     "data": {
      "text/plain": [
       "378535936"
      ]
     },
     "execution_count": 2,
     "metadata": {},
     "output_type": "execute_result"
    }
   ],
   "source": [
    "\n",
    "# u4: 32-bit unsigned integers\n",
    "weight_buffer = allocate(shape=(15000000,), dtype='u4') # 60 MB\n",
    "weight_buffer.device_address\n"
   ]
  },
  {
   "cell_type": "code",
   "execution_count": 3,
   "id": "0fef6c79-29b6-418d-814c-d3ab30a65c09",
   "metadata": {},
   "outputs": [
    {
     "data": {
      "text/plain": [
       "439353344"
      ]
     },
     "execution_count": 3,
     "metadata": {},
     "output_type": "execute_result"
    }
   ],
   "source": [
    "# u4: 32-bit unsigned integers\n",
    "unified_buffer = allocate(shape=(10000000,), dtype='u4') # 40 MB\n",
    "\n",
    "unified_buffer.device_address"
   ]
  },
  {
   "cell_type": "markdown",
   "id": "430a2e3d-9547-42ce-8090-82f660e46d4a",
   "metadata": {},
   "source": [
    "# test2"
   ]
  },
  {
   "cell_type": "code",
   "execution_count": 18,
   "id": "8bee0872-f5dd-4476-82af-80e4a3b5dc7c",
   "metadata": {},
   "outputs": [
    {
     "data": {
      "text/plain": [
       "468750.0"
      ]
     },
     "execution_count": 18,
     "metadata": {},
     "output_type": "execute_result"
    }
   ],
   "source": [
    "15000000/32"
   ]
  },
  {
   "cell_type": "code",
   "execution_count": 43,
   "id": "e2b05964",
   "metadata": {},
   "outputs": [
    {
     "name": "stdout",
     "output_type": "stream",
     "text": [
      "n:  15000000\n",
      "0.0901982421875\n",
      "5.321611467795545 Gbps\n",
      "fpga:  67494310 , cpu:  67494310\n"
     ]
    }
   ],
   "source": [
    "## transfer tpu program\n",
    "import time\n",
    "\n",
    "\n",
    "rburst_len = 16\n",
    "nburst = 468750\n",
    "# nburst = 268750\n",
    "n = 2 * rburst_len * nburst # n: number of 32-bit data to sum.\n",
    "print(\"n: \", n)\n",
    "\n",
    "\n",
    "binprog = [\n",
    "            (0b00000001 << 56) | (weight_buffer.device_address << 24) | nburst,\n",
    "            (0b00111111 << 56)                          \n",
    "          ]\n",
    "\n",
    "binprog = np.array(binprog, dtype=np.uint64)\n",
    "binprog = np.frombuffer(binprog, np.uint32)\n",
    "np.copyto(ol.axi_bram_ctrl_0.mmio.array[:len(binprog)], binprog)\n",
    "\n",
    "# -------------------------------------------------------\n",
    "## transfer input\n",
    "\n",
    "\n",
    "weight_buffer[:n] = np.random.randint(10, size=n)\n",
    "weight_buffer.flush()\n",
    "weight_buffer[:n]\n",
    "\n",
    "# -------------------------------------------------------\n",
    "## run\n",
    "start = time.time()\n",
    "\n",
    "ol.qt3_tpu_v1_0.mmio.array[0] = np.uint32(1) # START_REG\n",
    "time.sleep(0.08)\n",
    "\n",
    "ol.qt3_tpu_v1_0.mmio.array[0] = np.uint32(0) # START_REG\n",
    "# time.sleep(0.2)\n",
    "\n",
    "\n",
    "# -------------------------------------------------------\n",
    "## transfer tpu program, 0.015 sec\n",
    "\n",
    "\n",
    "binprog = [\n",
    "            (0b00000010 << 56) | (unified_buffer.device_address << 24) | 1,\n",
    "            (0b00111111 << 56)                       \n",
    "          ]\n",
    "\n",
    "binprog = np.array(binprog, dtype=np.uint64)\n",
    "binprog = np.frombuffer(binprog, np.uint32)\n",
    "np.copyto(ol.axi_bram_ctrl_0.mmio.array[:len(binprog)], binprog)\n",
    "\n",
    "\n",
    "# -------------------------------------------------------\n",
    "## run, 0.048 sec\n",
    "\n",
    "\n",
    "ol.qt3_tpu_v1_0.mmio.array[0] = np.uint32(1) # START_REG\n",
    "time.sleep(0.001)\n",
    "\n",
    "ol.qt3_tpu_v1_0.mmio.array[0] = np.uint32(0) # START_REG\n",
    "time.sleep(0.001)\n",
    "\n",
    "\n",
    "\n",
    "end = time.time()\n",
    "print(end - start - 0.048 - 0.015)\n",
    "print((60e6 * 8 / (end - start - 0.048 - 0.015))/1e9, \"Gbps\")\n",
    "print(\"fpga: \", unified_buffer[0], \", cpu: \", np.sum(weight_buffer[:n]))\n",
    "\n"
   ]
  },
  {
   "cell_type": "code",
   "execution_count": null,
   "id": "02b780f2-957c-499b-bffe-bba6e00fb7c6",
   "metadata": {},
   "outputs": [],
   "source": []
  },
  {
   "cell_type": "code",
   "execution_count": 42,
   "id": "964d16bc-ef34-4713-b6a2-a11ebd5c3ebd",
   "metadata": {},
   "outputs": [],
   "source": []
  },
  {
   "cell_type": "code",
   "execution_count": 43,
   "id": "a159e17e-37e4-4543-a50c-3120aba4bb43",
   "metadata": {},
   "outputs": [
    {
     "data": {
      "text/plain": [
       "PynqBuffer([0, 0, 0, 0], dtype=uint32)"
      ]
     },
     "execution_count": 43,
     "metadata": {},
     "output_type": "execute_result"
    }
   ],
   "source": []
  },
  {
   "cell_type": "markdown",
   "id": "80299cee-179e-48a2-a7ee-bd1e12c1ca4e",
   "metadata": {},
   "source": [
    "# generate prog.bin for tb"
   ]
  },
  {
   "cell_type": "code",
   "execution_count": 29,
   "id": "9e89c9c6-ff92-48db-ab9b-6962c0467fe3",
   "metadata": {},
   "outputs": [
    {
     "name": "stdout",
     "output_type": "stream",
     "text": [
      "0000000100011001010100000000000000000000000000000000000100000000\n",
      "0011111100000000000000000000000000000000000000000000000000000000\n",
      "0: 0x0119500000000100\n",
      "1: 0x3F00000000000000\n"
     ]
    }
   ],
   "source": [
    "\n",
    "binprog = [\n",
    "             # read ddr, start addr: , nburst: 1.\n",
    "            (0b00000001 << 56) | (424673280 << 24) | (1 << 8),\n",
    "            (0b00111111 << 56)                          # end.\n",
    "          ]\n",
    "\n",
    "for i, inst in enumerate(binprog):\n",
    "    print('{0:064b}'.format(inst))\n",
    "    \n",
    "for i, inst in enumerate(binprog):\n",
    "    print(f\"{i}:\", '0x{0:0{1}X}'.format(inst, 16))\n",
    "      "
   ]
  },
  {
   "cell_type": "code",
   "execution_count": 30,
   "id": "f3809827-0eda-47a7-a79e-f4c826d7847a",
   "metadata": {},
   "outputs": [
    {
     "ename": "SyntaxError",
     "evalue": "illegal target for annotation (<ipython-input-30-6f90faea3497>, line 1)",
     "output_type": "error",
     "traceback": [
      "\u001b[0;36m  File \u001b[0;32m\"<ipython-input-30-6f90faea3497>\"\u001b[0;36m, line \u001b[0;32m1\u001b[0m\n\u001b[0;31m    0: 0x0119500000000100\u001b[0m\n\u001b[0m    ^\u001b[0m\n\u001b[0;31mSyntaxError\u001b[0m\u001b[0;31m:\u001b[0m illegal target for annotation\n"
     ]
    }
   ],
   "source": [
    "0: 0x0119500000000100\n",
    "1: 0x0216900000000100\n",
    "2: 0x3F00000000000000\n"
   ]
  },
  {
   "cell_type": "code",
   "execution_count": 19,
   "id": "c6e9db40-3ed0-4a95-be67-70a8baf1fe2d",
   "metadata": {},
   "outputs": [
    {
     "name": "stdout",
     "output_type": "stream",
     "text": [
      "0000001000010110100100000000000000000000000000000000000100000000\n",
      "0011111100000000000000000000000000000000000000000000000000000000\n",
      "0: 0x0216900000000100\n",
      "1: 0x3F00000000000000\n"
     ]
    }
   ],
   "source": [
    "binprog = [\n",
    "            (0b00000010 << 56) | (378535936 << 24) | (1 << 8), # write ddr, start addr: 0, nburst: 1.\n",
    "            (0b00111111 << 56)                          # end.\n",
    "          ]\n",
    "\n",
    "for i, inst in enumerate(binprog):\n",
    "    print('{0:064b}'.format(inst))\n",
    "for i, inst in enumerate(binprog):\n",
    "    print(f\"{i}:\", '0x{0:0{1}X}'.format(inst, 16))\n",
    "        "
   ]
  },
  {
   "cell_type": "code",
   "execution_count": 1,
   "id": "e72a31df-55ac-4915-b66c-75646454e092",
   "metadata": {},
   "outputs": [
    {
     "data": {
      "text/plain": [
       "'0x16900000'"
      ]
     },
     "execution_count": 1,
     "metadata": {},
     "output_type": "execute_result"
    }
   ],
   "source": [
    "hex(378535936)"
   ]
  },
  {
   "cell_type": "code",
   "execution_count": null,
   "id": "41859a08-6132-4a97-9a9f-f3d1e117ced3",
   "metadata": {},
   "outputs": [],
   "source": []
  }
 ],
 "metadata": {
  "kernelspec": {
   "display_name": "Python 3",
   "language": "python",
   "name": "python3"
  },
  "language_info": {
   "codemirror_mode": {
    "name": "ipython",
    "version": 3
   },
   "file_extension": ".py",
   "mimetype": "text/x-python",
   "name": "python",
   "nbconvert_exporter": "python",
   "pygments_lexer": "ipython3",
   "version": "3.8.2"
  }
 },
 "nbformat": 4,
 "nbformat_minor": 5
}
