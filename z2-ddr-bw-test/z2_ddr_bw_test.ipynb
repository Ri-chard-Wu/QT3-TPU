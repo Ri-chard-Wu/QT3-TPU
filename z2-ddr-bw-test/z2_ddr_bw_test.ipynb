{
 "cells": [
  {
   "cell_type": "markdown",
   "id": "b412d750-f211-46f1-a157-172d9179f0ad",
   "metadata": {},
   "source": [
    "# load bitstream"
   ]
  },
  {
   "cell_type": "code",
   "execution_count": 15,
   "id": "787ded58",
   "metadata": {},
   "outputs": [],
   "source": [
    "\n",
    "from pynq import Overlay\n",
    "import numpy as np\n",
    "from pynq import allocate\n"
   ]
  },
  {
   "cell_type": "code",
   "execution_count": 21,
   "id": "a7f9c66e",
   "metadata": {},
   "outputs": [],
   "source": [
    "ol = Overlay('top.bit')"
   ]
  },
  {
   "cell_type": "markdown",
   "id": "2d73d0f1-03be-4321-a251-9a9468d6e2a1",
   "metadata": {},
   "source": [
    "# allocate buf"
   ]
  },
  {
   "cell_type": "code",
   "execution_count": 3,
   "id": "60f5ac0c",
   "metadata": {},
   "outputs": [],
   "source": [
    "\n",
    "# u4: 32-bit unsigned integers\n",
    "input_buffer = allocate(shape=(25000000,), dtype='u4')\n",
    "input_buffer.device_address"
   ]
  },
  {
   "cell_type": "code",
   "execution_count": 22,
   "id": "1ae714b7-2fc8-4acd-840a-9281b5b0318f",
   "metadata": {},
   "outputs": [
    {
     "data": {
      "text/plain": [
       "408944640"
      ]
     },
     "execution_count": 22,
     "metadata": {},
     "output_type": "execute_result"
    }
   ],
   "source": [
    "input_buffer.device_address"
   ]
  },
  {
   "cell_type": "code",
   "execution_count": 23,
   "id": "6169c91a",
   "metadata": {},
   "outputs": [
    {
     "data": {
      "text/plain": [
       "PynqBuffer([0, 1, 2, ..., 0, 0, 0], dtype=uint32)"
      ]
     },
     "execution_count": 23,
     "metadata": {},
     "output_type": "execute_result"
    }
   ],
   "source": [
    "input_buffer[:5] = range(5)\n",
    "input_buffer.flush()\n",
    "input_buffer[:]"
   ]
  },
  {
   "cell_type": "markdown",
   "id": "5e81d17c-4d22-4d80-967a-74c4ad7ef865",
   "metadata": {},
   "source": [
    "# axi-lite ctrl"
   ]
  },
  {
   "cell_type": "code",
   "execution_count": 24,
   "id": "7061a001",
   "metadata": {},
   "outputs": [],
   "source": [
    "\n",
    "# DDR_BASEADDR_REG\n",
    "ol.qt3_tpu_v1_0.mmio.array[1] = np.uint32(input_buffer.device_address)\n"
   ]
  },
  {
   "cell_type": "code",
   "execution_count": 27,
   "id": "25f31029",
   "metadata": {},
   "outputs": [],
   "source": [
    "\n",
    "# START_REG\n",
    "ol.qt3_tpu_v1_0.mmio.array[0] = np.uint32(1)\n"
   ]
  },
  {
   "cell_type": "code",
   "execution_count": 28,
   "id": "c44014c7",
   "metadata": {},
   "outputs": [
    {
     "data": {
      "text/plain": [
       "0"
      ]
     },
     "execution_count": 28,
     "metadata": {},
     "output_type": "execute_result"
    }
   ],
   "source": [
    "\n",
    "# PARTIAL_SUM_REG\n",
    "ol.qt3_tpu_v1_0.mmio.array[2]\n"
   ]
  },
  {
   "cell_type": "code",
   "execution_count": 9,
   "id": "66bc4c6a",
   "metadata": {},
   "outputs": [
    {
     "data": {
      "text/plain": [
       "PynqBuffer([0, 1, 2, ..., 0, 0, 0], dtype=uint32)"
      ]
     },
     "execution_count": 9,
     "metadata": {},
     "output_type": "execute_result"
    }
   ],
   "source": []
  },
  {
   "cell_type": "code",
   "execution_count": null,
   "id": "7c166d0c",
   "metadata": {},
   "outputs": [],
   "source": []
  },
  {
   "cell_type": "code",
   "execution_count": null,
   "id": "b84511d7",
   "metadata": {},
   "outputs": [],
   "source": []
  },
  {
   "cell_type": "code",
   "execution_count": null,
   "id": "fd6de536",
   "metadata": {},
   "outputs": [],
   "source": []
  },
  {
   "cell_type": "code",
   "execution_count": null,
   "id": "fa542588",
   "metadata": {},
   "outputs": [],
   "source": []
  },
  {
   "cell_type": "code",
   "execution_count": null,
   "id": "1f556712",
   "metadata": {},
   "outputs": [],
   "source": []
  },
  {
   "cell_type": "code",
   "execution_count": null,
   "id": "064e3338",
   "metadata": {},
   "outputs": [],
   "source": []
  },
  {
   "cell_type": "code",
   "execution_count": null,
   "id": "e2b05964",
   "metadata": {},
   "outputs": [],
   "source": []
  },
  {
   "cell_type": "code",
   "execution_count": null,
   "id": "c803da32",
   "metadata": {},
   "outputs": [],
   "source": []
  }
 ],
 "metadata": {
  "kernelspec": {
   "display_name": "Python 3",
   "language": "python",
   "name": "python3"
  },
  "language_info": {
   "codemirror_mode": {
    "name": "ipython",
    "version": 3
   },
   "file_extension": ".py",
   "mimetype": "text/x-python",
   "name": "python",
   "nbconvert_exporter": "python",
   "pygments_lexer": "ipython3",
   "version": "3.8.2"
  }
 },
 "nbformat": 4,
 "nbformat_minor": 5
}
