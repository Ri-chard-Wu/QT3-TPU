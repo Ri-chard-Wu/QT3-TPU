{
 "cells": [
  {
   "cell_type": "markdown",
   "id": "b412d750-f211-46f1-a157-172d9179f0ad",
   "metadata": {},
   "source": [
    "# load bitstream"
   ]
  },
  {
   "cell_type": "code",
   "execution_count": 42,
   "id": "787ded58",
   "metadata": {},
   "outputs": [],
   "source": [
    "\n",
    "from pynq import Overlay\n",
    "import numpy as np\n",
    "from pynq import allocate\n",
    "import time\n",
    "\n",
    "ol = Overlay('top_v2-4.bit')"
   ]
  },
  {
   "cell_type": "markdown",
   "id": "2d73d0f1-03be-4321-a251-9a9468d6e2a1",
   "metadata": {},
   "source": [
    "# allocate buf"
   ]
  },
  {
   "cell_type": "code",
   "execution_count": 45,
   "id": "60f5ac0c",
   "metadata": {},
   "outputs": [
    {
     "data": {
      "text/plain": [
       "(378535936,\n",
       " PynqBuffer([1, 6, 4, 3, 9, 2, 7, 4, 5, 9, 9, 8, 9, 4, 0, 5, 7, 1, 5, 1, 0,\n",
       "             6, 0, 6, 6, 1], dtype=uint32))"
      ]
     },
     "execution_count": 45,
     "metadata": {},
     "output_type": "execute_result"
    }
   ],
   "source": [
    "\n",
    "# u4: 32-bit unsigned integers\n",
    "input_buffer = allocate(shape=(25000000,), dtype='u4')\n",
    "\n",
    "input_buffer[:256] = np.random.randint(10, size=256)\n",
    "input_buffer.flush()\n",
    "\n",
    "input_buffer.device_address, input_buffer[:26]"
   ]
  },
  {
   "cell_type": "code",
   "execution_count": 46,
   "id": "4d97b8bb-eb0d-4bbc-ba42-4e9ad52efc7f",
   "metadata": {},
   "outputs": [
    {
     "data": {
      "text/plain": [
       "PynqBuffer(1097, dtype=uint32)"
      ]
     },
     "execution_count": 46,
     "metadata": {},
     "output_type": "execute_result"
    }
   ],
   "source": [
    "np.sum(input_buffer[:256])"
   ]
  },
  {
   "cell_type": "markdown",
   "id": "255f6b00-0fbf-414b-9263-d16e6c1634e2",
   "metadata": {},
   "source": [
    "# transfer tpu program"
   ]
  },
  {
   "cell_type": "code",
   "execution_count": 43,
   "id": "f79c1f92-34b2-483d-8f21-20f7cddb699a",
   "metadata": {},
   "outputs": [
    {
     "name": "stdout",
     "output_type": "stream",
     "text": [
      "0: 0x0100000000001000\n",
      "1: 0x3F00000000000000\n"
     ]
    }
   ],
   "source": [
    "\n",
    "\n",
    "binprog = [\n",
    "            (0b00000001 << 56) | (0 << 24) | (16 << 8), # read ddr, start addr: 0, nburst: 16.\n",
    "            (0b00111111 << 56)                          # end.\n",
    "          ]\n",
    "\n",
    "for i, inst in enumerate(binprog):\n",
    "    print(f\"{i}:\", '0x{0:0{1}X}'.format(inst, 16))\n",
    "    \n",
    "binprog = np.array(binprog, dtype=np.uint64)\n",
    "\n",
    "binprog = np.frombuffer(binprog, np.uint32)\n",
    "\n",
    "np.copyto(ol.axi_bram_ctrl_0.mmio.array[:len(binprog)], binprog)\n"
   ]
  },
  {
   "cell_type": "code",
   "execution_count": 41,
   "id": "df2cefab-a390-404e-9a05-8a43e47a3a2f",
   "metadata": {},
   "outputs": [
    {
     "data": {
      "text/plain": [
       "array([      4096,   16777216,          0, 1056964608], dtype=uint32)"
      ]
     },
     "execution_count": 41,
     "metadata": {},
     "output_type": "execute_result"
    }
   ],
   "source": [
    "binprog"
   ]
  },
  {
   "cell_type": "code",
   "execution_count": 39,
   "id": "9fdb8d5e-2341-4402-b4fb-8d3aabf8e7bb",
   "metadata": {},
   "outputs": [],
   "source": [
    "ol.qt3_tpu_v1_0.mmio.array[3] = 8"
   ]
  },
  {
   "cell_type": "code",
   "execution_count": 40,
   "id": "92f12bc1-a891-46ab-b568-dabe93390540",
   "metadata": {},
   "outputs": [
    {
     "data": {
      "text/plain": [
       "(1056964608, 0)"
      ]
     },
     "execution_count": 40,
     "metadata": {},
     "output_type": "execute_result"
    }
   ],
   "source": [
    "ol.qt3_tpu_v1_0.mmio.array[7], ol.qt3_tpu_v1_0.mmio.array[9]"
   ]
  },
  {
   "cell_type": "markdown",
   "id": "5e81d17c-4d22-4d80-967a-74c4ad7ef865",
   "metadata": {},
   "source": [
    "# run"
   ]
  },
  {
   "cell_type": "code",
   "execution_count": 47,
   "id": "7061a001",
   "metadata": {},
   "outputs": [
    {
     "name": "stdout",
     "output_type": "stream",
     "text": [
      "reg2:  1097\n",
      "reg5:  617\n",
      "reg6:  256\n",
      "reg7:  0\n",
      "reg8:  16\n",
      "reg9:  16\n"
     ]
    }
   ],
   "source": [
    "\n",
    "ol.qt3_tpu_v1_0.mmio.array[1] = np.uint32(input_buffer.device_address) # DDR_BASEADDR_REG\n",
    "time.sleep(0.2)\n",
    "\n",
    "ol.qt3_tpu_v1_0.mmio.array[0] = np.uint32(1) # START_REG\n",
    "time.sleep(0.2)\n",
    "\n",
    "ol.qt3_tpu_v1_0.mmio.array[0] = np.uint32(0) # START_REG\n",
    "time.sleep(0.2)\n",
    "\n",
    "print(\"reg2: \", ol.qt3_tpu_v1_0.mmio.array[2])\n",
    "for i in range(5, 10):\n",
    "    print(f\"reg{i}: \", ol.qt3_tpu_v1_0.mmio.array[i])"
   ]
  },
  {
   "cell_type": "code",
   "execution_count": null,
   "id": "064e3338",
   "metadata": {},
   "outputs": [],
   "source": []
  },
  {
   "cell_type": "code",
   "execution_count": null,
   "id": "e2b05964",
   "metadata": {},
   "outputs": [],
   "source": []
  },
  {
   "cell_type": "code",
   "execution_count": null,
   "id": "c803da32",
   "metadata": {},
   "outputs": [],
   "source": []
  }
 ],
 "metadata": {
  "kernelspec": {
   "display_name": "Python 3",
   "language": "python",
   "name": "python3"
  },
  "language_info": {
   "codemirror_mode": {
    "name": "ipython",
    "version": 3
   },
   "file_extension": ".py",
   "mimetype": "text/x-python",
   "name": "python",
   "nbconvert_exporter": "python",
   "pygments_lexer": "ipython3",
   "version": "3.8.2"
  }
 },
 "nbformat": 4,
 "nbformat_minor": 5
}
