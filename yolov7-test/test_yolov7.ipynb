{
  "cells": [
    {
      "cell_type": "markdown",
      "source": [
        "# mount drive"
      ],
      "metadata": {
        "id": "HnjsQlMCug7v"
      }
    },
    {
      "cell_type": "code",
      "execution_count": 1,
      "metadata": {
        "colab": {
          "base_uri": "https://localhost:8080/"
        },
        "id": "xINPdwhCWLWB",
        "outputId": "e70fc89e-f8b0-4737-dd5b-2cfd7e6c621a"
      },
      "outputs": [
        {
          "output_type": "stream",
          "name": "stdout",
          "text": [
            "Mounted at /content/drive\n",
            "/content/drive/MyDrive/colab_experiment/RBPJ/yolo7-test/yolov7\n"
          ]
        }
      ],
      "source": [
        "from google.colab import drive\n",
        "drive.mount('/content/drive')\n",
        "%cd /content/drive/MyDrive/colab_experiment/RBPJ/yolo7-test/yolov7"
      ]
    },
    {
      "cell_type": "markdown",
      "source": [
        "# Extract weights"
      ],
      "metadata": {
        "id": "6EeinJR5_dHo"
      }
    },
    {
      "cell_type": "markdown",
      "source": [
        "## utils"
      ],
      "metadata": {
        "id": "aMJ7kDMXOaPT"
      }
    },
    {
      "cell_type": "code",
      "source": [
        "import matplotlib\n",
        "import math\n",
        "import cv2\n",
        "from utils.general import xywh2xyxy, xyxy2xywh\n",
        "from utils.plots import plot_one_box\n",
        "%matplotlib inline\n",
        "from matplotlib import pyplot as plt\n",
        "\n",
        "\n",
        "def color_list():\n",
        "    def hex2rgb(h):\n",
        "        return tuple(int(h[1 + i:1 + i + 2], 16) for i in (0, 2, 4))\n",
        "\n",
        "    return [hex2rgb(h) for h in matplotlib.colors.TABLEAU_COLORS.values()]  # or BASE_ (8), CSS4_ (148), XKCD_ (949)\n",
        "\n",
        "\n",
        "def plot_images(img, targets, names=None, max_size=640, max_subplots=16, tl = 1):\n",
        "\n",
        "    names =  {0: 'person', 1: 'bicycle', 2: 'car', 3: 'motorcycle', 4: 'airplane', 5: 'bus', 6: 'train', 7: 'truck', 8: 'boat', 9: 'traffic light', 10: 'fire hydrant', 11: 'stop sign', 12: 'parking meter', 13: 'bench', 14: 'bird', 15: 'cat', 16: 'dog', 17: 'horse', 18: 'sheep', 19: 'cow', 20: 'elephant', 21: 'bear', 22: 'zebra', 23: 'giraffe', 24: 'backpack', 25: 'umbrella', 26: 'handbag', 27: 'tie', 28: 'suitcase', 29: 'frisbee', 30: 'skis', 31: 'snowboard', 32: 'sports ball', 33: 'kite', 34: 'baseball bat', 35: 'baseball glove', 36: 'skateboard', 37: 'surfboard', 38: 'tennis racket', 39: 'bottle', 40: 'wine glass', 41: 'cup', 42: 'fork', 43: 'knife', 44: 'spoon', 45: 'bowl', 46: 'banana', 47: 'apple', 48: 'sandwich', 49: 'orange', 50: 'broccoli', 51: 'carrot', 52: 'hot dog', 53: 'pizza', 54: 'donut', 55: 'cake', 56: 'chair', 57: 'couch', 58: 'potted plant', 59: 'bed', 60: 'dining table', 61: 'toilet', 62: 'tv', 63: 'laptop', 64: 'mouse', 65: 'remote', 66: 'keyboard', 67: 'cell phone', 68: 'microwave', 69: 'oven', 70: 'toaster', 71: 'sink', 72: 'refrigerator', 73: 'book', 74: 'clock', 75: 'vase', 76: 'scissors', 77: 'teddy bear', 78: 'hair drier', 79: 'toothbrush'}\n",
        "\n",
        "    if isinstance(targets, torch.Tensor):\n",
        "        targets = targets.cpu().numpy()\n",
        "\n",
        "    if np.max(img) <= 1:\n",
        "        img *= 255\n",
        "\n",
        "    _, h, w = img.shape  #\n",
        "\n",
        "\n",
        "    # Check if we should resize\n",
        "    scale_factor = max_size / np.max([h, w])\n",
        "\n",
        "    if scale_factor < 1:\n",
        "        h = math.ceil(scale_factor * h)\n",
        "        w = math.ceil(scale_factor * w)\n",
        "\n",
        "    colors = color_list()  # list of colors\n",
        "    mosaic = np.full((int(h), int(w), 3), 255, dtype=np.uint8)  # init\n",
        "\n",
        "\n",
        "    img = img.transpose(1, 2, 0)\n",
        "    if scale_factor < 1:\n",
        "        img = cv2.resize(img, (w, h))\n",
        "\n",
        "    mosaic[:h, :w, :] = img\n",
        "\n",
        "    if len(targets) > 0:\n",
        "\n",
        "        image_targets = targets[targets[:, 0] == 0]\n",
        "\n",
        "        boxes = xywh2xyxy(image_targets[:, 2:6]).T\n",
        "        classes = image_targets[:, 1].astype('int')\n",
        "        labels = image_targets.shape[1] == 6  # labels if no conf column\n",
        "        conf = None if labels else image_targets[:, 6]  # check for confidence presence (label vs pred)\n",
        "\n",
        "        if boxes.shape[1]:\n",
        "\n",
        "            if boxes.max() <= 1.01:  # if normalized with tolerance 0.01\n",
        "                boxes[[0, 2]] *= w  # scale to pixels\n",
        "                boxes[[1, 3]] *= h\n",
        "\n",
        "            elif scale_factor < 1:  # absolute coords need scale if image scales\n",
        "                boxes *= scale_factor\n",
        "\n",
        "        for j, box in enumerate(boxes.T):\n",
        "\n",
        "            cls = int(classes[j])\n",
        "            color = colors[cls % len(colors)]\n",
        "            cls = names[cls]\n",
        "\n",
        "            if labels or conf[j] > 0.25:  # 0.25 conf thresh\n",
        "                label = '%s' % cls if labels else '%s %.1f' % (cls, conf[j])\n",
        "                plot_one_box(box, mosaic, label=label, color=color, line_thickness=tl)\n",
        "\n",
        "\n",
        "\n",
        "    r = min(1280. / np.max([h, w]), 1.0)  # ratio to limit image size\n",
        "    mosaic = cv2.resize(mosaic, (int(w * r), int(h * r)), interpolation=cv2.INTER_AREA)\n",
        "\n",
        "\n",
        "    return mosaic\n",
        "\n",
        "\n",
        "\n",
        "def box_area(boxes):\n",
        "    return (boxes[:, 2] - boxes[:, 0]) * (boxes[:, 3] - boxes[:, 1])\n",
        "\n",
        "def box_iou(box1, box2):\n",
        "\n",
        "\n",
        "    area1 = box_area(box1)  # N\n",
        "    area2 = box_area(box2)  # M\n",
        "\n",
        "\n",
        "    lt = np.maximum(box1[:, np.newaxis, :2], box2[:, :2])\n",
        "    rb = np.minimum(box1[:, np.newaxis, 2:], box2[:, 2:])\n",
        "    wh = rb - lt\n",
        "    wh = np.maximum(0, wh) # [N, M, 2]\n",
        "    inter = wh[:, :, 0] * wh[:, :, 1]\n",
        "    iou = inter / (area1[:, np.newaxis] + area2 - inter)\n",
        "    return iou  # NxM\n",
        "\n",
        "\n",
        "\n",
        "def numpy_nms(boxes, scores, iou_threshold):\n",
        "\n",
        "    idxs = scores.argsort()\n",
        "    keep = []\n",
        "    while idxs.size > 0:\n",
        "        max_score_index = idxs[-1]\n",
        "        max_score_box = boxes[max_score_index][None, :]\n",
        "        keep.append(max_score_index)\n",
        "\n",
        "        if idxs.size == 1:\n",
        "            break\n",
        "        idxs = idxs[:-1]\n",
        "        other_boxes = boxes[idxs]  # [?, 4]\n",
        "        # print(f\"max_score_box.shape: {max_score_box.shape}, other_boxes.shape: {other_boxes.shape}\")\n",
        "        ious = box_iou(max_score_box, other_boxes)\n",
        "        idxs = idxs[ious[0] <= iou_threshold]\n",
        "\n",
        "    keep = np.array(keep)\n",
        "    return keep\n",
        "\n",
        "\n",
        "\n",
        "\n",
        "def non_max_suppression(prediction, conf_thres=0.25, iou_thres=0.45, classes=None, agnostic=False, multi_label=False,\n",
        "                        labels=()):\n",
        "\n",
        "    nc = prediction.shape[2] - 5  # number of classes\n",
        "    xc = prediction[..., 4] > conf_thres  # candidates\n",
        "\n",
        "    # Settings\n",
        "    min_wh, max_wh = 2, 4096  # (pixels) minimum and maximum box width and height\n",
        "    max_det = 300  # maximum number of detections per image\n",
        "    max_nms = 30000  # maximum number of boxes into torchvision.ops.nms()\n",
        "    time_limit = 10.0  # seconds to quit after\n",
        "    redundant = True  # require redundant detections\n",
        "    multi_label &= nc > 1  # multiple labels per box (adds 0.5ms/img)\n",
        "    merge = False  # use merge-NMS\n",
        "\n",
        "    output = [np.zeros((0, 6))] * prediction.shape[0]\n",
        "\n",
        "    for xi, x in enumerate(prediction):  # image index, image inference\n",
        "        # Apply constraints\n",
        "        # x[((x[..., 2:4] < min_wh) | (x[..., 2:4] > max_wh)).any(1), 4] = 0  # width-height\n",
        "        x = x[xc[xi]]  # confidence\n",
        "\n",
        "\n",
        "        # If none remain process next image\n",
        "        if not x.shape[0]:\n",
        "            continue\n",
        "\n",
        "        # Compute conf\n",
        "        if nc == 1:\n",
        "            x[:, 5:] = x[:, 4:5]\n",
        "\n",
        "        else:\n",
        "            x[:, 5:] *= x[:, 4:5]\n",
        "\n",
        "        # Box (center x, center y, width, height) to (x1, y1, x2, y2)\n",
        "        box = xywh2xyxy(x[:, :4])\n",
        "\n",
        "        # Detections matrix nx6 (xyxy, conf, cls)\n",
        "        i, j = (x[:, 5:] > conf_thres).nonzero()\n",
        "\n",
        "        # x = torch.cat((box[i], x[i, j + 5, None], j[:, None].float()), 1)\n",
        "        x = np.concatenate((box[i], x[i, j + 5, None], j[:, None].astype(np.float32)), axis=1)\n",
        "\n",
        "\n",
        "        # Check shape\n",
        "        n = x.shape[0]  # number of boxes\n",
        "        if not n:  # no boxes\n",
        "            continue\n",
        "        elif n > max_nms:  # excess boxes\n",
        "            x = x[x[:, 4].argsort()[-max_nms:]][::-1]  # sort by confidence\n",
        "\n",
        "        # Batched NMS\n",
        "        c = x[:, 5:6] *  max_wh  # classes\n",
        "        boxes, scores = x[:, :4] + c, x[:, 4]  # boxes (offset by class), scores\n",
        "\n",
        "        # i = torchvision.ops.nms(boxes, scores, iou_thres)  # NMS\n",
        "        i = numpy_nms(boxes, scores, iou_thres)\n",
        "\n",
        "        if i.shape[0] > max_det:  # limit detections\n",
        "            i = i[:max_det]\n",
        "\n",
        "        output[xi] = x[i]\n",
        "\n",
        "    return output\n",
        "\n",
        "\n",
        "\n",
        "def output_to_target(output):\n",
        "\n",
        "    targets = []\n",
        "    for i, o in enumerate(output):\n",
        "        for *box, conf, cls in o:\n",
        "            targets.append([i, cls, *list(*xyxy2xywh(np.array(box)[None])), conf])\n",
        "    return np.array(targets)\n"
      ],
      "metadata": {
        "id": "GRabClGPOZMu"
      },
      "execution_count": 3,
      "outputs": []
    },
    {
      "cell_type": "markdown",
      "source": [
        "## generate para_dict"
      ],
      "metadata": {
        "id": "vamLU-Ahb1pk"
      }
    },
    {
      "cell_type": "code",
      "source": [
        "\n",
        "from pathlib import Path\n",
        "import numpy as np\n",
        "import torch\n",
        "import yaml\n",
        "from tqdm import tqdm\n",
        "from models.experimental import attempt_load\n",
        "from utils.datasets import create_dataloader\n",
        "from utils.torch_utils import select_device\n",
        "import torch.nn as nn\n",
        "from utils.general import colorstr\n",
        "import numpy as np\n",
        "\n",
        "\n",
        "layer_names = [\"models.common.Conv\"]\n",
        "\n",
        "\n",
        "def get_slice_bram_shape(x_shape):\n",
        "\n",
        "    c = x_shape[0]\n",
        "    h = x_shape[1]\n",
        "    w = x_shape[2]\n",
        "\n",
        "    bram_sz = 512 * 64 # The 36kb-BRAM's are configured as having 512 entries, each is 64-bits.\n",
        "    n_max_bram = 80\n",
        "\n",
        "    if(h < 4):\n",
        "        print(\"Error: h need to be >= 4\")\n",
        "        return\n",
        "\n",
        "\n",
        "    if(np.ceil((c * h * 16) / bram_sz) >= 1):\n",
        "\n",
        "        n_bram_per_slice = np.ceil((c * h * 16) / bram_sz)\n",
        "\n",
        "        n_bram_column = n_bram_per_slice\n",
        "        n_bram_channel = 1\n",
        "\n",
        "        done = False\n",
        "        # while((not done) and (n_bram_column > 1)):\n",
        "        while(not done):\n",
        "\n",
        "\n",
        "            if(h % n_bram_column != 0):\n",
        "                print(\"Error: h % n_bram_column != 0\")\n",
        "                return\n",
        "\n",
        "            if(h / n_bram_column >= 4):\n",
        "                done = True\n",
        "            elif(n_bram_column == 1):\n",
        "                break\n",
        "            else:\n",
        "                n_bram_column /= 2\n",
        "                n_bram_channel *= 2\n",
        "\n",
        "        if(not done):\n",
        "\n",
        "            print(\"Error: not done\")\n",
        "            return\n",
        "\n",
        "        n_max_slice = np.floor(n_max_bram / n_bram_per_slice)\n",
        "\n",
        "        if(n_max_slice < w):\n",
        "            shape = [n_bram_channel, n_bram_column, n_max_slice]\n",
        "            split_count = np.ceil(w / n_max_slice)\n",
        "            return shape, split_count\n",
        "        else:\n",
        "\n",
        "            if(n_max_slice % w != 0):\n",
        "                print(\"Error: n_max_slice % w != 0\")\n",
        "                return\n",
        "\n",
        "            shape = [n_bram_channel * (n_max_slice / w), n_bram_column, w]\n",
        "            split_count = 1\n",
        "            return shape, split_count\n",
        "\n",
        "\n",
        "\n",
        "\n",
        "\n",
        "\n",
        "def forward_once(model, x, mod_dict):\n",
        "\n",
        "    y = []  # outputs\n",
        "    n_total_mul = 0\n",
        "    n_total_para = 0\n",
        "\n",
        "    print('{0: <15}'.format(f\"\"),\n",
        "          '{0: <25}'.format(f\"from\"),\n",
        "          '{0: <25}'.format(f\"reshape buffer shape\"),\n",
        "          '{0: <15}'.format(f\"out shape\"),\n",
        "          '{0: <12}'.format(f\"size (kb)\"),\n",
        "          '{0: <20}'.format(f\"kernel shape\"),\n",
        "          '{0: <20}'.format(f\"n_para (k)\"),\n",
        "          '{0: <20}'.format(f\"n_mul (M)\")\n",
        "          )\n",
        "\n",
        "\n",
        "\n",
        "    for m in model.model:\n",
        "\n",
        "        if m.f != -1:  # if not from previous layer\n",
        "            x = y[m.f] if isinstance(m.f, int) else [x if j == -1 else y[j] for j in m.f]  # from earlier layers\n",
        "\n",
        "        mod_dict[m.i] = {\"fromId\": m.f, \"mod_type\": m.type, \"args\": {}, \"para\": {}}\n",
        "\n",
        "        n_para = 0\n",
        "        n_mul = 0\n",
        "        kernel_shape = -1\n",
        "\n",
        "        slice_bram_shape, split_count = -1, -1\n",
        "\n",
        "        if(m.type == \"models.common.Conv\"):\n",
        "            mod_dict[m.i][\"args\"][\"Conv2d\"] = {}\n",
        "            mod_dict[m.i][\"args\"][\"Conv2d\"][\"stride\"] = m.conv.stride\n",
        "            mod_dict[m.i][\"args\"][\"Conv2d\"][\"padding\"] = m.conv.padding\n",
        "            mod_dict[m.i][\"args\"][\"Conv2d\"][\"kernel_size\"] = m.conv.kernel_size\n",
        "\n",
        "            mod_dict[m.i][\"args\"][\"Conv2d\"][\"act_func\"] = \"SiLU\"\n",
        "\n",
        "\n",
        "            h = x.shape[2]\n",
        "            w = x.shape[3]\n",
        "            k1 = m.conv.kernel_size[0]\n",
        "            k2 = m.conv.kernel_size[1]\n",
        "            c1 = m.conv.in_channels\n",
        "            c2 = m.conv.out_channels\n",
        "            n_para += k1 * k2 * c1 * c2\n",
        "            n_mul += k1 * k2 * w * h * c1 * c2\n",
        "            kernel_shape = [c2, c1, k1, k2]\n",
        "\n",
        "            slice_bram_shape, split_count = get_slice_bram_shape(list(x[0].shape))\n",
        "\n",
        "        elif(m.type == \"models.common.Concat\"):\n",
        "            mod_dict[m.i][\"args\"][\"dim\"] = m.d\n",
        "        elif(m.type == \"models.common.MP\"):\n",
        "            mod_dict[m.i][\"args\"][\"kernel_size\"] = m.m.kernel_size\n",
        "            mod_dict[m.i][\"args\"][\"stride\"] = m.m.stride\n",
        "            mod_dict[m.i][\"args\"][\"padding\"] = m.m.padding\n",
        "        elif(m.type == \"torch.nn.modules.upsampling.Upsample\"):\n",
        "            mod_dict[m.i][\"args\"][\"scale_factor\"] = m.scale_factor\n",
        "            mod_dict[m.i][\"args\"][\"mode\"] = m.mode\n",
        "        elif(m.type == \"models.common.SPPCSPC\"):\n",
        "            mod_dict[m.i][\"args\"] = {\"mp\": {}, \"Conv2d\": {}}\n",
        "            for i in range(3):\n",
        "                mod_dict[m.i][\"args\"][\"mp\"][i] = {}\n",
        "                mod_dict[m.i][\"args\"][\"mp\"][i][\"kernel_size\"] = m.m[i].kernel_size\n",
        "                mod_dict[m.i][\"args\"][\"mp\"][i][\"stride\"] = m.m[i].stride\n",
        "                mod_dict[m.i][\"args\"][\"mp\"][i][\"padding\"] = m.m[i].padding\n",
        "\n",
        "            for i in range(1, 8):\n",
        "                mod_dict[m.i][\"args\"][\"Conv2d\"][i] = {}\n",
        "                mod_dict[m.i][\"args\"][\"Conv2d\"][i]['stride'] = getattr(m, f\"cv{i}\").conv.stride\n",
        "                mod_dict[m.i][\"args\"][\"Conv2d\"][i]['padding'] = getattr(m, f\"cv{i}\").conv.padding\n",
        "                mod_dict[m.i][\"args\"][\"Conv2d\"][i][\"kernel_size\"] = getattr(m, f\"cv{i}\").conv.kernel_size\n",
        "                mod_dict[m.i][\"args\"][\"Conv2d\"][i]['act_func'] = \"SiLU\"\n",
        "\n",
        "\n",
        "                h = x.shape[2]\n",
        "                w = x.shape[3]\n",
        "                k1 = getattr(m, f\"cv{i}\").conv.kernel_size[0]\n",
        "                k2 = getattr(m, f\"cv{i}\").conv.kernel_size[1]\n",
        "                c1 = getattr(m, f\"cv{i}\").conv.in_channels\n",
        "                c2 = getattr(m, f\"cv{i}\").conv.out_channels\n",
        "                n_para += k1 * k2 * c1 * c2\n",
        "                n_mul += k1 * k2 * w * h * c1 * c2\n",
        "\n",
        "\n",
        "        elif(m.type == \"models.common.RepConv\"):\n",
        "            mod_dict[m.i][\"args\"][\"Conv2d\"] = {}\n",
        "            mod_dict[m.i][\"args\"][\"Conv2d\"][\"stride\"] = m.rbr_reparam.stride\n",
        "            mod_dict[m.i][\"args\"][\"Conv2d\"][\"padding\"] = m.rbr_reparam.padding\n",
        "            mod_dict[m.i][\"args\"][\"Conv2d\"][\"kernel_size\"] = m.rbr_reparam.kernel_size\n",
        "            mod_dict[m.i][\"args\"][\"act_func\"] = str(m.act)\n",
        "\n",
        "\n",
        "            h = x.shape[2]\n",
        "            w = x.shape[3]\n",
        "            k1 = m.rbr_reparam.kernel_size[0]\n",
        "            k2 = m.rbr_reparam.kernel_size[1]\n",
        "            c1 = m.rbr_reparam.in_channels\n",
        "            c2 = m.rbr_reparam.out_channels\n",
        "            n_para += k1 * k2 * c1 * c2\n",
        "            n_mul += k1 * k2 * w * h * c1 * c2\n",
        "            kernel_shape = [c2, c1, k1, k2]\n",
        "\n",
        "        elif(m.type == \"models.yolo.Detect\"):\n",
        "            mod_dict[m.i][\"args\"][\"Conv2d\"] = {}\n",
        "            for i in range(3):\n",
        "                mod_dict[m.i][\"args\"][\"Conv2d\"][i] = {}\n",
        "                mod_dict[m.i][\"args\"][\"Conv2d\"][i][\"stride\"] = m.m[i].stride\n",
        "                mod_dict[m.i][\"args\"][\"Conv2d\"][i][\"padding\"] = m.m[i].padding\n",
        "                mod_dict[m.i][\"args\"][\"Conv2d\"][i][\"kernel_size\"] = m.m[i].kernel_size\n",
        "                mod_dict[m.i][\"args\"][\"Conv2d\"][i]['act_func'] = \"\"\n",
        "\n",
        "                h = x[i].shape[2]\n",
        "                w = x[i].shape[3]\n",
        "                k1 = m.m[i].kernel_size[0]\n",
        "                k2 = m.m[i].kernel_size[1]\n",
        "                c1 = m.m[i].in_channels\n",
        "                c2 = m.m[i].out_channels\n",
        "                n_para += k1 * k2 * c1 * c2\n",
        "                n_mul += k1 * k2 * w * h * c1 * c2\n",
        "\n",
        "\n",
        "        n_total_para += n_para\n",
        "        n_total_mul += n_mul\n",
        "\n",
        "\n",
        "\n",
        "\n",
        "        x = m(x)  # run\n",
        "        p = 1\n",
        "        for i in x[0].shape:\n",
        "          p *= i\n",
        "        # print(f\"[{m.i}] {m.type}, f: {m.f}, output shape: {list(x[0].shape)}, size (kb): {(p*2*8)/1000.0}, n_para (k): {n_para/1e3}, n_mul (M): {n_mul/1e6}\")\n",
        "\n",
        "\n",
        "\n",
        "        print('{0: <15}'.format(f\"[{m.i}] {m.type.split('.')[-1]}\"),\n",
        "              '{0: <25}'.format(f\"{m.f}\"),\n",
        "              '{0: <25}'.format(f\"{slice_bram_shape}, {split_count}\"),\n",
        "              '{0: <15}'.format(f\"{list(x[0].shape)}\"),\n",
        "              '{0: <12}'.format(f\"{round((p*2*8)/1000.0, 2)}\"),\n",
        "              '{0: <20}'.format(f\"{kernel_shape}\"),\n",
        "              '{0: <20}'.format(f\"{round(n_para/1e3, 2)} ({round(n_para/(1e1 * 36.881504 * 1e3), 2)} %)\"),\n",
        "              '{0: <20}'.format(f\"{round(n_mul/1e6, 2)} ({round(n_mul/(1e4 * 3674.46016), 2)} %)\")\n",
        "              )\n",
        "\n",
        "\n",
        "        # print()\n",
        "        for name, param in m.named_parameters():\n",
        "            # print(f\"    {name}: {param.shape}\")\n",
        "            mod_dict[m.i][\"para\"][name] = np.array(param).astype(np.float16).astype(np.float32)\n",
        "\n",
        "        # for m_i in m:\n",
        "        #     print(f\"{m_i}\")\n",
        "\n",
        "        y.append(x if m.i in model.save else None)  # save output\n",
        "\n",
        "\n",
        "\n",
        "    print(f\"n_total_mul: {n_total_mul / 1e6} M\")\n",
        "    print(f\"n_total_para: {n_total_para / 1e6} M\")\n",
        "\n",
        "    return x\n",
        "\n",
        "\n",
        "\n",
        "def test(data,\n",
        "         weights=None,\n",
        "         batch_size=32,\n",
        "         imgsz=640,\n",
        "         conf_thres=0.001,\n",
        "         iou_thres=0.6,  # for NMS\n",
        "         save_json=False,\n",
        "         single_cls=False,\n",
        "         augment=False,\n",
        "         verbose=False,\n",
        "         model=None,\n",
        "         dataloader=None,\n",
        "         save_dir=Path(''),  # for saving images\n",
        "         save_txt=False,  # for auto-labelling\n",
        "         save_hybrid=False,  # for hybrid auto-labelling\n",
        "         save_conf=False,  # save auto-label confidences\n",
        "         plots=True,\n",
        "         wandb_logger=None,\n",
        "         compute_loss=None,\n",
        "         half_precision=True,\n",
        "         trace=False,\n",
        "         is_coco=False,\n",
        "         show_div_cams=False,\n",
        "         para_dict={}):\n",
        "\n",
        "\n",
        "    batch_size = 1\n",
        "    n_batch = 1\n",
        "\n",
        "    device = select_device(opt.device, batch_size=batch_size)\n",
        "\n",
        "    # # Directories\n",
        "    # save_dir = Path(increment_path(Path(opt.project) / opt.name, exist_ok=opt.exist_ok))  # increment run\n",
        "    # (save_dir / 'labels' if save_txt else save_dir).mkdir(parents=True, exist_ok=True)  # make dir\n",
        "\n",
        "    # Load model\n",
        "    model = attempt_load(weights, map_location=device)  # load FP32 model\n",
        "\n",
        "    gs = max(int(model.stride.max()), 32)  # grid size (max stride)\n",
        "    # imgsz = check_img_size(imgsz, s=gs)  # check img_size\n",
        "\n",
        "    # Half\n",
        "    half = device.type != 'cpu' and half_precision  # half precision only supported on CUDA\n",
        "    if half:\n",
        "        model.half()\n",
        "\n",
        "    # Configure\n",
        "    model.eval()\n",
        "    if isinstance(data, str):\n",
        "        with open(data) as f:\n",
        "            data = yaml.load(f, Loader=yaml.SafeLoader)\n",
        "    # check_dataset(data)  # check\n",
        "\n",
        "    # print(f\"model: {model}\")\n",
        "\n",
        "    # Dataloader\n",
        "    if device.type != 'cpu':\n",
        "        model(torch.zeros(1, 3, imgsz, imgsz).to(device).type_as(next(model.parameters())))  # run once\n",
        "    task = opt.task if opt.task in ('train', 'val', 'test') else 'val'  # path to train/val/test images\n",
        "    dataloader = create_dataloader(data[task], imgsz, batch_size, gs, opt, pad=0.5, rect=True,\n",
        "                                    prefix=colorstr(f'{task}: '))[0]\n",
        "\n",
        "    names = {k: v for k, v in enumerate(model.names if hasattr(model, 'names') else model.module.names)}\n",
        "\n",
        "\n",
        "\n",
        "    model = torch.ao.quantization.quantize_dynamic(\n",
        "        model,              # the original model\n",
        "        {torch.nn.Conv2d},  # a set of layers to dynamically quantize\n",
        "        dtype=torch.qint8)  # the target dtype for quantized weights\n",
        "\n",
        "\n",
        "\n",
        "    para_dict[\"input_img\"] = []\n",
        "    para_dict['out'] = []\n",
        "    for batch_i, (img, targets, paths, shapes) in enumerate(dataloader):\n",
        "\n",
        "        if(batch_i >= n_batch): break\n",
        "\n",
        "\n",
        "\n",
        "        # plt.imshow(img[0].permute(2, 1, 0), interpolation='nearest')\n",
        "        # plt.show()\n",
        "\n",
        "        # para_dict[\"input_img\"] = img[0].permute(1, 2, 0).numpy()\n",
        "        para_dict[\"input_img\"].append(img[0].numpy())\n",
        "\n",
        "\n",
        "\n",
        "\n",
        "        img = img.to(device, non_blocking=True)\n",
        "        img = img.half() if half else img.float()  # uint8 to fp16/32\n",
        "        img /= 255.0  # 0 - 255 to 0.0 - 1.0\n",
        "        nb, _, height, width = img.shape  # batch size, channels, height, width\n",
        "\n",
        "\n",
        "\n",
        "\n",
        "\n",
        "        print(f\"\\n>>> img.shape: {img.shape}\")\n",
        "\n",
        "        m = nn.modules.upsampling.Upsample(scale_factor=0.5, mode='nearest')\n",
        "        img = m(img)\n",
        "\n",
        "        print(f\">>> img.shape: {img.shape}\")\n",
        "\n",
        "        p2d = (0, 0, 0, 80)\n",
        "        img = torch.nn.functional.pad(img, p2d, \"constant\", 0)\n",
        "        img = img[..., :-16]\n",
        "        print(f\">>> img.shape: {img.shape}\")\n",
        "\n",
        "\n",
        "\n",
        "        m2 = nn.modules.upsampling.Upsample(scale_factor=0.5, mode='nearest')\n",
        "        img = m2(img)\n",
        "        img = img[:, :, :128, :]\n",
        "\n",
        "        print(f\">>> img.shape: {img.shape}\")\n",
        "\n",
        "\n",
        "        with torch.no_grad():\n",
        "\n",
        "            para_dict[\"mod_dict\"] = {}\n",
        "            out, _ = forward_once(model, img, para_dict[\"mod_dict\"])\n",
        "\n",
        "\n",
        "\n",
        "            para_dict['out'].append(out.detach().numpy())\n",
        "\n",
        "\n",
        "\n",
        "    s = f\"\\n{len(list(save_dir.glob('labels/*.txt')))} labels saved to {save_dir / 'labels'}\" if save_txt else ''\n",
        "    print(f\"Results saved to {save_dir}{s}\")\n",
        "\n",
        "\n",
        "\n",
        "\n",
        "\n",
        "\n",
        "\n",
        "class AttrDict(dict):\n",
        "    def __init__(self, *args, **kwargs):\n",
        "        super(AttrDict, self).__init__(*args, **kwargs)\n",
        "        self.__dict__ = self\n",
        "\n",
        "\n",
        "opt = AttrDict(weights=['./yolov7.pt'],\n",
        "          data='data/citycam.yaml',\n",
        "          batch_size=32,\n",
        "          img_size=640,\n",
        "          conf_thres=0.001, iou_thres=0.65,\n",
        "          task='test',\n",
        "          device='',\n",
        "          single_cls=False,\n",
        "          augment=False,\n",
        "          verbose=True,\n",
        "          save_txt=False,\n",
        "          save_hybrid=False,\n",
        "          save_conf=False,\n",
        "          save_json=False,\n",
        "          project='runs/test/Q1',\n",
        "          name='refine',\n",
        "          exist_ok=False,\n",
        "          no_trace=False,\n",
        "          show_div_cams=True)\n",
        "\n",
        "\n",
        "para_dict = {\"mod_dict\": {}}\n",
        "\n",
        "test(opt.data,\n",
        "     opt.weights,\n",
        "     opt.batch_size,\n",
        "     opt.img_size,\n",
        "     opt.conf_thres,\n",
        "     opt.iou_thres,\n",
        "     opt.save_json,\n",
        "     opt.single_cls,\n",
        "     opt.augment,\n",
        "     opt.verbose,\n",
        "     save_txt= opt.save_txt | opt.save_hybrid,\n",
        "     save_hybrid= opt.save_hybrid,\n",
        "     save_conf= opt.save_conf,\n",
        "     trace=not opt.no_trace,\n",
        "     show_div_cams= opt.show_div_cams,\n",
        "     para_dict=para_dict\n",
        ")\n",
        "\n",
        "\n",
        "\n",
        "for i in range(len(para_dict['out'])):\n",
        "\n",
        "    out = non_max_suppression(para_dict['out'][i], conf_thres=0.001, iou_thres=0.6, labels=[], multi_label=True)\n",
        "\n",
        "    img = para_dict['input_img'][i]\n",
        "    img = img.astype(np.float32) / 255.0\n",
        "\n",
        "    img = img[:,::2, ::2]\n",
        "\n",
        "    pad = np.zeros((img.shape[0], 80, img.shape[2]))\n",
        "    img = np.concatenate((img, pad), axis=1)\n",
        "    img = img[..., :-16]\n",
        "    img = img[:,::2, ::2]\n",
        "    img = img[:, :128, :]\n",
        "\n",
        "    mosaic = plot_images(img, output_to_target(out))\n",
        "\n",
        "    plt.imshow(mosaic, interpolation='nearest')\n",
        "    plt.show()\n",
        "\n",
        "\n",
        "\n"
      ],
      "metadata": {
        "colab": {
          "base_uri": "https://localhost:8080/",
          "height": 1000
        },
        "id": "8VKzPvNAlBRM",
        "outputId": "e95e3bd3-9a12-4d7a-d6f6-dd5664320a7a"
      },
      "execution_count": 23,
      "outputs": [
        {
          "output_type": "stream",
          "name": "stdout",
          "text": [
            "Fusing layers... \n",
            "RepConv.fuse_repvgg_block\n",
            "RepConv.fuse_repvgg_block\n",
            "RepConv.fuse_repvgg_block\n",
            "self.label_files: ['/content/drive/MyDrive/colab_experiment/RBPJ/yolo7-test/yolov7/data/CityCam/test/410/410-20160429-07-000035.txt', '/content/drive/MyDrive/colab_experiment/RBPJ/yolo7-test/yolov7/data/CityCam/test/410/410-20160429-07-000068.txt', '/content/drive/MyDrive/colab_experiment/RBPJ/yolo7-test/yolov7/data/CityCam/test/410/410-20160429-07-000094.txt', '/content/drive/MyDrive/colab_experiment/RBPJ/yolo7-test/yolov7/data/CityCam/test/410/410-20160429-07-000185.txt', '/content/drive/MyDrive/colab_experiment/RBPJ/yolo7-test/yolov7/data/CityCam/test/410/410-20160429-07-000459.txt', '/content/drive/MyDrive/colab_experiment/RBPJ/yolo7-test/yolov7/data/CityCam/test/410/410-20160429-07-000469.txt']\n"
          ]
        },
        {
          "output_type": "stream",
          "name": "stderr",
          "text": [
            "\u001b[34m\u001b[1mtest: \u001b[0mScanning '/content/drive/MyDrive/colab_experiment/RBPJ/yolo7-test/yolov7/data/CityCam/test.cache' images and labels... 6 found, 0 missing, 0 empty, 0 corrupted: 100%|██████████| 6/6 [00:00<?, ?it/s]\n"
          ]
        },
        {
          "output_type": "stream",
          "name": "stdout",
          "text": [
            "len(dataset): 6\n",
            "\n",
            ">>> img.shape: torch.Size([1, 3, 480, 672])\n",
            ">>> img.shape: torch.Size([1, 3, 240, 336])\n",
            ">>> img.shape: torch.Size([1, 3, 320, 320])\n",
            ">>> img.shape: torch.Size([1, 3, 128, 160])\n",
            "                from                      reshape buffer shape      out shape       size (kb)    kernel shape         n_para (k)           n_mul (M)           \n",
            "[0] Conv        -1                        [1, 1.0, 80.0], 2.0       [32, 128, 160]  10485.76     [32, 3, 3, 3]        0.86 (0.0 %)         17.69 (0.48 %)      \n",
            "[1] Conv        -1                        [1, 2.0, 40.0], 4.0       [64, 64, 80]    5242.88      [64, 32, 3, 3]       18.43 (0.05 %)       377.49 (10.27 %)    \n",
            "[2] Conv        -1                        [1, 2.0, 40.0], 2.0       [64, 64, 80]    5242.88      [64, 64, 3, 3]       36.86 (0.1 %)        188.74 (5.14 %)     \n",
            "[3] Conv        -1                        [1, 2.0, 40.0], 2.0       [128, 32, 40]   2621.44      [128, 64, 3, 3]      73.73 (0.2 %)        377.49 (10.27 %)    \n",
            "[4] Conv        -1                        [1.0, 2.0, 40], 1         [64, 32, 40]    1310.72      [64, 128, 1, 1]      8.19 (0.02 %)        10.49 (0.29 %)      \n",
            "[5] Conv        -2                        [1.0, 2.0, 40], 1         [64, 32, 40]    1310.72      [64, 128, 1, 1]      8.19 (0.02 %)        10.49 (0.29 %)      \n",
            "[6] Conv        -1                        [2.0, 1.0, 40], 1         [64, 32, 40]    1310.72      [64, 64, 3, 3]       36.86 (0.1 %)        47.19 (1.28 %)      \n",
            "[7] Conv        -1                        [2.0, 1.0, 40], 1         [64, 32, 40]    1310.72      [64, 64, 3, 3]       36.86 (0.1 %)        47.19 (1.28 %)      \n",
            "[8] Conv        -1                        [2.0, 1.0, 40], 1         [64, 32, 40]    1310.72      [64, 64, 3, 3]       36.86 (0.1 %)        47.19 (1.28 %)      \n",
            "[9] Conv        -1                        [2.0, 1.0, 40], 1         [64, 32, 40]    1310.72      [64, 64, 3, 3]       36.86 (0.1 %)        47.19 (1.28 %)      \n",
            "[10] Concat     [-1, -3, -5, -6]          -1, -1                    [256, 32, 40]   5242.88      -1                   0.0 (0.0 %)          0.0 (0.0 %)         \n",
            "[11] Conv       -1                        [1, 4.0, 20.0], 2.0       [256, 32, 40]   5242.88      [256, 256, 1, 1]     65.54 (0.18 %)       83.89 (2.28 %)      \n",
            "[12] MP         -1                        -1, -1                    [256, 16, 20]   1310.72      -1                   0.0 (0.0 %)          0.0 (0.0 %)         \n",
            "[13] Conv       -1                        [2.0, 2.0, 20], 1         [128, 16, 20]   655.36       [128, 256, 1, 1]     32.77 (0.09 %)       10.49 (0.29 %)      \n",
            "[14] Conv       -3                        [1, 4.0, 20.0], 2.0       [128, 32, 40]   2621.44      [128, 256, 1, 1]     32.77 (0.09 %)       41.94 (1.14 %)      \n",
            "[15] Conv       -1                        [1.0, 2.0, 40], 1         [128, 16, 20]   655.36       [128, 128, 3, 3]     147.46 (0.4 %)       188.74 (5.14 %)     \n",
            "[16] Concat     [-1, -3]                  -1, -1                    [256, 16, 20]   1310.72      -1                   0.0 (0.0 %)          0.0 (0.0 %)         \n",
            "[17] Conv       -1                        [2.0, 2.0, 20], 1         [128, 16, 20]   655.36       [128, 256, 1, 1]     32.77 (0.09 %)       10.49 (0.29 %)      \n",
            "[18] Conv       -2                        [2.0, 2.0, 20], 1         [128, 16, 20]   655.36       [128, 256, 1, 1]     32.77 (0.09 %)       10.49 (0.29 %)      \n",
            "[19] Conv       -1                        [4.0, 1.0, 20], 1         [128, 16, 20]   655.36       [128, 128, 3, 3]     147.46 (0.4 %)       47.19 (1.28 %)      \n",
            "[20] Conv       -1                        [4.0, 1.0, 20], 1         [128, 16, 20]   655.36       [128, 128, 3, 3]     147.46 (0.4 %)       47.19 (1.28 %)      \n",
            "[21] Conv       -1                        [4.0, 1.0, 20], 1         [128, 16, 20]   655.36       [128, 128, 3, 3]     147.46 (0.4 %)       47.19 (1.28 %)      \n",
            "[22] Conv       -1                        [4.0, 1.0, 20], 1         [128, 16, 20]   655.36       [128, 128, 3, 3]     147.46 (0.4 %)       47.19 (1.28 %)      \n",
            "[23] Concat     [-1, -3, -5, -6]          -1, -1                    [512, 16, 20]   2621.44      -1                   0.0 (0.0 %)          0.0 (0.0 %)         \n",
            "[24] Conv       -1                        [1.0, 4.0, 20], 1         [512, 16, 20]   2621.44      [512, 512, 1, 1]     262.14 (0.71 %)      83.89 (2.28 %)      \n",
            "[25] MP         -1                        -1, -1                    [512, 8, 10]    655.36       -1                   0.0 (0.0 %)          0.0 (0.0 %)         \n",
            "[26] Conv       -1                        [4.0, 2.0, 10], 1         [256, 8, 10]    327.68       [256, 512, 1, 1]     131.07 (0.36 %)      10.49 (0.29 %)      \n",
            "[27] Conv       -3                        [1.0, 4.0, 20], 1         [256, 16, 20]   1310.72      [256, 512, 1, 1]     131.07 (0.36 %)      41.94 (1.14 %)      \n",
            "[28] Conv       -1                        [2.0, 2.0, 20], 1         [256, 8, 10]    327.68       [256, 256, 3, 3]     589.82 (1.6 %)       188.74 (5.14 %)     \n",
            "[29] Concat     [-1, -3]                  -1, -1                    [512, 8, 10]    655.36       -1                   0.0 (0.0 %)          0.0 (0.0 %)         \n",
            "[30] Conv       -1                        [4.0, 2.0, 10], 1         [256, 8, 10]    327.68       [256, 512, 1, 1]     131.07 (0.36 %)      10.49 (0.29 %)      \n",
            "[31] Conv       -2                        [4.0, 2.0, 10], 1         [256, 8, 10]    327.68       [256, 512, 1, 1]     131.07 (0.36 %)      10.49 (0.29 %)      \n",
            "[32] Conv       -1                        [8.0, 1.0, 10], 1         [256, 8, 10]    327.68       [256, 256, 3, 3]     589.82 (1.6 %)       47.19 (1.28 %)      \n",
            "[33] Conv       -1                        [8.0, 1.0, 10], 1         [256, 8, 10]    327.68       [256, 256, 3, 3]     589.82 (1.6 %)       47.19 (1.28 %)      \n",
            "[34] Conv       -1                        [8.0, 1.0, 10], 1         [256, 8, 10]    327.68       [256, 256, 3, 3]     589.82 (1.6 %)       47.19 (1.28 %)      \n",
            "[35] Conv       -1                        [8.0, 1.0, 10], 1         [256, 8, 10]    327.68       [256, 256, 3, 3]     589.82 (1.6 %)       47.19 (1.28 %)      \n",
            "[36] Concat     [-1, -3, -5, -6]          -1, -1                    [1024, 8, 10]   1310.72      -1                   0.0 (0.0 %)          0.0 (0.0 %)         \n",
            "[37] Conv       -1                        [4.0, 2.0, 10], 1         [1024, 8, 10]   1310.72      [1024, 1024, 1, 1]   1048.58 (2.84 %)     83.89 (2.28 %)      \n",
            "[38] MP         -1                        -1, -1                    [1024, 4, 5]    327.68       -1                   0.0 (0.0 %)          0.0 (0.0 %)         \n",
            "[39] Conv       -1                        [16.0, 1.0, 5], 1         [512, 4, 5]     163.84       [512, 1024, 1, 1]    524.29 (1.42 %)      10.49 (0.29 %)      \n",
            "[40] Conv       -3                        [4.0, 2.0, 10], 1         [512, 8, 10]    655.36       [512, 1024, 1, 1]    524.29 (1.42 %)      41.94 (1.14 %)      \n",
            "[41] Conv       -1                        [4.0, 2.0, 10], 1         [512, 4, 5]     163.84       [512, 512, 3, 3]     2359.3 (6.4 %)       188.74 (5.14 %)     \n",
            "[42] Concat     [-1, -3]                  -1, -1                    [1024, 4, 5]    327.68       -1                   0.0 (0.0 %)          0.0 (0.0 %)         \n",
            "[43] Conv       -1                        [16.0, 1.0, 5], 1         [256, 4, 5]     81.92        [256, 1024, 1, 1]    262.14 (0.71 %)      5.24 (0.14 %)       \n",
            "[44] Conv       -2                        [16.0, 1.0, 5], 1         [256, 4, 5]     81.92        [256, 1024, 1, 1]    262.14 (0.71 %)      5.24 (0.14 %)       \n",
            "[45] Conv       -1                        [16.0, 1.0, 5], 1         [256, 4, 5]     81.92        [256, 256, 3, 3]     589.82 (1.6 %)       11.8 (0.32 %)       \n",
            "[46] Conv       -1                        [16.0, 1.0, 5], 1         [256, 4, 5]     81.92        [256, 256, 3, 3]     589.82 (1.6 %)       11.8 (0.32 %)       \n",
            "[47] Conv       -1                        [16.0, 1.0, 5], 1         [256, 4, 5]     81.92        [256, 256, 3, 3]     589.82 (1.6 %)       11.8 (0.32 %)       \n",
            "[48] Conv       -1                        [16.0, 1.0, 5], 1         [256, 4, 5]     81.92        [256, 256, 3, 3]     589.82 (1.6 %)       11.8 (0.32 %)       \n",
            "[49] Concat     [-1, -3, -5, -6]          -1, -1                    [1024, 4, 5]    327.68       -1                   0.0 (0.0 %)          0.0 (0.0 %)         \n",
            "[50] Conv       -1                        [16.0, 1.0, 5], 1         [1024, 4, 5]    327.68       [1024, 1024, 1, 1]   1048.58 (2.84 %)     20.97 (0.57 %)      \n",
            "[51] SPPCSPC    -1                        -1, -1                    [512, 4, 5]     163.84       -1                   7602.18 (20.61 %)    152.04 (4.14 %)     \n",
            "[52] Conv       -1                        [16.0, 1.0, 5], 1         [256, 4, 5]     81.92        [256, 512, 1, 1]     131.07 (0.36 %)      2.62 (0.07 %)       \n",
            "[53] Upsample   -1                        -1, -1                    [256, 8, 10]    327.68       -1                   0.0 (0.0 %)          0.0 (0.0 %)         \n",
            "[54] Conv       37                        [4.0, 2.0, 10], 1         [256, 8, 10]    327.68       [256, 1024, 1, 1]    262.14 (0.71 %)      20.97 (0.57 %)      \n",
            "[55] Concat     [-1, -2]                  -1, -1                    [512, 8, 10]    655.36       -1                   0.0 (0.0 %)          0.0 (0.0 %)         \n",
            "[56] Conv       -1                        [4.0, 2.0, 10], 1         [256, 8, 10]    327.68       [256, 512, 1, 1]     131.07 (0.36 %)      10.49 (0.29 %)      \n",
            "[57] Conv       -2                        [4.0, 2.0, 10], 1         [256, 8, 10]    327.68       [256, 512, 1, 1]     131.07 (0.36 %)      10.49 (0.29 %)      \n",
            "[58] Conv       -1                        [8.0, 1.0, 10], 1         [128, 8, 10]    163.84       [128, 256, 3, 3]     294.91 (0.8 %)       23.59 (0.64 %)      \n",
            "[59] Conv       -1                        [8.0, 1.0, 10], 1         [128, 8, 10]    163.84       [128, 128, 3, 3]     147.46 (0.4 %)       11.8 (0.32 %)       \n",
            "[60] Conv       -1                        [8.0, 1.0, 10], 1         [128, 8, 10]    163.84       [128, 128, 3, 3]     147.46 (0.4 %)       11.8 (0.32 %)       \n",
            "[61] Conv       -1                        [8.0, 1.0, 10], 1         [128, 8, 10]    163.84       [128, 128, 3, 3]     147.46 (0.4 %)       11.8 (0.32 %)       \n",
            "[62] Concat     [-1, -2, -3, -4, -5, -6]  -1, -1                    [1024, 8, 10]   1310.72      -1                   0.0 (0.0 %)          0.0 (0.0 %)         \n",
            "[63] Conv       -1                        [4.0, 2.0, 10], 1         [256, 8, 10]    327.68       [256, 1024, 1, 1]    262.14 (0.71 %)      20.97 (0.57 %)      \n",
            "[64] Conv       -1                        [8.0, 1.0, 10], 1         [128, 8, 10]    163.84       [128, 256, 1, 1]     32.77 (0.09 %)       2.62 (0.07 %)       \n",
            "[65] Upsample   -1                        -1, -1                    [128, 16, 20]   655.36       -1                   0.0 (0.0 %)          0.0 (0.0 %)         \n",
            "[66] Conv       24                        [1.0, 4.0, 20], 1         [128, 16, 20]   655.36       [128, 512, 1, 1]     65.54 (0.18 %)       20.97 (0.57 %)      \n",
            "[67] Concat     [-1, -2]                  -1, -1                    [256, 16, 20]   1310.72      -1                   0.0 (0.0 %)          0.0 (0.0 %)         \n",
            "[68] Conv       -1                        [2.0, 2.0, 20], 1         [128, 16, 20]   655.36       [128, 256, 1, 1]     32.77 (0.09 %)       10.49 (0.29 %)      \n",
            "[69] Conv       -2                        [2.0, 2.0, 20], 1         [128, 16, 20]   655.36       [128, 256, 1, 1]     32.77 (0.09 %)       10.49 (0.29 %)      \n",
            "[70] Conv       -1                        [4.0, 1.0, 20], 1         [64, 16, 20]    327.68       [64, 128, 3, 3]      73.73 (0.2 %)        23.59 (0.64 %)      \n",
            "[71] Conv       -1                        [4.0, 1.0, 20], 1         [64, 16, 20]    327.68       [64, 64, 3, 3]       36.86 (0.1 %)        11.8 (0.32 %)       \n",
            "[72] Conv       -1                        [4.0, 1.0, 20], 1         [64, 16, 20]    327.68       [64, 64, 3, 3]       36.86 (0.1 %)        11.8 (0.32 %)       \n",
            "[73] Conv       -1                        [4.0, 1.0, 20], 1         [64, 16, 20]    327.68       [64, 64, 3, 3]       36.86 (0.1 %)        11.8 (0.32 %)       \n",
            "[74] Concat     [-1, -2, -3, -4, -5, -6]  -1, -1                    [512, 16, 20]   2621.44      -1                   0.0 (0.0 %)          0.0 (0.0 %)         \n",
            "[75] Conv       -1                        [1.0, 4.0, 20], 1         [128, 16, 20]   655.36       [128, 512, 1, 1]     65.54 (0.18 %)       20.97 (0.57 %)      \n",
            "[76] MP         -1                        -1, -1                    [128, 8, 10]    163.84       -1                   0.0 (0.0 %)          0.0 (0.0 %)         \n",
            "[77] Conv       -1                        [8.0, 1.0, 10], 1         [128, 8, 10]    163.84       [128, 128, 1, 1]     16.38 (0.04 %)       1.31 (0.04 %)       \n",
            "[78] Conv       -3                        [4.0, 1.0, 20], 1         [128, 16, 20]   655.36       [128, 128, 1, 1]     16.38 (0.04 %)       5.24 (0.14 %)       \n",
            "[79] Conv       -1                        [4.0, 1.0, 20], 1         [128, 8, 10]    163.84       [128, 128, 3, 3]     147.46 (0.4 %)       47.19 (1.28 %)      \n",
            "[80] Concat     [-1, -3, 63]              -1, -1                    [512, 8, 10]    655.36       -1                   0.0 (0.0 %)          0.0 (0.0 %)         \n",
            "[81] Conv       -1                        [4.0, 2.0, 10], 1         [256, 8, 10]    327.68       [256, 512, 1, 1]     131.07 (0.36 %)      10.49 (0.29 %)      \n",
            "[82] Conv       -2                        [4.0, 2.0, 10], 1         [256, 8, 10]    327.68       [256, 512, 1, 1]     131.07 (0.36 %)      10.49 (0.29 %)      \n",
            "[83] Conv       -1                        [8.0, 1.0, 10], 1         [128, 8, 10]    163.84       [128, 256, 3, 3]     294.91 (0.8 %)       23.59 (0.64 %)      \n",
            "[84] Conv       -1                        [8.0, 1.0, 10], 1         [128, 8, 10]    163.84       [128, 128, 3, 3]     147.46 (0.4 %)       11.8 (0.32 %)       \n",
            "[85] Conv       -1                        [8.0, 1.0, 10], 1         [128, 8, 10]    163.84       [128, 128, 3, 3]     147.46 (0.4 %)       11.8 (0.32 %)       \n",
            "[86] Conv       -1                        [8.0, 1.0, 10], 1         [128, 8, 10]    163.84       [128, 128, 3, 3]     147.46 (0.4 %)       11.8 (0.32 %)       \n",
            "[87] Concat     [-1, -2, -3, -4, -5, -6]  -1, -1                    [1024, 8, 10]   1310.72      -1                   0.0 (0.0 %)          0.0 (0.0 %)         \n",
            "[88] Conv       -1                        [4.0, 2.0, 10], 1         [256, 8, 10]    327.68       [256, 1024, 1, 1]    262.14 (0.71 %)      20.97 (0.57 %)      \n",
            "[89] MP         -1                        -1, -1                    [256, 4, 5]     81.92        -1                   0.0 (0.0 %)          0.0 (0.0 %)         \n",
            "[90] Conv       -1                        [16.0, 1.0, 5], 1         [256, 4, 5]     81.92        [256, 256, 1, 1]     65.54 (0.18 %)       1.31 (0.04 %)       \n",
            "[91] Conv       -3                        [8.0, 1.0, 10], 1         [256, 8, 10]    327.68       [256, 256, 1, 1]     65.54 (0.18 %)       5.24 (0.14 %)       \n",
            "[92] Conv       -1                        [8.0, 1.0, 10], 1         [256, 4, 5]     81.92        [256, 256, 3, 3]     589.82 (1.6 %)       47.19 (1.28 %)      \n",
            "[93] Concat     [-1, -3, 51]              -1, -1                    [1024, 4, 5]    327.68       -1                   0.0 (0.0 %)          0.0 (0.0 %)         \n",
            "[94] Conv       -1                        [16.0, 1.0, 5], 1         [512, 4, 5]     163.84       [512, 1024, 1, 1]    524.29 (1.42 %)      10.49 (0.29 %)      \n",
            "[95] Conv       -2                        [16.0, 1.0, 5], 1         [512, 4, 5]     163.84       [512, 1024, 1, 1]    524.29 (1.42 %)      10.49 (0.29 %)      \n",
            "[96] Conv       -1                        [16.0, 1.0, 5], 1         [256, 4, 5]     81.92        [256, 512, 3, 3]     1179.65 (3.2 %)      23.59 (0.64 %)      \n",
            "[97] Conv       -1                        [16.0, 1.0, 5], 1         [256, 4, 5]     81.92        [256, 256, 3, 3]     589.82 (1.6 %)       11.8 (0.32 %)       \n",
            "[98] Conv       -1                        [16.0, 1.0, 5], 1         [256, 4, 5]     81.92        [256, 256, 3, 3]     589.82 (1.6 %)       11.8 (0.32 %)       \n",
            "[99] Conv       -1                        [16.0, 1.0, 5], 1         [256, 4, 5]     81.92        [256, 256, 3, 3]     589.82 (1.6 %)       11.8 (0.32 %)       \n",
            "[100] Concat    [-1, -2, -3, -4, -5, -6]  -1, -1                    [2048, 4, 5]    655.36       -1                   0.0 (0.0 %)          0.0 (0.0 %)         \n",
            "[101] Conv      -1                        [16.0, 1.0, 5], 1         [512, 4, 5]     163.84       [512, 2048, 1, 1]    1048.58 (2.84 %)     20.97 (0.57 %)      \n",
            "[102] RepConv   75                        -1, -1                    [256, 16, 20]   1310.72      [256, 128, 3, 3]     294.91 (0.8 %)       94.37 (2.57 %)      \n",
            "[103] RepConv   88                        -1, -1                    [512, 8, 10]    655.36       [512, 256, 3, 3]     1179.65 (3.2 %)      94.37 (2.57 %)      \n",
            "[104] RepConv   101                       -1, -1                    [1024, 4, 5]    327.68       [1024, 512, 3, 3]    4718.59 (12.79 %)    94.37 (2.57 %)      \n",
            "[105] Detect    [102, 103, 104]           -1, -1                    [1, 1260, 85]   1713.6       -1                   456.96 (1.24 %)      36.56 (0.99 %)      \n",
            "n_total_mul: 3674.46016 M\n",
            "n_total_para: 36.881504 M\n",
            "Results saved to .\n"
          ]
        },
        {
          "output_type": "display_data",
          "data": {
            "text/plain": [
              "<Figure size 640x480 with 1 Axes>"
            ],
            "image/png": "[encoded data removed]"
          },
          "metadata": {}
        }
      ]
    },
    {
      "cell_type": "code",
      "source": [
        "RunTimeError(\"ee\")"
      ],
      "metadata": {
        "colab": {
          "base_uri": "https://localhost:8080/",
          "height": 181
        },
        "id": "UwuJdU9EMwsa",
        "outputId": "273d3013-c84b-409c-a9b6-35e2c2ba1209"
      },
      "execution_count": 7,
      "outputs": [
        {
          "output_type": "error",
          "ename": "NameError",
          "evalue": "ignored",
          "traceback": [
            "\u001b[0;31m---------------------------------------------------------------------------\u001b[0m",
            "\u001b[0;31mNameError\u001b[0m                                 Traceback (most recent call last)",
            "\u001b[0;32m<ipython-input-7-ac8d19c0fd33>\u001b[0m in \u001b[0;36m<cell line: 1>\u001b[0;34m()\u001b[0m\n\u001b[0;32m----> 1\u001b[0;31m \u001b[0mRunTimeError\u001b[0m\u001b[0;34m(\u001b[0m\u001b[0;34m\"ee\"\u001b[0m\u001b[0;34m)\u001b[0m\u001b[0;34m\u001b[0m\u001b[0;34m\u001b[0m\u001b[0m\n\u001b[0m",
            "\u001b[0;31mNameError\u001b[0m: name 'RunTimeError' is not defined"
          ]
        }
      ]
    },
    {
      "cell_type": "code",
      "source": [
        "\n",
        "if(1):\n",
        "    raise RuntimeError(\"unable to handle error\")"
      ],
      "metadata": {
        "colab": {
          "base_uri": "https://localhost:8080/",
          "height": 200
        },
        "id": "TZ_oAbnqFPgL",
        "outputId": "f90bff37-2cf1-4d0f-b80f-584eea64e3ef"
      },
      "execution_count": 9,
      "outputs": [
        {
          "output_type": "error",
          "ename": "RuntimeError",
          "evalue": "ignored",
          "traceback": [
            "\u001b[0;31m---------------------------------------------------------------------------\u001b[0m",
            "\u001b[0;31mRuntimeError\u001b[0m                              Traceback (most recent call last)",
            "\u001b[0;32m<ipython-input-9-aa880dff08c7>\u001b[0m in \u001b[0;36m<cell line: 1>\u001b[0;34m()\u001b[0m\n\u001b[1;32m      1\u001b[0m \u001b[0;32mif\u001b[0m\u001b[0;34m(\u001b[0m\u001b[0;36m1\u001b[0m\u001b[0;34m)\u001b[0m\u001b[0;34m:\u001b[0m\u001b[0;34m\u001b[0m\u001b[0;34m\u001b[0m\u001b[0m\n\u001b[0;32m----> 2\u001b[0;31m   \u001b[0;32mraise\u001b[0m \u001b[0mRuntimeError\u001b[0m\u001b[0;34m(\u001b[0m\u001b[0;34m\"unable to handle error\"\u001b[0m\u001b[0;34m)\u001b[0m\u001b[0;34m\u001b[0m\u001b[0;34m\u001b[0m\u001b[0m\n\u001b[0m",
            "\u001b[0;31mRuntimeError\u001b[0m: unable to handle error"
          ]
        }
      ]
    },
    {
      "cell_type": "code",
      "source": [
        "sum([0.29,\n",
        "      5.14,\n",
        "      0.14,\n",
        "      0.14,\n",
        "      0.32,\n",
        "      0.32,\n",
        "      0.32,\n",
        "      0.32,\n",
        "      0.57,\n",
        "      4.14,\n",
        "      0.07,\n",
        "      0.04,\n",
        "      1.28,\n",
        "      0.29,\n",
        "      0.29,\n",
        "      0.64,\n",
        "      0.32,\n",
        "      0.32,\n",
        "      0.32,\n",
        "      0.57,\n",
        "      2.57])"
      ],
      "metadata": {
        "colab": {
          "base_uri": "https://localhost:8080/"
        },
        "id": "jZQJQ4yXkFHu",
        "outputId": "03e00087-56f4-4b9f-8c35-115df56e8dbe"
      },
      "execution_count": 28,
      "outputs": [
        {
          "output_type": "execute_result",
          "data": {
            "text/plain": [
              "18.409999999999997"
            ]
          },
          "metadata": {},
          "execution_count": 28
        }
      ]
    },
    {
      "cell_type": "code",
      "source": [
        "print('{0: <5}'.format(f\"{3}\"), '{0: <5}'.format(f\"{5}\"))"
      ],
      "metadata": {
        "colab": {
          "base_uri": "https://localhost:8080/"
        },
        "id": "8_0udYQfVqBk",
        "outputId": "da8002ff-1c95-4888-a107-53d02290a85a"
      },
      "execution_count": 9,
      "outputs": [
        {
          "output_type": "stream",
          "name": "stdout",
          "text": [
            "3     5    \n"
          ]
        }
      ]
    },
    {
      "cell_type": "code",
      "source": [
        "para_dict['out'][0]"
      ],
      "metadata": {
        "colab": {
          "base_uri": "https://localhost:8080/"
        },
        "id": "n7x1U5YfXF1A",
        "outputId": "7fdef4a2-6d86-4bde-f347-3194b82df95f"
      },
      "execution_count": null,
      "outputs": [
        {
          "output_type": "execute_result",
          "data": {
            "text/plain": [
              "array([[[     4.0398,      4.5344,      8.3829, ...,   0.0038069,  0.00045501,   0.0006837],\n",
              "        [     11.547,      5.3438,      22.537, ...,   0.0041046,  0.00062742,  0.00035359],\n",
              "        [     18.357,      5.1901,      32.866, ...,   0.0027702,  0.00060379,   0.0004006],\n",
              "        ...,\n",
              "        [     81.169,      129.85,      165.29, ...,  0.00021058,  6.7293e-05,  3.7761e-05],\n",
              "        [     97.212,      133.36,      177.92, ...,  0.00031884,  6.8369e-05,  4.2408e-05],\n",
              "        [     137.83,      135.36,      274.12, ...,  0.00034467,  4.8103e-05,  3.7603e-05]]], dtype=float32)"
            ]
          },
          "metadata": {},
          "execution_count": 15
        }
      ]
    },
    {
      "cell_type": "code",
      "source": [
        "para_dict['out'][0].shape"
      ],
      "metadata": {
        "colab": {
          "base_uri": "https://localhost:8080/"
        },
        "id": "RtN4f7KbTN4t",
        "outputId": "585d067d-8ab8-44b5-a4c9-fd381425b983"
      },
      "execution_count": null,
      "outputs": [
        {
          "output_type": "execute_result",
          "data": {
            "text/plain": [
              "(1, 1575, 85)"
            ]
          },
          "metadata": {},
          "execution_count": 19
        }
      ]
    },
    {
      "cell_type": "code",
      "source": [
        "s = 0\n",
        "\n",
        "for mod_id, mod in para_dict[\"mod_dict\"].items():\n",
        "\n",
        "    for wei_name, wei in mod['para'].items():\n",
        "\n",
        "        p = 1\n",
        "        for i in wei.shape:\n",
        "            p *= i\n",
        "\n",
        "        s += p\n",
        "        print(f\"[{mod_id}] {wei_name}: {wei.shape}, n: {p}, s: {s}\")\n",
        "\n",
        "s"
      ],
      "metadata": {
        "id": "7pXdRm5ZZYIc"
      },
      "execution_count": null,
      "outputs": []
    },
    {
      "cell_type": "markdown",
      "source": [
        "## manual forward prop"
      ],
      "metadata": {
        "id": "ll_4NHuLb6vJ"
      }
    },
    {
      "cell_type": "code",
      "source": [
        "\n",
        "\n",
        "import torch.nn as nn\n",
        "import torch\n",
        "import numpy as np\n",
        "\n",
        "class AttrDict(dict):\n",
        "    def __init__(self, *args, **kwargs):\n",
        "        super(AttrDict, self).__init__(*args, **kwargs)\n",
        "        self.__dict__ = self\n",
        "\n",
        "def npSiLU(x):\n",
        "    return x*(1/(1+np.exp(-x)))\n",
        "\n",
        "def Conv_forward(x, args, para):\n",
        "\n",
        "\n",
        "    out = torch.nn.functional.conv2d(torch.tensor(x, dtype=torch.float32),\n",
        "                               weight=torch.tensor(para['conv.weight']),\n",
        "                               bias=torch.tensor(para['conv.bias']),\n",
        "                               stride=args['Conv2d']['stride'],\n",
        "                               padding=args['Conv2d']['padding'])\n",
        "\n",
        "\n",
        "\n",
        "\n",
        "    if(args['Conv2d']['act_func'] == 'SiLU'):\n",
        "        a = npSiLU(out.detach().numpy())\n",
        "        print(f\"max: {np.max(a)}, min: {np.min(a)}\")\n",
        "        return a\n",
        "\n",
        "    else:\n",
        "        return out.detach().numpy()\n",
        "\n",
        "\n",
        "\n",
        "    # x = sd.x\n",
        "\n",
        "    # kernel = para['conv.weight']\n",
        "    # bias = para['conv.bias']\n",
        "\n",
        "\n",
        "    # p1, p2 = args['Conv2d']['padding']\n",
        "    # s1, s2 = args['Conv2d']['stride']\n",
        "    # k1, k2 = args['Conv2d']['kernel_size']\n",
        "    # w1 = k1//2\n",
        "    # w2 = k2//2\n",
        "\n",
        "    # out = np.zeros((para['conv.weight'].shape[0],\n",
        "    #                 x.shape[1] - 2 * (w1 - p1),\n",
        "    #                 x.shape[2] - 2 * ((w2 - p2))))\n",
        "\n",
        "    # for c2 in range(para['conv.weight'].shape[0]): # output ch\n",
        "    #\n",
        "    #     # sweep image pixel\n",
        "    #     for i in range(w1 - p1, x.shape[1] - w1 + p1, s1):\n",
        "    #         for j in range(w2 - p2, x.shape[2] - w2 + p2, s2):\n",
        "\n",
        "    #             # accumulate\n",
        "    #             acc = 0\n",
        "    #             for c1 in range(x.shape[0]): # input ch\n",
        "\n",
        "    #                 for u in range(-w1, w1 + 1, 1): # offset\n",
        "\n",
        "    #                     ii = i + u\n",
        "    #                     if(ii > x.shape[1]-1 or ii < 0): continue\n",
        "\n",
        "    #                     for v in range(-w2, w2 + 1, 1): # offset\n",
        "\n",
        "    #                         jj = j + v\n",
        "    #                         if(jj > x.shape[2]-1 or jj < 0): continue\n",
        "\n",
        "\n",
        "    #                         acc += x[c1, ii, jj] * kernel[c2, c1, u + w1, v + w2]\n",
        "\n",
        "    #             out[c2, i - (w1 - p1), j - (w2 - p2)] = acc + bias[c2]\n",
        "\n",
        "def Concat_forward(x, args):\n",
        "    # x has no batch dim, i.e., shape is not [bs, c, h, w] but [c, h, w].\n",
        "    # args['dim'] assumes x has batch dim.\n",
        "\n",
        "\n",
        "    # x_ten = [torch.tensor(i[np.newaxis, ...], dtype=torch.float32) for i in x]\n",
        "    # return np.squeeze(torch.cat(x_ten, args['dim']).detach().numpy(), axis=0)\n",
        "\n",
        "    # dim = args['dim'] - 1\n",
        "\n",
        "    s = list(x[0].shape)\n",
        "    s[0] = sum([i.shape[0] for i in x])\n",
        "    out = np.zeros(s)\n",
        "\n",
        "    dim_offset = 0\n",
        "    for x_i in x:\n",
        "      out[dim_offset : dim_offset + x_i.shape[0], ...] = x_i\n",
        "      dim_offset += x_i.shape[0]\n",
        "\n",
        "    return out\n",
        "\n",
        "def MP_forward(x, args):\n",
        "\n",
        "    # m = nn.MaxPool2d(kernel_size=args[\"kernel_size\"], stride=args[\"stride\"], padding=args[\"padding\"])\n",
        "    # return np.squeeze(m(torch.tensor(x[np.newaxis, ...], dtype=torch.float32)).detach().numpy(), axis=0)\n",
        "\n",
        "    p = args['padding']\n",
        "    s = args['stride']\n",
        "    k = args['kernel_size']\n",
        "\n",
        "    out = np.zeros((int(x.shape[0]),\n",
        "                    int(np.ceil((x.shape[1] - (k - 1) + 2 * p) / s)),\n",
        "                    int(np.ceil((x.shape[2] - (k - 1) + 2 * p) / s))\n",
        "                    ))\n",
        "\n",
        "    # sweep image pixel\n",
        "    for i in range(-p, x.shape[1] - (k - 1) + p, s):\n",
        "        for j in range(-p, x.shape[2] - (k - 1) + p, s):\n",
        "\n",
        "\n",
        "\n",
        "            # print(f\"j_max: {x.shape[2] - (k - 1) + p - 1}\")\n",
        "\n",
        "            max = np.ones(x.shape[0]) * (-1000000)\n",
        "            for u in range(0, k, 1): # offset\n",
        "                ii = i + u\n",
        "                if(ii > x.shape[1]-1 or ii < 0): continue\n",
        "                for v in range(0, k, 1): # offset\n",
        "                    jj = j + v\n",
        "                    if(jj > x.shape[2]-1 or jj < 0): continue\n",
        "\n",
        "                    sel = x[:, ii, jj] > max\n",
        "                    max[sel] = x[sel, ii, jj]\n",
        "\n",
        "            out[:, (i + p) // s, (j + p) // s] = max\n",
        "\n",
        "\n",
        "    return out\n",
        "\n",
        "def Upsample_forward(x, args, para):\n",
        "\n",
        "    # x = torch.tensor(x[np.newaxis, ...], dtype=torch.float32)\n",
        "    # m = nn.modules.upsampling.Upsample(scale_factor=args[\"scale_factor\"], mode=args[\"mode\"] )\n",
        "\n",
        "    # return np.squeeze(m(x).detach().numpy(), axis=0)\n",
        "\n",
        "    s = int(args[\"scale_factor\"])\n",
        "    out = np.zeros((x.shape[0], s * x.shape[1], s * x.shape[2]))\n",
        "\n",
        "    for i in range(x.shape[1]):\n",
        "        for j in range(x.shape[2]):\n",
        "            out[:, s * i: s * (i + 1), s * j: s * (j + 1)] = x[:, i, j].reshape((x.shape[0], 1, 1))\n",
        "\n",
        "    return out\n",
        "\n",
        "def SPPCSPC_forward(x, args, para):\n",
        "\n",
        "    x1 = Conv_forward(np.copy(x), {'Conv2d': args['Conv2d'][1]}, {'conv.weight': para[f\"cv{1}.conv.weight\"], 'conv.bias': para[f\"cv{1}.conv.bias\"]})\n",
        "    x1 = Conv_forward(x1, {'Conv2d': args['Conv2d'][3]}, {'conv.weight': para[f\"cv{3}.conv.weight\"], 'conv.bias': para[f\"cv{3}.conv.bias\"]})\n",
        "    x1 = Conv_forward(x1, {'Conv2d': args['Conv2d'][4]}, {'conv.weight': para[f\"cv{4}.conv.weight\"], 'conv.bias': para[f\"cv{4}.conv.bias\"]})\n",
        "\n",
        "    cat_in = [x1]\n",
        "    cat_in.append(MP_forward(np.copy(x1), args['mp'][0]))\n",
        "    cat_in.append(MP_forward(np.copy(x1), args['mp'][1]))\n",
        "    cat_in.append(MP_forward(np.copy(x1), args['mp'][2]))\n",
        "\n",
        "    # x1 = torch.cat(cat_in, 0).detach().numpy()\n",
        "    x1 = Concat_forward(cat_in, {'dim': 1})\n",
        "\n",
        "    x1 = Conv_forward(x1, {'Conv2d': args['Conv2d'][5]}, {'conv.weight': para[f\"cv{5}.conv.weight\"], 'conv.bias': para[f\"cv{5}.conv.bias\"]})\n",
        "    y1 = Conv_forward(x1, {'Conv2d': args['Conv2d'][6]}, {'conv.weight': para[f\"cv{6}.conv.weight\"], 'conv.bias': para[f\"cv{6}.conv.bias\"]})\n",
        "    y2 = Conv_forward(x, {'Conv2d': args['Conv2d'][2]}, {'conv.weight': para[f\"cv{2}.conv.weight\"], 'conv.bias': para[f\"cv{2}.conv.bias\"]})\n",
        "\n",
        "    out = Concat_forward([y1, y2], {'dim': 1}) # cat along channel dim.\n",
        "    out = Conv_forward(out, {'Conv2d': args['Conv2d'][7]}, {'conv.weight': para[f\"cv{7}.conv.weight\"], 'conv.bias': para[f\"cv{7}.conv.bias\"]})\n",
        "    return out\n",
        "\n",
        "def RepConv_forward(x, args, para):\n",
        "\n",
        "\n",
        "    # args: {'Conv2d': {'stride': (1, 1), 'padding': (1, 1), 'kernel_size': (3, 3)}, 'act_func': 'SiLU(inplace=True)'}\n",
        "    #     rbr_reparam.weight: (256, 128, 3, 3)\n",
        "    #     rbr_reparam.bias: (256,)\n",
        "\n",
        "    n_ch_out = para['rbr_reparam.weight'].shape[0]\n",
        "    n_ch_in = para['rbr_reparam.weight'].shape[1]\n",
        "\n",
        "    m = nn.Conv2d(n_ch_in,\n",
        "                  n_ch_out,\n",
        "                  kernel_size=args['Conv2d']['kernel_size'],\n",
        "                  stride=args['Conv2d']['stride'],\n",
        "                  padding=args['Conv2d']['padding'])\n",
        "    act = nn.SiLU(inplace=True)\n",
        "\n",
        "    m.weight = torch.nn.Parameter(torch.tensor(para['rbr_reparam.weight']))\n",
        "    m.bias = torch.nn.Parameter(torch.tensor(para['rbr_reparam.bias']))\n",
        "\n",
        "    out = m(torch.tensor(x[np.newaxis, ...], dtype=torch.float32))\n",
        "\n",
        "    return np.squeeze(npSiLU(out.detach().numpy()), axis=0)\n",
        "\n",
        "def Detect_forward(x, args, para):\n",
        "\n",
        "    def sigmoid(x):\n",
        "      return 1/(1 + np.exp(-x))\n",
        "\n",
        "    def make_grid(nx=20, ny=20):\n",
        "\n",
        "        yv, xv = np.meshgrid(np.arange(ny), np.arange(nx), indexing='ij')\n",
        "        return np.concatenate((xv[..., np.newaxis], yv[..., np.newaxis]), axis=2).reshape((1, ny, nx, 2)).astype(np.float32)\n",
        "\n",
        "    z = []\n",
        "    stride = np.array([ 8., 16., 32.])\n",
        "    anchor_grid = np.array([\n",
        "                                [[[[ 12.,  16.]]],\n",
        "                                  [[[ 19.,  36.]]],\n",
        "                                  [[[ 40.,  28.]]]],\n",
        "\n",
        "                                [[[[ 36.,  75.]]],\n",
        "                                  [[[ 76.,  55.]]],\n",
        "                                  [[[ 72., 146.]]]],\n",
        "\n",
        "                                [[[[142., 110.]]],\n",
        "                                  [[[192., 243.]]],\n",
        "                                  [[[459., 401.]]]]\n",
        "                            ]\n",
        "                           )\n",
        "\n",
        "    nl = 3\n",
        "    no = 85\n",
        "    na = 3\n",
        "\n",
        "    m = nn.ModuleList(nn.Conv2d(i, no * na, 1) for i in [256, 512, 1024])\n",
        "\n",
        "    for i in range(3):\n",
        "        m[i].weight = torch.nn.Parameter(torch.tensor(para[f\"m.{i}.weight\"]))\n",
        "        m[i].bias = torch.nn.Parameter(torch.tensor(para[f\"m.{i}.bias\"]))\n",
        "\n",
        "\n",
        "    grid = [np.zeros(1)] * nl\n",
        "\n",
        "\n",
        "\n",
        "    for i in range(nl):\n",
        "\n",
        "        x[i] = m[i](torch.tensor(x[i], dtype=torch.float32)).detach().numpy()\n",
        "\n",
        "        _, ny, nx = x[i].shape\n",
        "\n",
        "\n",
        "        x[i] = x[i].reshape(3, 85, ny, nx)\n",
        "        x[i] = np.transpose(x[i], (0, 2, 3, 1))\n",
        "\n",
        "        # shape: (1, ny, nx, 2)\n",
        "        grid[i] = make_grid(nx, ny)\n",
        "\n",
        "        # (3, ny, nx, 85)\n",
        "        y = sigmoid(x[i])\n",
        "\n",
        "\n",
        "        y[..., 0:2] = (y[..., 0:2] * 2. - 0.5 + grid[i]) * stride[i]  # xy\n",
        "\n",
        "        #  anchor_grid: (3, 1, 1, 2)\n",
        "        y[..., 2:4] = (y[..., 2:4] * 2) ** 2 * anchor_grid[i]  # wh\n",
        "\n",
        "        z.append(y.reshape(1, -1, 85))\n",
        "\n",
        "    return np.concatenate(z, axis=1)\n",
        "\n",
        "\n",
        "\n",
        "\n",
        "\n",
        "\n",
        "def prepare_mod_input(sd, fromId):\n",
        "    if fromId != -1:  # if not from previous layer\n",
        "        sd.x = np.copy(sd.y[fromId]) if isinstance(fromId, int) else [np.copy(sd.x) if j == -1 else np.copy(sd.y[j]) for j in fromId]\n",
        "\n",
        "save = [3, 4, 5, 7, 11, 13, 16, 17, 18, 20, 24, 24, 26, 29, 30, 31, 33, 37, 37, 39, 42, 43, 44, 46, 51, 53, 55, 56, 57, 58, 59, 60, 63, 65, 67, 68, 69, 70, 71, 72, 75, 75, 77, 80, 81, 82, 83, 84, 85, 88, 88, 90, 93, 94, 95, 96, 97, 98, 101, 102, 103, 104]\n",
        "\n",
        "sd = AttrDict(y = [], x = 0, out=[])\n",
        "\n",
        "for i, img in enumerate(para_dict[\"input_img\"]):\n",
        "    print(f\"i: {i}\")\n",
        "    # if(i > 0): break\n",
        "\n",
        "    img = img.astype(np.float32) / 255.0\n",
        "\n",
        "    img = img[:,::2, ::2]\n",
        "\n",
        "    pad = np.zeros((img.shape[0], 80, img.shape[2]))\n",
        "    img = np.concatenate((img, pad), axis=1)\n",
        "    img = img[..., :-16]\n",
        "\n",
        "    img = img[:,::2, ::2]\n",
        "    print(f\">>> img.shape: {img.shape}\")\n",
        "\n",
        "    sd.x = img\n",
        "    # para_dict['input_img'][i] = img\n",
        "\n",
        "\n",
        "\n",
        "    sd.y = []\n",
        "\n",
        "\n",
        "    for mod_id, mod in para_dict[\"mod_dict\"].items():\n",
        "\n",
        "        prepare_mod_input(sd, mod['fromId'])\n",
        "\n",
        "        if(mod['mod_type'] == \"models.common.Conv\"):\n",
        "            sd.x = Conv_forward(np.copy(sd.x), mod['args'], mod['para'])\n",
        "\n",
        "        elif(mod['mod_type'] == \"models.common.Concat\"):\n",
        "            sd.x = Concat_forward(np.copy(sd.x), mod['args'])\n",
        "\n",
        "        elif(mod['mod_type'] == \"models.common.MP\"):\n",
        "            sd.x = MP_forward(np.copy(sd.x), mod['args'])\n",
        "\n",
        "        elif(mod['mod_type'] == \"torch.nn.modules.upsampling.Upsample\"):\n",
        "            sd.x = Upsample_forward(np.copy(sd.x), mod['args'], mod['para'])\n",
        "\n",
        "        elif(mod['mod_type'] == \"models.common.SPPCSPC\"):\n",
        "            sd.x = SPPCSPC_forward(np.copy(sd.x), mod['args'], mod['para'])\n",
        "\n",
        "        elif(mod['mod_type'] == \"models.common.RepConv\"):\n",
        "            sd.x = RepConv_forward(np.copy(sd.x), mod['args'], mod['para'])\n",
        "\n",
        "        elif(mod['mod_type'] == \"models.yolo.Detect\"):\n",
        "            sd.x = Detect_forward(np.copy(sd.x), mod['args'], mod['para'])\n",
        "            sd.out.append(np.copy(sd.x))\n",
        "\n",
        "        sd.y.append(np.copy(sd.x) if mod_id in save else None)  # save output\n",
        "\n",
        "\n",
        "\n",
        "\n",
        "for i in range(len(sd.out)):\n",
        "\n",
        "    out = non_max_suppression(sd.out[i], conf_thres=0.001, iou_thres=0.6, labels=[], multi_label=True)\n",
        "\n",
        "    img = para_dict['input_img'][i]\n",
        "    img = img.astype(np.float32) / 255.0\n",
        "\n",
        "    img = img[:,::2, ::2]\n",
        "\n",
        "    pad = np.zeros((img.shape[0], 80, img.shape[2]))\n",
        "    img = np.concatenate((img, pad), axis=1)\n",
        "    img = img[..., :-16]\n",
        "    img = img[:,::2, ::2]\n",
        "\n",
        "\n",
        "    mosaic = plot_images(img, output_to_target(out))\n",
        "\n",
        "    plt.imshow(mosaic, interpolation='nearest')\n",
        "    plt.show()"
      ],
      "metadata": {
        "id": "b0nP_Oiw4eH6",
        "colab": {
          "base_uri": "https://localhost:8080/",
          "height": 1000
        },
        "outputId": "6bb5e14c-8567-4011-8088-3016f69bacc2"
      },
      "execution_count": null,
      "outputs": [
        {
          "output_type": "stream",
          "name": "stdout",
          "text": [
            "i: 0\n",
            ">>> img.shape: (3, 160, 160)\n",
            "max: 62.60804748535156, min: -0.27846455574035645\n",
            "max: 53.78532028198242, min: -0.27846455574035645\n",
            "max: 18.018281936645508, min: -0.27846455574035645\n",
            "max: 13.665644645690918, min: -0.27846455574035645\n",
            "max: 5.36747932434082, min: -0.27846455574035645\n",
            "max: 6.072269916534424, min: -0.27846455574035645\n",
            "max: 6.9336771965026855, min: -0.27846455574035645\n",
            "max: 7.187360763549805, min: -0.27846455574035645\n",
            "max: 4.360285758972168, min: -0.27846455574035645\n",
            "max: 6.471584796905518, min: -0.27846455574035645\n",
            "max: 6.620971202850342, min: -0.27846458554267883\n",
            "max: 4.870873928070068, min: -0.27846455574035645\n",
            "max: 6.861685752868652, min: -0.27846458554267883\n",
            "max: 6.393015384674072, min: -0.27846455574035645\n",
            "max: 6.5263566970825195, min: -0.27846452593803406\n",
            "max: 5.480470180511475, min: -0.27846458554267883\n",
            "max: 5.314614772796631, min: -0.27846455574035645\n",
            "max: 5.843177318572998, min: -0.27846455574035645\n",
            "max: 5.57315731048584, min: -0.27846458554267883\n",
            "max: 5.776281356811523, min: -0.27846455574035645\n",
            "max: 5.845202922821045, min: -0.27846455574035645\n"
          ]
        },
        {
          "output_type": "stream",
          "name": "stderr",
          "text": [
            "<ipython-input-45-0ad358d10289>:11: RuntimeWarning: overflow encountered in exp\n",
            "  return x*(1/(1+np.exp(-x)))\n"
          ]
        },
        {
          "output_type": "stream",
          "name": "stdout",
          "text": [
            "max: 5.791079998016357, min: -0.27846455574035645\n",
            "max: 5.684847354888916, min: -0.27846455574035645\n",
            "max: 8.752724647521973, min: -0.27846452593803406\n",
            "max: 5.752962589263916, min: -0.27846458554267883\n",
            "max: 8.544278144836426, min: -0.27846455574035645\n",
            "max: 6.3822126388549805, min: -0.27846455574035645\n",
            "max: 11.622699737548828, min: -0.27846452593803406\n",
            "max: 8.157017707824707, min: -0.27846455574035645\n",
            "max: 7.159158229827881, min: -0.27846455574035645\n",
            "max: 7.25136137008667, min: -0.27846458554267883\n",
            "max: 7.345561981201172, min: -0.27846458554267883\n",
            "max: 7.284958362579346, min: -0.27846458554267883\n",
            "max: 4.940812110900879, min: -0.27846452593803406\n",
            "max: 7.000200271606445, min: -0.27846455574035645\n",
            "max: 7.983336925506592, min: -0.27846455574035645\n",
            "max: 8.461700439453125, min: -0.27846452593803406\n",
            "max: 13.720462799072266, min: -0.27846452593803406\n",
            "max: 8.932520866394043, min: -0.27846455574035645\n",
            "max: 6.750197887420654, min: -0.27846452593803406\n",
            "max: 7.873342990875244, min: -0.27846455574035645\n",
            "max: 8.348258018493652, min: -0.27846455574035645\n",
            "max: 4.782336711883545, min: -0.2784643769264221\n",
            "max: 4.1161346435546875, min: -0.27846452593803406\n",
            "max: 5.278027534484863, min: -0.27846455574035645\n",
            "max: 6.548294544219971, min: -0.27846455574035645\n",
            "max: 7.427794933319092, min: -0.27846455574035645\n",
            "max: 5.3029279708862305, min: -0.27846452593803406\n",
            "max: 7.502007484436035, min: -0.27846455574035645\n",
            "max: 15.261846542358398, min: -0.27846455574035645\n",
            "max: 5.806048393249512, min: -0.27846455574035645\n",
            "max: 8.301932334899902, min: -0.27846452593803406\n",
            "max: 12.190793991088867, min: -0.27846455574035645\n",
            "max: 7.955552101135254, min: -0.27846455574035645\n",
            "max: 3.5370213985443115, min: -0.27846452593803406\n",
            "max: 3.4041059017181396, min: -0.27846455574035645\n",
            "max: 10.20096206665039, min: -0.27846455574035645\n",
            "max: 4.608508586883545, min: -0.27846455574035645\n",
            "max: 5.805462837219238, min: -0.27846455574035645\n",
            "max: 6.2321624755859375, min: -0.27846455574035645\n",
            "max: 5.311609268188477, min: -0.27846455574035645\n",
            "max: 5.405979156494141, min: -0.27846455574035645\n",
            "max: 5.321514129638672, min: -0.27846455574035645\n",
            "max: 6.314725875854492, min: -0.27846452593803406\n",
            "max: 8.630631446838379, min: -0.27846455574035645\n",
            "max: 7.29143762588501, min: -0.27846458554267883\n",
            "max: 5.304027557373047, min: -0.27846452593803406\n",
            "max: 7.615301132202148, min: -0.27846455574035645\n",
            "max: 7.435930252075195, min: -0.27846452593803406\n",
            "max: 7.2215752601623535, min: -0.27846455574035645\n",
            "max: 4.799302101135254, min: -0.27846455574035645\n",
            "max: 5.328850269317627, min: -0.27846455574035645\n",
            "max: 5.711533069610596, min: -0.27846458554267883\n",
            "max: 6.824792861938477, min: -0.27846455574035645\n",
            "max: 6.356973648071289, min: -0.27846452593803406\n",
            "max: 6.769916534423828, min: -0.27846455574035645\n",
            "max: 4.730751991271973, min: -0.27846455574035645\n",
            "max: 9.870840072631836, min: -0.27846458554267883\n",
            "max: 5.803921699523926, min: -0.2784643769264221\n",
            "max: 5.1555609703063965, min: -0.27846452593803406\n",
            "max: 4.48675537109375, min: -0.27846455574035645\n",
            "max: 3.7760300636291504, min: -0.27846449613571167\n",
            "max: 2.798478126525879, min: -0.27846452593803406\n",
            "max: 2.4974567890167236, min: -0.27846449613571167\n",
            "max: 4.393089294433594, min: -0.27846455574035645\n",
            "max: 3.7178754806518555, min: -0.27846452593803406\n",
            "i: 1\n",
            ">>> img.shape: (3, 160, 160)\n",
            "max: 61.93128967285156, min: -0.27846458554267883\n",
            "max: 53.718589782714844, min: -0.27846455574035645\n",
            "max: 18.046072006225586, min: -0.27846458554267883\n",
            "max: 13.284396171569824, min: -0.27846458554267883\n",
            "max: 6.229050636291504, min: -0.27846455574035645\n",
            "max: 6.0608086585998535, min: -0.27846455574035645\n",
            "max: 7.283217430114746, min: -0.27846458554267883\n",
            "max: 7.135061264038086, min: -0.27846455574035645\n",
            "max: 4.270750999450684, min: -0.27846455574035645\n",
            "max: 6.242027759552002, min: -0.27846455574035645\n",
            "max: 6.807278633117676, min: -0.27846455574035645\n",
            "max: 6.6794562339782715, min: -0.27846455574035645\n",
            "max: 7.356914043426514, min: -0.27846458554267883\n",
            "max: 5.681652545928955, min: -0.27846452593803406\n",
            "max: 6.499614238739014, min: -0.27846455574035645\n",
            "max: 4.730809688568115, min: -0.27846455574035645\n",
            "max: 4.4326043128967285, min: -0.27846455574035645\n",
            "max: 5.666130542755127, min: -0.27846455574035645\n",
            "max: 6.650808334350586, min: -0.27846455574035645\n",
            "max: 6.791640281677246, min: -0.27846455574035645\n",
            "max: 6.048223972320557, min: -0.27846455574035645\n",
            "max: 5.544751167297363, min: -0.27846455574035645\n",
            "max: 4.87677526473999, min: -0.27846455574035645\n",
            "max: 8.24743366241455, min: -0.27846455574035645\n",
            "max: 5.59135627746582, min: -0.27846455574035645\n",
            "max: 9.6398286819458, min: -0.27846455574035645\n",
            "max: 7.423266887664795, min: -0.27846455574035645\n",
            "max: 11.373452186584473, min: -0.27846455574035645\n",
            "max: 9.810474395751953, min: -0.27846458554267883\n",
            "max: 8.533707618713379, min: -0.27846455574035645\n",
            "max: 5.609045028686523, min: -0.27846458554267883\n",
            "max: 7.603396892547607, min: -0.27846452593803406\n",
            "max: 8.420910835266113, min: -0.27846455574035645\n",
            "max: 5.6447343826293945, min: -0.27846449613571167\n",
            "max: 6.7759904861450195, min: -0.27846455574035645\n",
            "max: 8.3444242477417, min: -0.27846452593803406\n",
            "max: 8.054885864257812, min: -0.27846455574035645\n",
            "max: 10.601325988769531, min: -0.27846455574035645\n",
            "max: 7.725805759429932, min: -0.27846455574035645\n",
            "max: 6.757168769836426, min: -0.27846449613571167\n",
            "max: 7.006166934967041, min: -0.27846455574035645\n",
            "max: 7.485776901245117, min: -0.27846455574035645\n",
            "max: 4.6770501136779785, min: -0.27846455574035645\n",
            "max: 4.20351505279541, min: -0.27846449613571167\n",
            "max: 5.316356658935547, min: -0.27846455574035645\n",
            "max: 6.313914775848389, min: -0.27846455574035645\n",
            "max: 7.159090995788574, min: -0.27846452593803406\n",
            "max: 5.276487350463867, min: -0.27846455574035645\n",
            "max: 7.353171348571777, min: -0.27846452593803406\n",
            "max: 14.371862411499023, min: -0.27846455574035645\n",
            "max: 5.611069202423096, min: -0.27846455574035645\n",
            "max: 6.07614803314209, min: -0.27846455574035645\n",
            "max: 9.96617603302002, min: -0.27846452593803406\n",
            "max: 7.560985565185547, min: -0.27846455574035645\n",
            "max: 4.0698370933532715, min: -0.27846455574035645\n",
            "max: 2.827535629272461, min: -0.27846452593803406\n",
            "max: 9.165702819824219, min: -0.27846455574035645\n",
            "max: 4.4477219581604, min: -0.27846455574035645\n",
            "max: 6.933279037475586, min: -0.27846455574035645\n",
            "max: 5.9853057861328125, min: -0.27846455574035645\n",
            "max: 5.350011348724365, min: -0.27846458554267883\n",
            "max: 5.556964874267578, min: -0.27846455574035645\n",
            "max: 6.920194625854492, min: -0.27846458554267883\n",
            "max: 8.274916648864746, min: -0.27846455574035645\n",
            "max: 8.216866493225098, min: -0.27846452593803406\n",
            "max: 6.471260070800781, min: -0.27846455574035645\n",
            "max: 7.9673075675964355, min: -0.27846455574035645\n",
            "max: 9.04431438446045, min: -0.27846458554267883\n",
            "max: 6.454226016998291, min: -0.27846455574035645\n",
            "max: 9.755830764770508, min: -0.27846458554267883\n",
            "max: 5.587621688842773, min: -0.27846455574035645\n",
            "max: 5.895996570587158, min: -0.27846458554267883\n",
            "max: 5.700003623962402, min: -0.27846455574035645\n",
            "max: 6.366231441497803, min: -0.27846455574035645\n",
            "max: 8.230290412902832, min: -0.27846452593803406\n",
            "max: 6.780140399932861, min: -0.27846455574035645\n",
            "max: 5.10018253326416, min: -0.278463751077652\n",
            "max: 9.677000999450684, min: -0.27846452593803406\n",
            "max: 6.650826930999756, min: -0.27846452593803406\n",
            "max: 4.627025604248047, min: -0.27846452593803406\n",
            "max: 4.674744606018066, min: -0.2784643769264221\n",
            "max: 3.3215408325195312, min: -0.27846455574035645\n",
            "max: 3.361591100692749, min: -0.27846455574035645\n",
            "max: 3.2977943420410156, min: -0.27846452593803406\n",
            "max: 5.107388019561768, min: -0.27846455574035645\n",
            "max: 4.339372158050537, min: -0.27846452593803406\n",
            "i: 2\n",
            ">>> img.shape: (3, 160, 160)\n",
            "max: 63.04944610595703, min: -0.27846455574035645\n",
            "max: 52.02860641479492, min: -0.27846455574035645\n",
            "max: 17.736705780029297, min: -0.27846458554267883\n",
            "max: 13.725907325744629, min: -0.27846455574035645\n",
            "max: 6.311007976531982, min: -0.27846455574035645\n",
            "max: 6.158694744110107, min: -0.27846452593803406\n",
            "max: 6.488330364227295, min: -0.27846455574035645\n",
            "max: 7.208353042602539, min: -0.27846458554267883\n",
            "max: 3.9087467193603516, min: -0.27846455574035645\n",
            "max: 6.235528945922852, min: -0.27846455574035645\n",
            "max: 6.456186771392822, min: -0.27846458554267883\n",
            "max: 6.711427688598633, min: -0.27846455574035645\n",
            "max: 6.993589878082275, min: -0.27846455574035645\n",
            "max: 5.630695343017578, min: -0.27846455574035645\n",
            "max: 6.3351616859436035, min: -0.27846455574035645\n",
            "max: 5.589099407196045, min: -0.27846455574035645\n",
            "max: 4.574840545654297, min: -0.27846455574035645\n",
            "max: 5.750563144683838, min: -0.27846455574035645\n",
            "max: 5.603612899780273, min: -0.27846455574035645\n",
            "max: 7.086763381958008, min: -0.27846458554267883\n",
            "max: 6.560234069824219, min: -0.27846455574035645\n",
            "max: 5.620384216308594, min: -0.27846458554267883\n",
            "max: 6.794515132904053, min: -0.27846455574035645\n",
            "max: 9.497773170471191, min: -0.27846455574035645\n",
            "max: 7.289114952087402, min: -0.27846452593803406\n",
            "max: 9.870092391967773, min: -0.27846455574035645\n",
            "max: 10.739171981811523, min: -0.27846455574035645\n",
            "max: 12.469854354858398, min: -0.27846455574035645\n",
            "max: 9.32755184173584, min: -0.27846455574035645\n",
            "max: 8.392141342163086, min: -0.27846455574035645\n",
            "max: 6.740383625030518, min: -0.27846455574035645\n",
            "max: 8.302193641662598, min: -0.27846449613571167\n",
            "max: 9.013870239257812, min: -0.27846455574035645\n",
            "max: 7.126932621002197, min: -0.27846455574035645\n",
            "max: 7.667586326599121, min: -0.27846455574035645\n",
            "max: 11.552729606628418, min: -0.27846455574035645\n",
            "max: 7.953348159790039, min: -0.27846428751945496\n",
            "max: 12.150954246520996, min: -0.2784644663333893\n",
            "max: 7.70001745223999, min: -0.27846452593803406\n",
            "max: 6.448308944702148, min: -0.27846455574035645\n",
            "max: 7.037335395812988, min: -0.27846452593803406\n",
            "max: 7.894259929656982, min: -0.27846455574035645\n",
            "max: 3.760643720626831, min: -0.27846452593803406\n",
            "max: 4.093084812164307, min: -0.27846452593803406\n",
            "max: 4.8497748374938965, min: -0.27846455574035645\n",
            "max: 5.9373369216918945, min: -0.27846455574035645\n",
            "max: 6.830760955810547, min: -0.27846452593803406\n",
            "max: 5.205289840698242, min: -0.27846452593803406\n",
            "max: 6.651288986206055, min: -0.27846455574035645\n",
            "max: 13.815333366394043, min: -0.27846452593803406\n",
            "max: 6.582303047180176, min: -0.27846452593803406\n",
            "max: 6.60783576965332, min: -0.27846455574035645\n",
            "max: 12.593182563781738, min: -0.27846452593803406\n",
            "max: 8.495902061462402, min: -0.27846455574035645\n",
            "max: 3.4827725887298584, min: -0.27846455574035645\n",
            "max: 3.0342307090759277, min: -0.27846455574035645\n",
            "max: 9.939854621887207, min: -0.27846455574035645\n",
            "max: 4.799111843109131, min: -0.27846455574035645\n",
            "max: 6.6088080406188965, min: -0.27846455574035645\n",
            "max: 5.633045196533203, min: -0.27846455574035645\n",
            "max: 5.367612361907959, min: -0.27846455574035645\n",
            "max: 5.141629219055176, min: -0.27846455574035645\n",
            "max: 5.71992826461792, min: -0.27846455574035645\n",
            "max: 7.541964530944824, min: -0.27846455574035645\n",
            "max: 7.096235752105713, min: -0.27846452593803406\n",
            "max: 6.15382194519043, min: -0.27846458554267883\n",
            "max: 4.656734943389893, min: -0.27846455574035645\n",
            "max: 8.15268611907959, min: -0.27846455574035645\n",
            "max: 6.787840843200684, min: -0.27846455574035645\n",
            "max: 7.886422157287598, min: -0.27846455574035645\n",
            "max: 4.517127513885498, min: -0.27846455574035645\n",
            "max: 4.101874351501465, min: -0.27846455574035645\n",
            "max: 3.4115309715270996, min: -0.27846455574035645\n",
            "max: 4.625080108642578, min: -0.27846455574035645\n",
            "max: 4.740190029144287, min: -0.27846455574035645\n",
            "max: 8.853139877319336, min: -0.27846455574035645\n",
            "max: 4.662439823150635, min: -0.2784644663333893\n",
            "max: 5.443100929260254, min: -0.27846455574035645\n",
            "max: 4.339938163757324, min: -0.2784641981124878\n",
            "max: 4.626384735107422, min: -0.27846455574035645\n",
            "max: 3.0663506984710693, min: -0.27846449613571167\n",
            "max: 3.298781156539917, min: -0.27846452593803406\n",
            "max: 2.605106830596924, min: -0.27846449613571167\n",
            "max: 2.911633014678955, min: -0.2784644365310669\n",
            "max: 4.77888822555542, min: -0.27846452593803406\n",
            "max: 4.165926933288574, min: -0.2784644663333893\n"
          ]
        },
        {
          "output_type": "display_data",
          "data": {
            "text/plain": [
              "<Figure size 640x480 with 1 Axes>"
            ],
            "image/png": "[encoded data removed]"
          },
          "metadata": {}
        },
        {
          "output_type": "display_data",
          "data": {
            "text/plain": [
              "<Figure size 640x480 with 1 Axes>"
            ],
            "image/png": "[encoded data removed]"
          },
          "metadata": {}
        },
        {
          "output_type": "display_data",
          "data": {
            "text/plain": [
              "<Figure size 640x480 with 1 Axes>"
            ],
            "image/png": "[encoded data removed]"
          },
          "metadata": {}
        }
      ]
    },
    {
      "cell_type": "code",
      "source": [
        "sd.out[i].shape"
      ],
      "metadata": {
        "colab": {
          "base_uri": "https://localhost:8080/"
        },
        "id": "UaQ0tgIjTV2r",
        "outputId": "e51057d0-ef0c-4a20-c9a0-256dec4c134e"
      },
      "execution_count": null,
      "outputs": [
        {
          "output_type": "execute_result",
          "data": {
            "text/plain": [
              "(1, 1575, 85)"
            ]
          },
          "metadata": {},
          "execution_count": 21
        }
      ]
    },
    {
      "cell_type": "markdown",
      "source": [
        "## manual forward pass - qtz"
      ],
      "metadata": {
        "id": "OdD_qZ6_ARp9"
      }
    },
    {
      "cell_type": "code",
      "source": [
        "\n",
        "\n",
        "import torch.nn as nn\n",
        "import torch\n",
        "import numpy as np\n",
        "\n",
        "\n",
        "class AttrDict(dict):\n",
        "    def __init__(self, *args, **kwargs):\n",
        "        super(AttrDict, self).__init__(*args, **kwargs)\n",
        "        self.__dict__ = self\n",
        "\n",
        "\n",
        "def npSiLU(x):\n",
        "    return x*(1/(1+np.exp(-x)))\n",
        "\n",
        "\n",
        "# weight: Q7.9, image: Q6.2\n",
        "b = 16\n",
        "p_img = 9\n",
        "p = 9\n",
        "def qtz(x, b, p): # on weights & fm.\n",
        "    x = (x * (2 ** p)).astype(np.int32)\n",
        "    # crop\n",
        "    x = np.bitwise_and(x, (2 ** b) - 1).astype(getattr(np, f\"int{b}\")).astype(np.int32)\n",
        "    return x\n",
        "\n",
        "def round_deqtz(x, b, p_img, p): # only on fm.\n",
        "    x = np.right_shift(x, p_img)\n",
        "\n",
        "    x = np.bitwise_and(x, (2 ** b) - 1).astype(getattr(np, f\"int{b}\")).astype(np.int32)\n",
        "\n",
        "    x = x * 1.0\n",
        "    x = x / (2 ** p)\n",
        "    return x\n",
        "\n",
        "\n",
        "def Conv_forward(x, args, para):\n",
        "\n",
        "\n",
        "    # x = np.clip(x, -1.0, 32.0)\n",
        "    # print(f\"max: {np.max(x)}, min: {np.min(x)}\")\n",
        "\n",
        "    out = torch.nn.functional.conv2d(input = torch.tensor(qtz(x, b, p_img), dtype=torch.int32),\n",
        "                               weight = torch.tensor(qtz(para['conv.weight'], b, p), dtype=torch.int32),\n",
        "                               bias = torch.tensor(qtz(para['conv.bias'], b, p) * (2 ** p_img), dtype=torch.int32),\n",
        "                               stride = args['Conv2d']['stride'],\n",
        "                               padding = args['Conv2d']['padding'])\n",
        "\n",
        "    out = round_deqtz(out.detach().numpy(), b, p_img, p).astype(np.float32)\n",
        "\n",
        "\n",
        "    if(args['Conv2d']['act_func'] == 'SiLU'):\n",
        "        out = npSiLU(out)\n",
        "        out = np.clip(out, -1.0, 32.0)\n",
        "\n",
        "\n",
        "\n",
        "        # out = np.round(out, 1)\n",
        "        # print(f\"max: {np.max(out)}, min: {np.min(out)}\")\n",
        "        return out\n",
        "    else:\n",
        "        out = np.clip(out, -1.0, 32.0)\n",
        "\n",
        "        return out\n",
        "\n",
        "\n",
        "\n",
        "def Concat_forward(x, args):\n",
        "    # x has no batch dim, i.e., shape is not [bs, c, h, w] but [c, h, w].\n",
        "    # args['dim'] assumes x has batch dim.\n",
        "\n",
        "\n",
        "    # x_ten = [torch.tensor(i[np.newaxis, ...], dtype=torch.float32) for i in x]\n",
        "    # return np.squeeze(torch.cat(x_ten, args['dim']).detach().numpy(), axis=0)\n",
        "\n",
        "    # dim = args['dim'] - 1\n",
        "\n",
        "    s = list(x[0].shape)\n",
        "    s[0] = sum([i.shape[0] for i in x])\n",
        "    out = np.zeros(s)\n",
        "\n",
        "    dim_offset = 0\n",
        "    for x_i in x:\n",
        "      out[dim_offset : dim_offset + x_i.shape[0], ...] = x_i\n",
        "      dim_offset += x_i.shape[0]\n",
        "\n",
        "    return out\n",
        "\n",
        "def MP_forward(x, args):\n",
        "\n",
        "    # m = nn.MaxPool2d(kernel_size=args[\"kernel_size\"], stride=args[\"stride\"], padding=args[\"padding\"])\n",
        "    # return np.squeeze(m(torch.tensor(x[np.newaxis, ...], dtype=torch.float32)).detach().numpy(), axis=0)\n",
        "\n",
        "    p = args['padding']\n",
        "    s = args['stride']\n",
        "    k = args['kernel_size']\n",
        "\n",
        "    out = np.zeros((int(x.shape[0]),\n",
        "                    int(np.ceil((x.shape[1] - (k - 1) + 2 * p) / s)),\n",
        "                    int(np.ceil((x.shape[2] - (k - 1) + 2 * p) / s))\n",
        "                    ))\n",
        "\n",
        "    # sweep image pixel\n",
        "    for i in range(-p, x.shape[1] - (k - 1) + p, s):\n",
        "        for j in range(-p, x.shape[2] - (k - 1) + p, s):\n",
        "\n",
        "\n",
        "\n",
        "            # print(f\"j_max: {x.shape[2] - (k - 1) + p - 1}\")\n",
        "\n",
        "            max = np.ones(x.shape[0]) * (-1000000)\n",
        "            for u in range(0, k, 1): # offset\n",
        "                ii = i + u\n",
        "                if(ii > x.shape[1]-1 or ii < 0): continue\n",
        "                for v in range(0, k, 1): # offset\n",
        "                    jj = j + v\n",
        "                    if(jj > x.shape[2]-1 or jj < 0): continue\n",
        "\n",
        "                    sel = x[:, ii, jj] > max\n",
        "                    max[sel] = x[sel, ii, jj]\n",
        "\n",
        "            out[:, (i + p) // s, (j + p) // s] = max\n",
        "\n",
        "\n",
        "    return out\n",
        "\n",
        "def Upsample_forward(x, args, para):\n",
        "\n",
        "    # x = torch.tensor(x[np.newaxis, ...], dtype=torch.float32)\n",
        "    # m = nn.modules.upsampling.Upsample(scale_factor=args[\"scale_factor\"], mode=args[\"mode\"] )\n",
        "\n",
        "    # return np.squeeze(m(x).detach().numpy(), axis=0)\n",
        "\n",
        "    s = int(args[\"scale_factor\"])\n",
        "    out = np.zeros((x.shape[0], s * x.shape[1], s * x.shape[2]))\n",
        "\n",
        "    for i in range(x.shape[1]):\n",
        "        for j in range(x.shape[2]):\n",
        "            out[:, s * i: s * (i + 1), s * j: s * (j + 1)] = x[:, i, j].reshape((x.shape[0], 1, 1))\n",
        "\n",
        "    return out\n",
        "\n",
        "def SPPCSPC_forward(x, args, para):\n",
        "\n",
        "    x1 = Conv_forward(np.copy(x), {'Conv2d': args['Conv2d'][1]}, {'conv.weight': para[f\"cv{1}.conv.weight\"], 'conv.bias': para[f\"cv{1}.conv.bias\"]})\n",
        "    x1 = Conv_forward(x1, {'Conv2d': args['Conv2d'][3]}, {'conv.weight': para[f\"cv{3}.conv.weight\"], 'conv.bias': para[f\"cv{3}.conv.bias\"]})\n",
        "    x1 = Conv_forward(x1, {'Conv2d': args['Conv2d'][4]}, {'conv.weight': para[f\"cv{4}.conv.weight\"], 'conv.bias': para[f\"cv{4}.conv.bias\"]})\n",
        "\n",
        "    cat_in = [x1]\n",
        "    cat_in.append(MP_forward(np.copy(x1), args['mp'][0]))\n",
        "    cat_in.append(MP_forward(np.copy(x1), args['mp'][1]))\n",
        "    cat_in.append(MP_forward(np.copy(x1), args['mp'][2]))\n",
        "\n",
        "    # x1 = torch.cat(cat_in, 0).detach().numpy()\n",
        "    x1 = Concat_forward(cat_in, {'dim': 1})\n",
        "\n",
        "    x1 = Conv_forward(x1, {'Conv2d': args['Conv2d'][5]}, {'conv.weight': para[f\"cv{5}.conv.weight\"], 'conv.bias': para[f\"cv{5}.conv.bias\"]})\n",
        "    y1 = Conv_forward(x1, {'Conv2d': args['Conv2d'][6]}, {'conv.weight': para[f\"cv{6}.conv.weight\"], 'conv.bias': para[f\"cv{6}.conv.bias\"]})\n",
        "    y2 = Conv_forward(x, {'Conv2d': args['Conv2d'][2]}, {'conv.weight': para[f\"cv{2}.conv.weight\"], 'conv.bias': para[f\"cv{2}.conv.bias\"]})\n",
        "\n",
        "    out = Concat_forward([y1, y2], {'dim': 1}) # cat along channel dim.\n",
        "    out = Conv_forward(out, {'Conv2d': args['Conv2d'][7]}, {'conv.weight': para[f\"cv{7}.conv.weight\"], 'conv.bias': para[f\"cv{7}.conv.bias\"]})\n",
        "    return out\n",
        "\n",
        "def RepConv_forward(x, args, para):\n",
        "\n",
        "\n",
        "    # args: {'Conv2d': {'stride': (1, 1), 'padding': (1, 1), 'kernel_size': (3, 3)}, 'act_func': 'SiLU(inplace=True)'}\n",
        "    #     rbr_reparam.weight: (256, 128, 3, 3)\n",
        "    #     rbr_reparam.bias: (256,)\n",
        "\n",
        "    n_ch_out = para['rbr_reparam.weight'].shape[0]\n",
        "    n_ch_in = para['rbr_reparam.weight'].shape[1]\n",
        "\n",
        "    m = nn.Conv2d(n_ch_in,\n",
        "                  n_ch_out,\n",
        "                  kernel_size=args['Conv2d']['kernel_size'],\n",
        "                  stride=args['Conv2d']['stride'],\n",
        "                  padding=args['Conv2d']['padding'])\n",
        "    act = nn.SiLU(inplace=True)\n",
        "\n",
        "    m.weight = torch.nn.Parameter(torch.tensor(para['rbr_reparam.weight']))\n",
        "    m.bias = torch.nn.Parameter(torch.tensor(para['rbr_reparam.bias']))\n",
        "\n",
        "    out = m(torch.tensor(x[np.newaxis, ...], dtype=torch.float32))\n",
        "    return np.squeeze(act(out).detach().numpy(), axis=0)\n",
        "\n",
        "def Detect_forward(x, args, para):\n",
        "\n",
        "    def sigmoid(x):\n",
        "      return 1/(1 + np.exp(-x))\n",
        "\n",
        "    def make_grid(nx=20, ny=20):\n",
        "\n",
        "        yv, xv = np.meshgrid(np.arange(ny), np.arange(nx), indexing='ij')\n",
        "        return np.concatenate((xv[..., np.newaxis], yv[..., np.newaxis]), axis=2).reshape((1, ny, nx, 2)).astype(np.float32)\n",
        "\n",
        "    z = []\n",
        "    stride = np.array([ 8., 16., 32.])\n",
        "    anchor_grid = np.array([\n",
        "                                [[[[ 12.,  16.]]],\n",
        "                                  [[[ 19.,  36.]]],\n",
        "                                  [[[ 40.,  28.]]]],\n",
        "\n",
        "                                [[[[ 36.,  75.]]],\n",
        "                                  [[[ 76.,  55.]]],\n",
        "                                  [[[ 72., 146.]]]],\n",
        "\n",
        "                                [[[[142., 110.]]],\n",
        "                                  [[[192., 243.]]],\n",
        "                                  [[[459., 401.]]]]\n",
        "                            ]\n",
        "                           )\n",
        "\n",
        "    nl = 3\n",
        "    no = 85\n",
        "    na = 3\n",
        "\n",
        "    m = nn.ModuleList(nn.Conv2d(i, no * na, 1) for i in [256, 512, 1024])\n",
        "\n",
        "    for i in range(3):\n",
        "        m[i].weight = torch.nn.Parameter(torch.tensor(para[f\"m.{i}.weight\"]))\n",
        "        m[i].bias = torch.nn.Parameter(torch.tensor(para[f\"m.{i}.bias\"]))\n",
        "\n",
        "\n",
        "    grid = [np.zeros(1)] * nl\n",
        "\n",
        "\n",
        "\n",
        "    for i in range(nl):\n",
        "\n",
        "        x[i] = m[i](torch.tensor(x[i], dtype=torch.float32)).detach().numpy()\n",
        "\n",
        "        _, ny, nx = x[i].shape\n",
        "\n",
        "\n",
        "        x[i] = x[i].reshape(3, 85, ny, nx)\n",
        "        x[i] = np.transpose(x[i], (0, 2, 3, 1))\n",
        "\n",
        "        # shape: (1, ny, nx, 2)\n",
        "        grid[i] = make_grid(nx, ny)\n",
        "\n",
        "        # (3, ny, nx, 85)\n",
        "        y = sigmoid(x[i])\n",
        "\n",
        "\n",
        "        y[..., 0:2] = (y[..., 0:2] * 2. - 0.5 + grid[i]) * stride[i]  # xy\n",
        "\n",
        "        #  anchor_grid: (3, 1, 1, 2)\n",
        "        y[..., 2:4] = (y[..., 2:4] * 2) ** 2 * anchor_grid[i]  # wh\n",
        "\n",
        "        z.append(y.reshape(1, -1, 85))\n",
        "\n",
        "    return np.concatenate(z, axis=1)\n",
        "\n",
        "\n",
        "\n",
        "\n",
        "\n",
        "\n",
        "def prepare_mod_input(sd, fromId):\n",
        "    if fromId != -1:  # if not from previous layer\n",
        "        sd.x = np.copy(sd.y[fromId]) if isinstance(fromId, int) else [np.copy(sd.x) if j == -1 else np.copy(sd.y[j]) for j in fromId]\n",
        "\n",
        "save = [3, 4, 5, 7, 11, 13, 16, 17, 18, 20, 24, 24, 26, 29, 30, 31, 33, 37, 37, 39, 42, 43, 44, 46, 51, 53, 55, 56, 57, 58, 59, 60, 63, 65, 67, 68, 69, 70, 71, 72, 75, 75, 77, 80, 81, 82, 83, 84, 85, 88, 88, 90, 93, 94, 95, 96, 97, 98, 101, 102, 103, 104]\n",
        "\n",
        "sd = AttrDict(y = [], x = 0, out=[])\n",
        "\n",
        "for i, img in enumerate(para_dict[\"input_img\"]):\n",
        "    print(f\"i: {i}\")\n",
        "    if(i > 0): break\n",
        "\n",
        "    img = img.astype(np.float32) / 255.0\n",
        "\n",
        "    img = img[:,::2, ::2]\n",
        "\n",
        "    pad = np.zeros((img.shape[0], 80, img.shape[2]))\n",
        "    img = np.concatenate((img, pad), axis=1)\n",
        "    img = img[..., :-16]\n",
        "\n",
        "    img = img[:,::2, ::2]\n",
        "    img = img[:,:128, :]\n",
        "    print(f\">>> img.shape: {img.shape}\")\n",
        "\n",
        "    sd.x = img\n",
        "    # para_dict['input_img'][i] = img\n",
        "\n",
        "\n",
        "\n",
        "    sd.y = []\n",
        "\n",
        "\n",
        "    for mod_id, mod in para_dict[\"mod_dict\"].items():\n",
        "\n",
        "        prepare_mod_input(sd, mod['fromId'])\n",
        "\n",
        "        if(mod['mod_type'] == \"models.common.Conv\"):\n",
        "            sd.x = Conv_forward(np.copy(sd.x), mod['args'], mod['para'])\n",
        "\n",
        "        elif(mod['mod_type'] == \"models.common.Concat\"):\n",
        "            sd.x = Concat_forward(np.copy(sd.x), mod['args'])\n",
        "\n",
        "        elif(mod['mod_type'] == \"models.common.MP\"):\n",
        "            sd.x = MP_forward(np.copy(sd.x), mod['args'])\n",
        "\n",
        "        elif(mod['mod_type'] == \"torch.nn.modules.upsampling.Upsample\"):\n",
        "            sd.x = Upsample_forward(np.copy(sd.x), mod['args'], mod['para'])\n",
        "\n",
        "        elif(mod['mod_type'] == \"models.common.SPPCSPC\"):\n",
        "            sd.x = SPPCSPC_forward(np.copy(sd.x), mod['args'], mod['para'])\n",
        "\n",
        "        elif(mod['mod_type'] == \"models.common.RepConv\"):\n",
        "            sd.x = RepConv_forward(np.copy(sd.x), mod['args'], mod['para'])\n",
        "\n",
        "        elif(mod['mod_type'] == \"models.yolo.Detect\"):\n",
        "            sd.x = Detect_forward(np.copy(sd.x), mod['args'], mod['para'])\n",
        "            sd.out.append(np.copy(sd.x))\n",
        "\n",
        "        sd.y.append(np.copy(sd.x) if mod_id in save else None)  # save output\n",
        "\n",
        "\n",
        "\n",
        "for i in range(len(sd.out)):\n",
        "\n",
        "    out = non_max_suppression(sd.out[i], conf_thres=0.0001, iou_thres=0.6, labels=[], multi_label=True)\n",
        "\n",
        "    img = para_dict['input_img'][i]\n",
        "    img = img.astype(np.float32) / 255.0\n",
        "\n",
        "    img = img[:,::2, ::2]\n",
        "\n",
        "    pad = np.zeros((img.shape[0], 80, img.shape[2]))\n",
        "    img = np.concatenate((img, pad), axis=1)\n",
        "    img = img[..., :-16]\n",
        "    img = img[:,::2, ::2]\n",
        "    img = img[:,:128, :]\n",
        "\n",
        "    mosaic = plot_images(img, output_to_target(out))\n",
        "\n",
        "    plt.imshow(mosaic, interpolation='nearest')\n",
        "    plt.show()"
      ],
      "metadata": {
        "colab": {
          "base_uri": "https://localhost:8080/",
          "height": 490
        },
        "id": "VC_vf3QbAPjT",
        "outputId": "ff77f273-5f81-49d8-ab4b-3bcbedf20204"
      },
      "execution_count": null,
      "outputs": [
        {
          "output_type": "stream",
          "name": "stdout",
          "text": [
            "i: 0\n",
            ">>> img.shape: (3, 128, 160)\n",
            "i: 1\n"
          ]
        },
        {
          "output_type": "display_data",
          "data": {
            "text/plain": [
              "<Figure size 640x480 with 1 Axes>"
            ],
            "image/png": "[encoded data removed]"
          },
          "metadata": {}
        }
      ]
    },
    {
      "cell_type": "code",
      "source": [],
      "metadata": {
        "id": "_2WWShQTosPz"
      },
      "execution_count": null,
      "outputs": []
    },
    {
      "cell_type": "code",
      "source": [],
      "metadata": {
        "id": "x6z1Cv3BcEbW"
      },
      "execution_count": null,
      "outputs": []
    },
    {
      "cell_type": "code",
      "source": [
        "a = np.random.rand(2,2,4) * 20 - 10\n",
        "\n",
        "a\n"
      ],
      "metadata": {
        "colab": {
          "base_uri": "https://localhost:8080/"
        },
        "id": "db1v5PWfcEem",
        "outputId": "d2044c73-8e30-411d-b7d5-409c35faf4ca"
      },
      "execution_count": null,
      "outputs": [
        {
          "output_type": "execute_result",
          "data": {
            "text/plain": [
              "array([[[    -7.4516,      8.5535,       1.875,     -6.5011],\n",
              "        [     0.1668,     0.60435,     -8.6435,     -6.7415]],\n",
              "\n",
              "       [[    -9.2105,      9.9329,    -0.27903,     -4.9351],\n",
              "        [     2.4375,      9.4576,     -6.1584,     -8.5132]]])"
            ]
          },
          "metadata": {},
          "execution_count": 63
        }
      ]
    },
    {
      "cell_type": "code",
      "source": [
        "np.clip(a, -3.2, 8.5)"
      ],
      "metadata": {
        "colab": {
          "base_uri": "https://localhost:8080/"
        },
        "id": "bKAPRzduo0Wm",
        "outputId": "98cefc2d-e305-4de7-8d3c-293681ba1fc3"
      },
      "execution_count": null,
      "outputs": [
        {
          "output_type": "execute_result",
          "data": {
            "text/plain": [
              "array([[[       -3.2,         8.5,       1.875,        -3.2],\n",
              "        [     0.1668,     0.60435,        -3.2,        -3.2]],\n",
              "\n",
              "       [[       -3.2,         8.5,    -0.27903,        -3.2],\n",
              "        [     2.4375,         8.5,        -3.2,        -3.2]]])"
            ]
          },
          "metadata": {},
          "execution_count": 64
        }
      ]
    },
    {
      "cell_type": "markdown",
      "source": [
        "# Tests"
      ],
      "metadata": {
        "id": "ZbrW8IYlvzY6"
      }
    },
    {
      "cell_type": "code",
      "source": [
        "\n",
        "import numpy as np\n",
        "import torch\n",
        "\n",
        "from utils.torch_utils import select_device, time_synchronized, TracedModel\n",
        "\n",
        "import torch.nn as nn\n",
        "\n",
        "\n",
        "\n",
        "model_fp32 = attempt_load(['./yolov7.pt'], map_location=select_device('', batch_size=1))  # load FP32 model\n",
        "model_fp32.eval()\n",
        "\n",
        "\n",
        "\n",
        "\n",
        "for m in model_fp32.model:\n",
        "\n",
        "    for name, param in m.named_parameters():\n",
        "\n",
        "        print(f\"name: {name}\", param[:5,0,0,0])\n",
        "\n",
        "        break\n",
        "\n",
        "    break"
      ],
      "metadata": {
        "colab": {
          "base_uri": "https://localhost:8080/"
        },
        "id": "8SY212pN6qut",
        "outputId": "b20a7012-5be8-4f79-99bd-5e3e986c7106"
      },
      "execution_count": null,
      "outputs": [
        {
          "output_type": "stream",
          "name": "stdout",
          "text": [
            "Fusing layers... \n",
            "RepConv.fuse_repvgg_block\n",
            "RepConv.fuse_repvgg_block\n",
            "RepConv.fuse_repvgg_block\n",
            "name: conv.weight tensor([-0.19799, -0.42058, -0.53770,  1.03452,  1.41203], grad_fn=<SelectBackward0>)\n"
          ]
        }
      ]
    },
    {
      "cell_type": "code",
      "source": [],
      "metadata": {
        "id": "xVSS0gWU6qqi"
      },
      "execution_count": null,
      "outputs": []
    },
    {
      "cell_type": "code",
      "source": [],
      "metadata": {
        "id": "jK5ZR1156qmX"
      },
      "execution_count": null,
      "outputs": []
    },
    {
      "cell_type": "markdown",
      "source": [
        "## test quantization"
      ],
      "metadata": {
        "id": "4o5cwZ9t5fDd"
      }
    },
    {
      "cell_type": "code",
      "source": [
        "def qtz(x, p = 8): # on weights & fm.\n",
        "    return (x * (2 ** p)).astype(np.int32)\n",
        "\n",
        "def deqtz(x, p = 8):\n",
        "    return (x * 1.0)/(2 ** p)\n",
        "\n",
        "def round_deqtz(x, p = 8): # only on fm.\n",
        "    x = x / (2 ** p)\n",
        "    x = x.astype(np.int8)\n",
        "    return (x * 1.0)/(2 ** p)"
      ],
      "metadata": {
        "id": "LlF9808i0tCw"
      },
      "execution_count": null,
      "outputs": []
    },
    {
      "cell_type": "code",
      "source": [
        "a = -np.random.rand(6)\n",
        "b = np.random.rand(6)"
      ],
      "metadata": {
        "id": "DYbgJvzS0mgL"
      },
      "execution_count": null,
      "outputs": []
    },
    {
      "cell_type": "code",
      "source": [
        "a * b"
      ],
      "metadata": {
        "colab": {
          "base_uri": "https://localhost:8080/"
        },
        "id": "2pKYtDEx0tFd",
        "outputId": "5b2459fb-803b-4bb4-d39d-a679e6240cf5"
      },
      "execution_count": null,
      "outputs": [
        {
          "output_type": "execute_result",
          "data": {
            "text/plain": [
              "array([   -0.25431,    -0.18817,   -0.068663,    -0.76722,    -0.10004,    -0.65606])"
            ]
          },
          "metadata": {},
          "execution_count": 66
        }
      ]
    },
    {
      "cell_type": "code",
      "source": [
        "\n",
        "round_deqtz(qtz(a) * qtz(b))"
      ],
      "metadata": {
        "colab": {
          "base_uri": "https://localhost:8080/"
        },
        "id": "0JdDNF8I0tJU",
        "outputId": "da4675ec-2cea-4b4d-b85c-cd1ee1e5deb1"
      },
      "execution_count": null,
      "outputs": [
        {
          "output_type": "execute_result",
          "data": {
            "text/plain": [
              "array([      -0.25,    -0.18359,   -0.066406,     0.23828,    -0.09375,     0.34766])"
            ]
          },
          "metadata": {},
          "execution_count": 69
        }
      ]
    },
    {
      "cell_type": "markdown",
      "source": [
        "## test conv2d qtz"
      ],
      "metadata": {
        "id": "TS6T5PM7Orc0"
      }
    },
    {
      "cell_type": "code",
      "source": [
        "\n",
        "def npSiLU(x):\n",
        "    return x*(1/(1+np.exp(-x)))\n",
        "\n",
        "\n",
        "args = para_dict[\"mod_dict\"][0]['args']\n",
        "para = para_dict[\"mod_dict\"][0]['para']\n",
        "x = np.random.rand(3, 10, 10)"
      ],
      "metadata": {
        "id": "2KIMnwYN997f"
      },
      "execution_count": null,
      "outputs": []
    },
    {
      "cell_type": "code",
      "source": [
        "\n",
        "out = torch.nn.functional.conv2d(torch.tensor(x, dtype=torch.float32),\n",
        "                            weight=torch.tensor(para['conv.weight']),\n",
        "                            bias=torch.tensor(para['conv.bias']),\n",
        "                            stride=args['Conv2d']['stride'],\n",
        "                            padding=args['Conv2d']['padding'])\n",
        "\n",
        "# print(out[:20,0,0])\n",
        "\n",
        "# out.detach().numpy()[:5,0,0]\n",
        "npSiLU(out.detach().numpy())[:5,0,0]\n"
      ],
      "metadata": {
        "colab": {
          "base_uri": "https://localhost:8080/"
        },
        "id": "C7t_ok2-OOMD",
        "outputId": "f698a94b-2bad-48cb-fc3a-1e9745900483"
      },
      "execution_count": null,
      "outputs": [
        {
          "output_type": "execute_result",
          "data": {
            "text/plain": [
              "array([  -0.007574,       1.908, -9.0082e-05,     0.93922,      3.7207], dtype=float32)"
            ]
          },
          "metadata": {},
          "execution_count": 173
        }
      ]
    },
    {
      "cell_type": "code",
      "source": [
        "\n",
        "def qtz(x, p = 11): # on weights & fm.\n",
        "    return (x * (2 ** p)).astype(np.int32)\n",
        "\n",
        "# input type: np.int32\n",
        "def round_deqtz(x, p = 11): # only on fm.\n",
        "    x = np.right_shift(x, p)\n",
        "    print(x[:5,0,0])\n",
        "    x = np.bitwise_and(x, 0x0000ffff).astype(np.int16).astype(np.int32)\n",
        "    print(x[:5,0,0])\n",
        "    x = x * 1.0\n",
        "    x = x / (2 ** p)\n",
        "    return x\n",
        "\n",
        "out = torch.nn.functional.conv2d(input = torch.tensor(qtz(x), dtype=torch.int32),\n",
        "                            weight = torch.tensor(qtz(para['conv.weight']), dtype=torch.int32),\n",
        "                            bias = torch.tensor(qtz(para['conv.bias']) * (2 ** 11), dtype=torch.int32),\n",
        "                            stride = args['Conv2d']['stride'],\n",
        "                            padding = args['Conv2d']['padding'])\n",
        "\n",
        "\n",
        "out = round_deqtz(out.detach().numpy()).astype(np.float32)\n",
        "# out[:5,0,0]\n",
        "\n",
        "npSiLU(out)[:5,0,0]"
      ],
      "metadata": {
        "colab": {
          "base_uri": "https://localhost:8080/"
        },
        "id": "c1V8KxIsFFDC",
        "outputId": "f8c0395a-db7a-422f-9971-03e8476c0941"
      },
      "execution_count": null,
      "outputs": [
        {
          "output_type": "stream",
          "name": "stdout",
          "text": [
            "[-13933   4372 -24136   2493   7786]\n",
            "[-13933   4372 -24136   2493   7786]\n"
          ]
        },
        {
          "output_type": "execute_result",
          "data": {
            "text/plain": [
              "array([ -0.0075445,       1.909, -8.9764e-05,     0.93924,      3.7187], dtype=float32)"
            ]
          },
          "metadata": {},
          "execution_count": 183
        }
      ]
    },
    {
      "cell_type": "markdown",
      "source": [
        "## model quantization test"
      ],
      "metadata": {
        "id": "NLHuSo1u6Rik"
      }
    },
    {
      "cell_type": "code",
      "source": [
        "import torch\n",
        "\n",
        "# define a floating point model where some layers could be statically quantized\n",
        "class M(torch.nn.Module):\n",
        "    def __init__(self):\n",
        "        super().__init__()\n",
        "\n",
        "        # QuantStub converts tensors from floating point to quantized\n",
        "        self.quant = torch.ao.quantization.QuantStub()\n",
        "\n",
        "        self.conv = torch.nn.Conv2d(1, 3, 3)\n",
        "        self.relu = torch.nn.ReLU()\n",
        "\n",
        "        # DeQuantStub converts tensors from quantized to floating point\n",
        "        self.dequant = torch.ao.quantization.DeQuantStub()\n",
        "\n",
        "    def forward(self, x):\n",
        "\n",
        "        # manually specify where tensors will be converted from floating\n",
        "        # point to quantized in the quantized model\n",
        "        x = self.quant(x)\n",
        "\n",
        "        x = self.conv(x)\n",
        "        x = self.relu(x)\n",
        "\n",
        "        # manually specify where tensors will be converted from quantized\n",
        "        # to floating point in the quantized model\n",
        "        x = self.dequant(x)\n",
        "\n",
        "        return x\n",
        "\n",
        "# create a model instance\n",
        "model_fp32 = M()\n",
        "\n",
        "\n",
        "\n",
        "model_fp32.eval()\n",
        "\n",
        "\n",
        "model_fp32.qconfig = torch.ao.quantization.get_default_qconfig('x86')\n",
        "\n",
        "\n",
        "# model_fp32_fused = torch.ao.quantization.fuse_modules(model_fp32, [['conv', 'relu']])\n",
        "\n",
        "model_fp32_prepared = torch.ao.quantization.prepare(model_fp32)\n",
        "\n",
        "input_fp32 = torch.randn(4, 1, 4, 4)\n",
        "model_fp32_prepared(input_fp32)\n",
        "\n",
        "model_int8 = torch.ao.quantization.convert(model_fp32_prepared)\n",
        "\n",
        "# run the model, relevant calculations will happen in int8\n",
        "res = model_int8(input_fp32)"
      ],
      "metadata": {
        "id": "MnsrbrG2vABB"
      },
      "execution_count": null,
      "outputs": []
    },
    {
      "cell_type": "code",
      "source": [
        "for n, para in model_fp32_prepared.conv.named_parameters():\n",
        "    print(para)"
      ],
      "metadata": {
        "colab": {
          "base_uri": "https://localhost:8080/"
        },
        "id": "Rq7kyMRrvAJq",
        "outputId": "2ad25bc9-4aa6-4eb4-9891-67e4f6550384"
      },
      "execution_count": null,
      "outputs": [
        {
          "output_type": "stream",
          "name": "stdout",
          "text": [
            "Parameter containing:\n",
            "tensor([[[[-0.25195,  0.03055,  0.08820],\n",
            "          [ 0.09190, -0.22733, -0.08123],\n",
            "          [-0.21385, -0.22114, -0.25910]]],\n",
            "\n",
            "\n",
            "        [[[ 0.28827,  0.24281, -0.18969],\n",
            "          [-0.02346,  0.24396, -0.05283],\n",
            "          [ 0.20287, -0.04050, -0.29095]]],\n",
            "\n",
            "\n",
            "        [[[-0.09200,  0.31855, -0.03071],\n",
            "          [ 0.24876, -0.07222,  0.22529],\n",
            "          [-0.17484,  0.24293,  0.01458]]]], requires_grad=True)\n",
            "Parameter containing:\n",
            "tensor([-0.12957, -0.06736, -0.11296], requires_grad=True)\n"
          ]
        }
      ]
    },
    {
      "cell_type": "code",
      "source": [
        "model_int8.state_dict()"
      ],
      "metadata": {
        "colab": {
          "base_uri": "https://localhost:8080/"
        },
        "id": "c8c94T-kv3eo",
        "outputId": "14ac8435-e957-49a4-c523-31ce27b798c0"
      },
      "execution_count": null,
      "outputs": [
        {
          "output_type": "execute_result",
          "data": {
            "text/plain": [
              "OrderedDict([('quant.scale', tensor([0.03730])),\n",
              "             ('quant.zero_point', tensor([71])),\n",
              "             ('conv.weight',\n",
              "              tensor([[[[-0.25198,  0.03048,  0.08738],\n",
              "                        [ 0.09145, -0.22760, -0.08129],\n",
              "                        [-0.21337, -0.22150, -0.26011]]],\n",
              "              \n",
              "              \n",
              "                      [[[ 0.28753,  0.24189, -0.18941],\n",
              "                        [-0.02282,  0.24417, -0.05249],\n",
              "                        [ 0.20310, -0.04108, -0.29209]]],\n",
              "              \n",
              "              \n",
              "                      [[[-0.09244,  0.31731, -0.02998],\n",
              "                        [ 0.24985, -0.07246,  0.22486],\n",
              "                        [-0.17489,  0.24235,  0.01499]]]], size=(3, 1, 3, 3), dtype=torch.qint8, quantization_scheme=torch.per_channel_affine, scale=tensor([0.00203, 0.00228, 0.00250], dtype=torch.float64), zero_point=tensor([0, 0, 0]), axis=0)),\n",
              "             ('conv.bias',\n",
              "              Parameter containing:\n",
              "              tensor([-0.12957, -0.06736, -0.11296], requires_grad=True)),\n",
              "             ('conv.scale', tensor(0.01969)),\n",
              "             ('conv.zero_point', tensor(54))])"
            ]
          },
          "metadata": {},
          "execution_count": 12
        }
      ]
    },
    {
      "cell_type": "code",
      "source": [
        "\n"
      ],
      "metadata": {
        "id": "tBqv0RDVkJau"
      },
      "execution_count": null,
      "outputs": []
    },
    {
      "cell_type": "markdown",
      "source": [
        "## test Conv_forward vs nn.Conv2d"
      ],
      "metadata": {
        "id": "AjcFA7u3pIxx"
      }
    },
    {
      "cell_type": "code",
      "source": [
        "import torch.nn as nn\n",
        "import torch\n",
        "import numpy as np"
      ],
      "metadata": {
        "id": "qAjydHP8qYVw"
      },
      "execution_count": null,
      "outputs": []
    },
    {
      "cell_type": "code",
      "source": [
        "input = np.random.rand(3, 400, 600)"
      ],
      "metadata": {
        "id": "W3Sqi6gxq1Ll"
      },
      "execution_count": null,
      "outputs": []
    },
    {
      "cell_type": "code",
      "source": [
        "m = nn.Conv2d(3, 32, kernel_size=(3, 3), stride=(1, 1), padding=(1, 1))\n",
        "\n",
        "m.weight = torch.nn.Parameter(torch.tensor(para_dict[\"mod_dict\"][0]['para']['conv.weight']))\n",
        "m.bias = torch.nn.Parameter(torch.tensor(para_dict[\"mod_dict\"][0]['para']['conv.bias']))\n",
        "\n",
        "# input = torch.randn(20, 16, 50, 100)\n",
        "output = m(torch.tensor(input, dtype=torch.float32))\n",
        "output.shape"
      ],
      "metadata": {
        "colab": {
          "base_uri": "https://localhost:8080/"
        },
        "id": "2Oicq2Uaps-e",
        "outputId": "745114eb-9751-42f4-fbd8-0306cc3dd65d"
      },
      "execution_count": null,
      "outputs": [
        {
          "output_type": "execute_result",
          "data": {
            "text/plain": [
              "torch.Size([32, 400, 600])"
            ]
          },
          "metadata": {},
          "execution_count": 54
        }
      ]
    },
    {
      "cell_type": "code",
      "source": [
        "def Conv_forward(x, args, para):\n",
        "\n",
        "    kernel = para['conv.weight']\n",
        "    bias = para['conv.bias']\n",
        "\n",
        "\n",
        "    p1, p2 = args['Conv2d']['padding']\n",
        "    s1, s2 = args['Conv2d']['stride']\n",
        "    k1, k2 = args['Conv2d']['kernel_size']\n",
        "    w1 = k1//2\n",
        "    w2 = k2//2\n",
        "\n",
        "    out = np.zeros((kernel.shape[0],\n",
        "                    x.shape[1] - 2 * (w1 - p1),\n",
        "                    x.shape[2] - 2 * ((w2 - p2))))\n",
        "\n",
        "    # sweep image pixel\n",
        "    for i in range(w1 - p1, x.shape[1] - w1 + p1, s1):\n",
        "        for j in range(w2 - p2, x.shape[2] - w2 + p2, s2):\n",
        "\n",
        "            # accumulate\n",
        "            acc = np.zeros(kernel.shape[0])\n",
        "\n",
        "            for u in range(-w1, w1 + 1, 1): # offset\n",
        "                ii = i + u\n",
        "                if(ii > x.shape[1]-1 or ii < 0): continue\n",
        "                for v in range(-w2, w2 + 1, 1): # offset\n",
        "                    jj = j + v\n",
        "                    if(jj > x.shape[2]-1 or jj < 0): continue\n",
        "\n",
        "                    acc += np.sum(x[:, ii, jj] * kernel[:, :, u + w1, v + w2], axis=1)\n",
        "\n",
        "            out[:, i - (w1 - p1), j - (w2 - p2)] = acc + bias\n",
        "\n",
        "    return out\n",
        "\n",
        "\n",
        "# sd = AttrDict(y = [], x = input)\n",
        "# sd = AttrDict(y = [], x = para_dict['input_img'])\n",
        "args = para_dict[\"mod_dict\"][0][\"args\"]\n",
        "para = para_dict[\"mod_dict\"][0]['para']\n",
        "\n",
        "out = Conv_forward(input, args, para)\n",
        "\n",
        "out.shape, out[0].round(4)"
      ],
      "metadata": {
        "colab": {
          "base_uri": "https://localhost:8080/"
        },
        "id": "iUx3MvktuYVj",
        "outputId": "e8c479c1-4723-49b4-8c8a-e04b73353eb7"
      },
      "execution_count": null,
      "outputs": [
        {
          "output_type": "execute_result",
          "data": {
            "text/plain": [
              "((32, 400, 600),\n",
              " array([[    -5.7272,     -5.2765,     -2.0739, ...,     -5.9058,     -6.0844,     -1.5986],\n",
              "        [    -7.4395,      -6.853,     -1.0237, ...,     -1.2853,     -4.7972,     -2.5544],\n",
              "        [    -7.5881,     -6.3218,     -2.9958, ...,     -3.1886,     -5.6728,     -3.4191],\n",
              "        ...,\n",
              "        [    -3.6438,     -2.9103,       1.336, ...,      -0.713,     -3.2221,     -3.3096],\n",
              "        [    -5.7936,     -5.0483,     -1.0052, ...,     -1.7959,     -2.2643,     -1.9005],\n",
              "        [    -6.0722,     -5.8845,     -3.1849, ...,     -4.2568,     -4.5902,     -4.5106]]))"
            ]
          },
          "metadata": {},
          "execution_count": 55
        }
      ]
    },
    {
      "cell_type": "code",
      "source": [
        "print(output.detach().numpy().round(4)[0])"
      ],
      "metadata": {
        "colab": {
          "base_uri": "https://localhost:8080/"
        },
        "id": "inN8AnA-xcm2",
        "outputId": "e82ddfe4-9cc5-4374-f5d8-f1bf6637fea4"
      },
      "execution_count": null,
      "outputs": [
        {
          "output_type": "stream",
          "name": "stdout",
          "text": [
            "[[    -5.7272     -5.2765     -2.0739 ...     -5.9058     -6.0844     -1.5987]\n",
            " [    -7.4395      -6.853     -1.0237 ...     -1.2853     -4.7972     -2.5544]\n",
            " [    -7.5881     -6.3218     -2.9958 ...     -3.1886     -5.6728     -3.4191]\n",
            " ...\n",
            " [    -3.6438     -2.9103       1.336 ...      -0.713     -3.2221     -3.3096]\n",
            " [    -5.7936     -5.0483     -1.0052 ...     -1.7959     -2.2643     -1.9005]\n",
            " [    -6.0722     -5.8845     -3.1849 ...     -4.2568     -4.5902     -4.5106]]\n"
          ]
        }
      ]
    },
    {
      "cell_type": "code",
      "source": [],
      "metadata": {
        "id": "bFCnLCikxcoW"
      },
      "execution_count": null,
      "outputs": []
    },
    {
      "cell_type": "code",
      "source": [],
      "metadata": {
        "id": "0jM4onGnxcqK"
      },
      "execution_count": null,
      "outputs": []
    },
    {
      "cell_type": "code",
      "source": [
        "\n",
        "\n",
        "\n",
        "def Conv_forward(sd, args, para):\n",
        "    # [0 - models.common.Conv] fromId: -1, args: {'Conv2d': {'stride': (1, 1), 'padding': (1, 1)}}\n",
        "    #     conv.weight: (32, 3, 3, 3)\n",
        "    #     conv.bias: (32,)\n",
        "\n",
        "    # img.shape: [3, 480, 672]\n",
        "    x = sd.x\n",
        "\n",
        "    kernel = para['conv.weight']\n",
        "    bias = para['conv.bias']\n",
        "\n",
        "\n",
        "    p1, p2 = args['Conv2d']['padding']\n",
        "    s1, s2 = args['Conv2d']['stride']\n",
        "    k1, k2 = args['Conv2d']['kernel_size']\n",
        "    w1 = k1//2\n",
        "    w2 = k2//2\n",
        "\n",
        "    out = np.zeros((para['conv.weight'].shape[0],\n",
        "                    x.shape[1] - 2 * (w1 - p1),\n",
        "                    x.shape[2] - 2 * ((w2 - p2))))\n",
        "\n",
        "    for c2 in range(para['conv.weight'].shape[0]): # output ch\n",
        "        # print(c2)\n",
        "        # sweep image pixel\n",
        "        for i in range(w1 - p1, x.shape[1] - w1 + p1, s1):\n",
        "            for j in range(w2 - p2, x.shape[2] - w2 + p2, s2):\n",
        "                # print((i,j))\n",
        "                # accumulate\n",
        "                acc = 0\n",
        "                for c1 in range(x.shape[0]): # input ch\n",
        "\n",
        "                    for u in range(-w1, w1 + 1, 1): # offset\n",
        "\n",
        "                        ii = i + u\n",
        "                        if(ii > x.shape[1]-1 or ii < 0): continue\n",
        "\n",
        "                        for v in range(-w2, w2 + 1, 1): # offset\n",
        "\n",
        "                            jj = j + v\n",
        "                            if(jj > x.shape[2]-1 or jj < 0): continue\n",
        "\n",
        "\n",
        "                            acc += x[c1, ii, jj] * kernel[c2, c1, u + w1, v + w2]\n",
        "\n",
        "                out[c2, i - (w1 - p1), j - (w2 - p2)] = acc + bias[c2]\n",
        "    sd.x = out\n",
        "\n",
        "sd = AttrDict(y = [], x = input)\n",
        "# sd = AttrDict(y = [], x = para_dict['input_img'])\n",
        "args= para_dict[\"mod_dict\"][0][\"args\"]\n",
        "para = para_dict[\"mod_dict\"][0]['para']\n",
        "\n",
        "Conv_forward(sd, args, para)\n",
        "\n",
        "sd.x.shape, sd.x[0].round(4)"
      ],
      "metadata": {
        "colab": {
          "base_uri": "https://localhost:8080/"
        },
        "id": "VYqMKLD5OV4l",
        "outputId": "a788a430-b46d-47fb-a559-7d28b7afb7e1"
      },
      "execution_count": null,
      "outputs": [
        {
          "output_type": "execute_result",
          "data": {
            "text/plain": [
              "((32, 4, 5),\n",
              " array([[    -7.3581,     -4.7425,     -2.5115,     -0.3727,      -3.235],\n",
              "        [    -5.6799,     -2.1284,     -2.4736,     -2.8852,     -5.9405],\n",
              "        [    -7.9998,     -4.5711,      -2.999,     -2.2607,     -4.6586],\n",
              "        [    -7.4078,     -5.3951,     -4.1646,     -1.7039,     -3.1181]]))"
            ]
          },
          "metadata": {},
          "execution_count": 100
        }
      ]
    },
    {
      "cell_type": "code",
      "source": [
        "print(output.detach().numpy().round(4)[0])"
      ],
      "metadata": {
        "colab": {
          "base_uri": "https://localhost:8080/"
        },
        "id": "0Y5grOOrpOzb",
        "outputId": "5bb63759-eeab-4641-8a76-a0b69d5ea735"
      },
      "execution_count": null,
      "outputs": [
        {
          "output_type": "stream",
          "name": "stdout",
          "text": [
            "[[    -7.3581     -4.7425     -2.5115     -0.3727      -3.235]\n",
            " [    -5.6799     -2.1284     -2.4736     -2.8852     -5.9405]\n",
            " [    -7.9998     -4.5711      -2.999     -2.2607     -4.6586]\n",
            " [    -7.4078     -5.3951     -4.1646     -1.7039     -3.1181]]\n"
          ]
        }
      ]
    },
    {
      "cell_type": "code",
      "source": [
        "\n",
        "\n",
        "def Conv_forward(sd, args, para):\n",
        "\n",
        "    n_ch_out = para['conv.weight'].shape[0]\n",
        "    n_ch_in = para['conv.weight'].shape[1]\n",
        "\n",
        "    m = nn.Conv2d(n_ch_in,\n",
        "                  n_ch_out,\n",
        "                  kernel_size=args['Conv2d']['kernel_size'],\n",
        "                  stride=args['Conv2d']['stride'],\n",
        "                  padding=args['Conv2d']['padding'])\n",
        "\n",
        "    m.weight = torch.nn.Parameter(torch.tensor(para['conv.weight']))\n",
        "    m.bias = torch.nn.Parameter(torch.tensor(para['conv.bias']))\n",
        "\n",
        "    sd.x = m(torch.tensor(sd.x, dtype=torch.float32)).detach().numpy()\n",
        "\n",
        "\n",
        "sd = AttrDict(y = [], x = input)\n",
        "# sd = AttrDict(y = [], x = para_dict['input_img'])\n",
        "args= para_dict[\"mod_dict\"][0][\"args\"]\n",
        "para = para_dict[\"mod_dict\"][0]['para']\n",
        "\n",
        "Conv_forward(sd, args, para)\n",
        "\n",
        "sd.x.shape, sd.x[0].round(4)"
      ],
      "metadata": {
        "colab": {
          "base_uri": "https://localhost:8080/"
        },
        "id": "5wMmHfYu8YPA",
        "outputId": "d265452a-f850-449d-adb3-f8cb21675318"
      },
      "execution_count": null,
      "outputs": [
        {
          "output_type": "execute_result",
          "data": {
            "text/plain": [
              "((32, 4, 5),\n",
              " array([[    -7.3581,     -4.7425,     -2.5115,     -0.3727,      -3.235],\n",
              "        [    -5.6799,     -2.1284,     -2.4736,     -2.8852,     -5.9405],\n",
              "        [    -7.9998,     -4.5711,      -2.999,     -2.2607,     -4.6586],\n",
              "        [    -7.4078,     -5.3951,     -4.1646,     -1.7039,     -3.1181]], dtype=float32))"
            ]
          },
          "metadata": {},
          "execution_count": 101
        }
      ]
    },
    {
      "cell_type": "code",
      "source": [
        "\n",
        "\n",
        "\n",
        "\n",
        "\n",
        "a = torch.randn((1, 3, 1, 1, 2))\n",
        "a\n",
        "\n",
        "\n",
        "b = torch.randn((1, 3, 3, 6, 2))\n",
        "b\n",
        "\n",
        "c = a * b\n",
        "c.shape"
      ],
      "metadata": {
        "colab": {
          "base_uri": "https://localhost:8080/"
        },
        "id": "xTklrzm7XNxT",
        "outputId": "bee0b92e-9223-4f93-b7f1-45063fc59d82"
      },
      "execution_count": null,
      "outputs": [
        {
          "output_type": "execute_result",
          "data": {
            "text/plain": [
              "torch.Size([1, 3, 3, 6, 2])"
            ]
          },
          "metadata": {},
          "execution_count": 123
        }
      ]
    },
    {
      "cell_type": "markdown",
      "source": [
        "## nn.SiLU"
      ],
      "metadata": {
        "id": "YJ4rxbhNv2cj"
      }
    },
    {
      "cell_type": "code",
      "execution_count": null,
      "metadata": {
        "id": "BTCeGLrpGt29"
      },
      "outputs": [],
      "source": [
        "import torch.nn as nn\n",
        "import torch"
      ]
    },
    {
      "cell_type": "code",
      "execution_count": null,
      "metadata": {
        "id": "nEUHO58cGt74",
        "colab": {
          "base_uri": "https://localhost:8080/"
        },
        "outputId": "a67db94a-a8f2-412b-c05f-abfc3020a904"
      },
      "outputs": [
        {
          "output_type": "execute_result",
          "data": {
            "text/plain": [
              "tensor([0.73106, 1.76159, 2.85772], dtype=torch.float64)"
            ]
          },
          "metadata": {},
          "execution_count": 102
        }
      ],
      "source": [
        "m = nn.SiLU()\n",
        "# input = torch.randn(2)\n",
        "input  = torch.tensor([1,2,3], dtype=torch.float64)\n",
        "output = m(input)\n",
        "output"
      ]
    },
    {
      "cell_type": "code",
      "source": [
        "\n",
        "m = nn.SiLU(inplace=True)\n",
        "# input = torch.randn(2)\n",
        "input  = torch.tensor([1,2,3], dtype=torch.float64)\n",
        "output = m(input)\n",
        "output"
      ],
      "metadata": {
        "colab": {
          "base_uri": "https://localhost:8080/"
        },
        "id": "114BGxNL-Jjt",
        "outputId": "b1f33d63-0d41-4e0c-f657-343110006c93"
      },
      "execution_count": null,
      "outputs": [
        {
          "output_type": "execute_result",
          "data": {
            "text/plain": [
              "tensor([0.73106, 1.76159, 2.85772], dtype=torch.float64)"
            ]
          },
          "metadata": {},
          "execution_count": 103
        }
      ]
    },
    {
      "cell_type": "markdown",
      "source": [
        "## MaxPool2d"
      ],
      "metadata": {
        "id": "SxacTzFQwKtF"
      }
    },
    {
      "cell_type": "code",
      "source": [
        "# most are kernel_size=2, stride=2, which don't change channel numbers, but halves width and height.\n",
        "\n",
        "m = nn.MaxPool2d(kernel_size=2, stride=2)\n",
        "\n"
      ],
      "metadata": {
        "id": "oVWpO5TDwKhz"
      },
      "execution_count": null,
      "outputs": []
    },
    {
      "cell_type": "markdown",
      "source": [
        "## nn.modules.upsampling.Upsample"
      ],
      "metadata": {
        "id": "Uewu16h_y_Rb"
      }
    },
    {
      "cell_type": "code",
      "source": [
        "\n",
        "\n",
        "# input = torch.arange(1, 5, dtype=torch.float32).view(1, 1, 2, 2)\n",
        "# input\n",
        "\n",
        "\n"
      ],
      "metadata": {
        "colab": {
          "base_uri": "https://localhost:8080/"
        },
        "id": "xBt17AylwKf4",
        "outputId": "ae69c84d-7ba9-4a70-f3c0-208d1f17d98c"
      },
      "execution_count": null,
      "outputs": [
        {
          "output_type": "execute_result",
          "data": {
            "text/plain": [
              "tensor([[[[1., 2.],\n",
              "          [3., 4.]]]])"
            ]
          },
          "metadata": {},
          "execution_count": 52
        }
      ]
    },
    {
      "cell_type": "code",
      "source": [
        "input = torch.randn([1, 1, 4, 6])\n",
        "input"
      ],
      "metadata": {
        "colab": {
          "base_uri": "https://localhost:8080/"
        },
        "id": "GaV2IYuNwKdo",
        "outputId": "08c1f230-97d4-4359-bf81-5110b72dba6a"
      },
      "execution_count": null,
      "outputs": [
        {
          "output_type": "execute_result",
          "data": {
            "text/plain": [
              "tensor([[[[ 0.37371, -2.07462, -0.63176, -0.45085,  1.34738, -0.25870],\n",
              "          [-0.77504,  0.44855, -1.54422, -0.06173,  0.09523,  0.41700],\n",
              "          [ 2.15261, -0.54567, -0.61726, -1.18221,  0.38826, -0.31477],\n",
              "          [ 0.88862,  0.73544, -2.62577,  0.53904, -0.77966,  1.13680]]]])"
            ]
          },
          "metadata": {},
          "execution_count": 9
        }
      ]
    },
    {
      "cell_type": "code",
      "source": [
        "\n",
        "m = nn.modules.upsampling.Upsample(scale_factor=0.5, mode='nearest')\n",
        "m(input)\n"
      ],
      "metadata": {
        "id": "cry6gOCFwKbm",
        "colab": {
          "base_uri": "https://localhost:8080/"
        },
        "outputId": "94df3400-e146-4b5d-dac5-31c462dfdbae"
      },
      "execution_count": null,
      "outputs": [
        {
          "output_type": "execute_result",
          "data": {
            "text/plain": [
              "tensor([[[[ 0.37371, -0.63176,  1.34738],\n",
              "          [ 2.15261, -0.61726,  0.38826]]]])"
            ]
          },
          "metadata": {},
          "execution_count": 10
        }
      ]
    },
    {
      "cell_type": "code",
      "execution_count": null,
      "metadata": {
        "id": "CPVUt4O1AS5n"
      },
      "outputs": [],
      "source": [
        "a = nn.ModuleList(nn.Conv2d(x, 7, 1) for x in [1,2,3])"
      ]
    },
    {
      "cell_type": "code",
      "source": [
        "a[0].padding"
      ],
      "metadata": {
        "colab": {
          "base_uri": "https://localhost:8080/"
        },
        "id": "m3vDJDsaT0f1",
        "outputId": "a4372262-78a6-4dce-c5e5-fc0de52a9ec7"
      },
      "execution_count": null,
      "outputs": [
        {
          "output_type": "execute_result",
          "data": {
            "text/plain": [
              "(0, 0)"
            ]
          },
          "metadata": {},
          "execution_count": 118
        }
      ]
    },
    {
      "cell_type": "code",
      "source": [
        "a[2]"
      ],
      "metadata": {
        "colab": {
          "base_uri": "https://localhost:8080/"
        },
        "id": "uf1OV1gUT2Ov",
        "outputId": "4f77dc26-6e86-4ef1-9de8-899a90377829"
      },
      "execution_count": null,
      "outputs": [
        {
          "output_type": "execute_result",
          "data": {
            "text/plain": [
              "Conv2d(3, 7, kernel_size=(1, 1), stride=(1, 1))"
            ]
          },
          "metadata": {},
          "execution_count": 117
        }
      ]
    },
    {
      "cell_type": "code",
      "execution_count": null,
      "metadata": {
        "colab": {
          "base_uri": "https://localhost:8080/"
        },
        "id": "XmTe4N7N-7lR",
        "outputId": "05111272-b2fe-4c11-a37a-81d89482b46a"
      },
      "outputs": [
        {
          "data": {
            "text/plain": [
              "<All keys matched successfully>"
            ]
          },
          "execution_count": 15,
          "metadata": {},
          "output_type": "execute_result"
        }
      ],
      "source": [
        "# from models.yolo import Model\n",
        "# import numpy as np\n",
        "# import torch.distributed as dist\n",
        "# import torch.nn as nn\n",
        "# import torch.nn.functional as F\n",
        "# import torch.optim as optim\n",
        "# import torch.optim.lr_scheduler as lr_scheduler\n",
        "# import torch.utils.data\n",
        "# import yaml\n",
        "# from torch.cuda import amp\n",
        "# from torch.nn.parallel import DistributedDataParallel as DDP\n",
        "# from torch.utils.tensorboard import SummaryWriter\n",
        "# from tqdm import tqdm\n",
        "\n",
        "\n",
        "\n",
        "\n",
        "# weights = \"yolov7.pt\"\n",
        "# device = 'cpu' #'cuda'\n",
        "# nc = 80\n",
        "# hyp = {'lr0': 0.01,\n",
        "#       'lrf': 0.1,\n",
        "#       'momentum': 0.937,\n",
        "#       'weight_decay': 0.0005,\n",
        "#       'warmup_epochs': 3.0,\n",
        "#       'warmup_momentum': 0.8,\n",
        "#       'warmup_bias_lr': 0.1,\n",
        "#       'box': 0.05,\n",
        "#       'cls': 0.3,\n",
        "#       'cls_pw': 1.0,\n",
        "#       'obj': 0.7,\n",
        "#       'obj_pw': 1.0,\n",
        "#       'iou_t': 0.2,\n",
        "#       'anchor_t': 4.0,\n",
        "#       'fl_gamma': 0.0,\n",
        "#       'hsv_h': 0.015,\n",
        "#       'hsv_s': 0.7,\n",
        "#       'hsv_v': 0.4,\n",
        "#       'degrees': 0.0,\n",
        "#       'translate': 0.2,\n",
        "#       'scale': 0.9,\n",
        "#       'shear': 0.0,\n",
        "#       'perspective': 0.0,\n",
        "#       'flipud': 0.0,\n",
        "#       'fliplr': 0.5,\n",
        "#       'mosaic': 1.0,\n",
        "#       'mixup': 0.15,\n",
        "#       'copy_paste': 0.0,\n",
        "#       'paste_in': 0.15}\n",
        "\n",
        "\n",
        "# opt = dict(\n",
        "#     weights='yolov7.pt',\n",
        "#     cfg='',\n",
        "#     data='./data/citycam.yaml',\n",
        "#     hyp={'lr0': 0.01, 'lrf': 0.1, 'momentum': 0.937, 'weight_decay': 0.0005, 'warmup_epochs': 3.0, 'warmup_momentum': 0.8, 'warmup_bias_lr': 0.1, 'box': 0.05, 'cls': 0.3, 'cls_pw': 1.0, 'obj': 0.7, 'obj_pw': 1.0, 'iou_t': 0.2, 'anchor_t': 4.0, 'fl_gamma': 0.0, 'hsv_h': 0.015, 'hsv_s': 0.7, 'hsv_v': 0.4, 'degrees': 0.0, 'translate': 0.2, 'scale': 0.9, 'shear': 0.0, 'perspective': 0.0, 'flipud': 0.0, 'fliplr': 0.5, 'mosaic': 1.0, 'mixup': 0.15, 'copy_paste': 0.0, 'paste_in': 0.15}, epochs=50, batch_size=12, img_size=[640, 640], rect=False, resume=False, nosave=False, notest=False, noautoanchor=False, evolve=False, bucket='', cache_images=False, image_weights=False, device='', multi_scale=False, single_cls=False, adam=False, sync_bn=False, local_rank=-1, workers=8, project='runs/train/Q1', entity=None, name='refine', exist_ok=False, quad=False, linear_lr=False, label_smoothing=0.0, upload_dataset=False, bbox_interval=-1, save_period=-1, artifact_alias='latest', freeze=[0], world_size=1, global_rank=-1, save_dir='runs/train/Q1/refine3', total_batch_size=12)\n",
        "\n",
        "\n",
        "# def intersect_dicts(da, db, exclude=()):\n",
        "#     # Dictionary intersection of matching keys and shapes, omitting 'exclude' keys, using da values\n",
        "#     return {k: v for k, v in da.items() if k in db and not any(x in k for x in exclude) and v.shape == db[k].shape}\n",
        "\n",
        "\n",
        "\n",
        "# ckpt = torch.load(weights, map_location=device)  # load checkpoint\n",
        "# model = Model(ckpt['model'].yaml, ch=3, nc=nc, anchors=hyp.get('anchors')).to(device)  # create\n",
        "\n",
        "# exclude = ['anchor'] if (opt.get('cfg') or hyp.get('anchors')) and not opt.get('resume') else []  # exclude keys\n",
        "# state_dict = ckpt['model'].float().state_dict()  # to FP32\n",
        "# state_dict = intersect_dicts(state_dict, model.state_dict(), exclude=exclude)  # intersect\n",
        "# model.load_state_dict(state_dict, strict=False)  # load"
      ]
    },
    {
      "cell_type": "code",
      "execution_count": null,
      "metadata": {
        "id": "EVKjNOlX-7om"
      },
      "outputs": [],
      "source": []
    },
    {
      "cell_type": "code",
      "execution_count": null,
      "metadata": {
        "id": "f_Fy9MFi-7qf"
      },
      "outputs": [],
      "source": []
    },
    {
      "cell_type": "code",
      "execution_count": null,
      "metadata": {
        "id": "NiEk9VX8-7sZ"
      },
      "outputs": [],
      "source": []
    },
    {
      "cell_type": "code",
      "execution_count": null,
      "metadata": {
        "id": "Eca6_sSO-7uP"
      },
      "outputs": [],
      "source": []
    },
    {
      "cell_type": "code",
      "execution_count": null,
      "metadata": {
        "id": "98Bv48Vn-7wS"
      },
      "outputs": [],
      "source": []
    },
    {
      "cell_type": "code",
      "execution_count": null,
      "metadata": {
        "id": "KTR1oIra-7yH"
      },
      "outputs": [],
      "source": []
    },
    {
      "cell_type": "code",
      "execution_count": null,
      "metadata": {
        "id": "QCM_sPGL-70J"
      },
      "outputs": [],
      "source": []
    },
    {
      "cell_type": "code",
      "execution_count": null,
      "metadata": {
        "id": "rrE1SVsX-719"
      },
      "outputs": [],
      "source": []
    },
    {
      "cell_type": "code",
      "execution_count": null,
      "metadata": {
        "id": "AkbkphlA-73p"
      },
      "outputs": [],
      "source": []
    },
    {
      "cell_type": "code",
      "execution_count": null,
      "metadata": {
        "id": "5DCpFyzn-75k"
      },
      "outputs": [],
      "source": []
    },
    {
      "cell_type": "code",
      "execution_count": null,
      "metadata": {
        "id": "DVFGqG37-77h"
      },
      "outputs": [],
      "source": []
    },
    {
      "cell_type": "markdown",
      "metadata": {
        "id": "PBWqC4cZXqCV"
      },
      "source": [
        "Download data from drive and put in {your_drive_path}/yolov7/data/\n",
        "\n",
        "[TODO]\n",
        "write two TODO functions in {your_drive_path}/yolov7/data/pre_process.py\n",
        "\n",
        "1. split_train_val_path --> You need to split all image paths to train and validation in Q1, Q2, and Q3.\n",
        "\n",
        "2. select_images --> You need to finish this function to chose better images in Q2 and Q3."
      ]
    },
    {
      "cell_type": "code",
      "execution_count": null,
      "metadata": {
        "colab": {
          "base_uri": "https://localhost:8080/"
        },
        "id": "6s40eLrMWi37",
        "outputId": "69ea4d7c-6d5d-4088-9f05-ac1cb0582d5d"
      },
      "outputs": [
        {
          "name": "stdout",
          "output_type": "stream",
          "text": [
            "Namespace(data_folder='../CityCam', ques='Q1')\n"
          ]
        }
      ],
      "source": [
        "# pre-process data and generate training YAML file\n",
        "!python data/pre_process.py --data_folder './data/CityCam' --ques 'Q1'"
      ]
    },
    {
      "cell_type": "code",
      "execution_count": null,
      "metadata": {
        "colab": {
          "base_uri": "https://localhost:8080/"
        },
        "id": "c79SKH1BWqAq",
        "outputId": "9ccf6676-04c7-4fae-9a75-2141d5f978b1"
      },
      "outputs": [
        {
          "name": "stdout",
          "output_type": "stream",
          "text": [
            "2023-10-07 12:14:54.905572: W tensorflow/compiler/tf2tensorrt/utils/py_utils.cc:38] TF-TRT Warning: Could not find TensorRT\n",
            "YOLOR 🚀 2023-10-7 torch 2.0.1+cu118 CPU\n",
            "\n",
            "Namespace(weights='yolov7.pt', cfg='', data='./data/citycam.yaml', hyp='data/hyp.scratch.p5.yaml', epochs=50, batch_size=12, img_size=[640, 640], rect=False, resume=False, nosave=False, notest=False, noautoanchor=False, evolve=False, bucket='', cache_images=False, image_weights=False, device='', multi_scale=False, single_cls=False, adam=False, sync_bn=False, local_rank=-1, workers=8, project='runs/train/Q1', entity=None, name='refine', exist_ok=False, quad=False, linear_lr=False, label_smoothing=0.0, upload_dataset=False, bbox_interval=-1, save_period=-1, artifact_alias='latest', freeze=[0], world_size=1, global_rank=-1, save_dir='runs/train/Q1/refine3', total_batch_size=12)\n",
            "\u001b[34m\u001b[1mtensorboard: \u001b[0mStart with 'tensorboard --logdir runs/train/Q1', view at http://localhost:6006/\n",
            "\u001b[34m\u001b[1mhyperparameters: \u001b[0mlr0=0.01, lrf=0.1, momentum=0.937, weight_decay=0.0005, warmup_epochs=3.0, warmup_momentum=0.8, warmup_bias_lr=0.1, box=0.05, cls=0.3, cls_pw=1.0, obj=0.7, obj_pw=1.0, iou_t=0.2, anchor_t=4.0, fl_gamma=0.0, hsv_h=0.015, hsv_s=0.7, hsv_v=0.4, degrees=0.0, translate=0.2, scale=0.9, shear=0.0, perspective=0.0, flipud=0.0, fliplr=0.5, mosaic=1.0, mixup=0.15, copy_paste=0.0, paste_in=0.15\n",
            "\u001b[34m\u001b[1mwandb: \u001b[0mInstall Weights & Biases for YOLOR logging with 'pip install wandb' (recommended)\n",
            "nc: 80\n",
            "hyp: {'lr0': 0.01, 'lrf': 0.1, 'momentum': 0.937, 'weight_decay': 0.0005, 'warmup_epochs': 3.0, 'warmup_momentum': 0.8, 'warmup_bias_lr': 0.1, 'box': 0.05, 'cls': 0.3, 'cls_pw': 1.0, 'obj': 0.7, 'obj_pw': 1.0, 'iou_t': 0.2, 'anchor_t': 4.0, 'fl_gamma': 0.0, 'hsv_h': 0.015, 'hsv_s': 0.7, 'hsv_v': 0.4, 'degrees': 0.0, 'translate': 0.2, 'scale': 0.9, 'shear': 0.0, 'perspective': 0.0, 'flipud': 0.0, 'fliplr': 0.5, 'mosaic': 1.0, 'mixup': 0.15, 'copy_paste': 0.0, 'paste_in': 0.15}\n",
            "opt: Namespace(weights='yolov7.pt', cfg='', data='./data/citycam.yaml', hyp={'lr0': 0.01, 'lrf': 0.1, 'momentum': 0.937, 'weight_decay': 0.0005, 'warmup_epochs': 3.0, 'warmup_momentum': 0.8, 'warmup_bias_lr': 0.1, 'box': 0.05, 'cls': 0.3, 'cls_pw': 1.0, 'obj': 0.7, 'obj_pw': 1.0, 'iou_t': 0.2, 'anchor_t': 4.0, 'fl_gamma': 0.0, 'hsv_h': 0.015, 'hsv_s': 0.7, 'hsv_v': 0.4, 'degrees': 0.0, 'translate': 0.2, 'scale': 0.9, 'shear': 0.0, 'perspective': 0.0, 'flipud': 0.0, 'fliplr': 0.5, 'mosaic': 1.0, 'mixup': 0.15, 'copy_paste': 0.0, 'paste_in': 0.15}, epochs=50, batch_size=12, img_size=[640, 640], rect=False, resume=False, nosave=False, notest=False, noautoanchor=False, evolve=False, bucket='', cache_images=False, image_weights=False, device='', multi_scale=False, single_cls=False, adam=False, sync_bn=False, local_rank=-1, workers=8, project='runs/train/Q1', entity=None, name='refine', exist_ok=False, quad=False, linear_lr=False, label_smoothing=0.0, upload_dataset=False, bbox_interval=-1, save_period=-1, artifact_alias='latest', freeze=[0], world_size=1, global_rank=-1, save_dir='runs/train/Q1/refine3', total_batch_size=12)\n"
          ]
        }
      ],
      "source": [
        "# training command\n",
        "!python train.py --project runs/train/Q1 --name refine"
      ]
    },
    {
      "cell_type": "code",
      "execution_count": null,
      "metadata": {
        "colab": {
          "base_uri": "https://localhost:8080/"
        },
        "id": "FSMsDWiMWqFl",
        "outputId": "f8c9aa3f-ee9d-41c1-c5c3-dd168cc531df"
      },
      "outputs": [
        {
          "name": "stdout",
          "output_type": "stream",
          "text": [
            "Namespace(augment=False, batch_size=32, conf_thres=0.001, data='data/citycam.yaml', device='', exist_ok=False, img_size=640, iou_thres=0.65, name='refine', no_trace=False, project='runs/test/Q1', save_conf=False, save_hybrid=False, save_json=False, save_txt=False, show_div_cams=True, single_cls=False, task='test', verbose=True, weights=['./runs/train/Q1/refine3/weights/best.pt'])\n",
            "YOLOR 🚀 2022-8-3 torch 1.12.1+cu113 CUDA:0 (Tesla T4, 15109.75MB)\n",
            "\n",
            "Fusing layers... \n",
            "RepConv.fuse_repvgg_block\n",
            "RepConv.fuse_repvgg_block\n",
            "RepConv.fuse_repvgg_block\n",
            "Model Summary: 306 layers, 36905341 parameters, 6194944 gradients\n",
            " Convert model to Traced-model... \n",
            " traced_script_module saved! \n",
            " model is traced! \n",
            "\n",
            "/usr/local/lib/python3.7/dist-packages/torch/functional.py:478: UserWarning: torch.meshgrid: in an upcoming release, it will be required to pass the indexing argument. (Triggered internally at  ../aten/src/ATen/native/TensorShape.cpp:2894.)\n",
            "  return _VF.meshgrid(tensors, **kwargs)  # type: ignore[attr-defined]\n",
            "\u001b[34m\u001b[1mtest: \u001b[0mScanning '/content/drive/MyDrive/11101/CV/CityCam/test' images and labels... 1200 found, 0 missing, 107 empty, 0 corrupted: 100% 1200/1200 [12:42<00:00,  1.57it/s]\n",
            "\u001b[34m\u001b[1mtest: \u001b[0mNew cache created: /content/drive/MyDrive/11101/CV/CityCam/test.cache\n",
            "               Class      Images      Labels           P           R      mAP@.5  mAP@.5:.95: 100% 38/38 [00:23<00:00,  1.63it/s]\n",
            "/content/drive/MyDrive/11101/CV/yolov7/utils/metrics.py:188: RuntimeWarning: More than 20 figures have been opened. Figures created through the pyplot interface (`matplotlib.pyplot.figure`) are retained until explicitly closed and may consume too much memory. (To control this warning, see the rcParam `figure.max_open_warning`).\n",
            "  fig, ax = plt.subplots(1, 1, figsize=(9, 6), tight_layout=True)\n",
            "/content/drive/MyDrive/11101/CV/yolov7/utils/metrics.py:208: RuntimeWarning: More than 20 figures have been opened. Figures created through the pyplot interface (`matplotlib.pyplot.figure`) are retained until explicitly closed and may consume too much memory. (To control this warning, see the rcParam `figure.max_open_warning`).\n",
            "  fig, ax = plt.subplots(1, 1, figsize=(9, 6), tight_layout=True)\n",
            "/content/drive/MyDrive/11101/CV/yolov7/utils/metrics.py:208: RuntimeWarning: More than 20 figures have been opened. Figures created through the pyplot interface (`matplotlib.pyplot.figure`) are retained until explicitly closed and may consume too much memory. (To control this warning, see the rcParam `figure.max_open_warning`).\n",
            "  fig, ax = plt.subplots(1, 1, figsize=(9, 6), tight_layout=True)\n",
            "/content/drive/MyDrive/11101/CV/yolov7/utils/metrics.py:208: RuntimeWarning: More than 20 figures have been opened. Figures created through the pyplot interface (`matplotlib.pyplot.figure`) are retained until explicitly closed and may consume too much memory. (To control this warning, see the rcParam `figure.max_open_warning`).\n",
            "  fig, ax = plt.subplots(1, 1, figsize=(9, 6), tight_layout=True)\n",
            "/content/drive/MyDrive/11101/CV/yolov7/utils/metrics.py:188: RuntimeWarning: More than 20 figures have been opened. Figures created through the pyplot interface (`matplotlib.pyplot.figure`) are retained until explicitly closed and may consume too much memory. (To control this warning, see the rcParam `figure.max_open_warning`).\n",
            "  fig, ax = plt.subplots(1, 1, figsize=(9, 6), tight_layout=True)\n",
            "/content/drive/MyDrive/11101/CV/yolov7/utils/metrics.py:208: RuntimeWarning: More than 20 figures have been opened. Figures created through the pyplot interface (`matplotlib.pyplot.figure`) are retained until explicitly closed and may consume too much memory. (To control this warning, see the rcParam `figure.max_open_warning`).\n",
            "  fig, ax = plt.subplots(1, 1, figsize=(9, 6), tight_layout=True)\n",
            "/content/drive/MyDrive/11101/CV/yolov7/utils/metrics.py:208: RuntimeWarning: More than 20 figures have been opened. Figures created through the pyplot interface (`matplotlib.pyplot.figure`) are retained until explicitly closed and may consume too much memory. (To control this warning, see the rcParam `figure.max_open_warning`).\n",
            "  fig, ax = plt.subplots(1, 1, figsize=(9, 6), tight_layout=True)\n",
            "/content/drive/MyDrive/11101/CV/yolov7/utils/metrics.py:208: RuntimeWarning: More than 20 figures have been opened. Figures created through the pyplot interface (`matplotlib.pyplot.figure`) are retained until explicitly closed and may consume too much memory. (To control this warning, see the rcParam `figure.max_open_warning`).\n",
            "  fig, ax = plt.subplots(1, 1, figsize=(9, 6), tight_layout=True)\n",
            "+--------+-------+--------+--------+-------+-------+--------+------------+\n",
            "| Camera | Class | Images | Labels |   P   |   R   | mAP@.5 | mAP@.5:.95 |\n",
            "+--------+-------+--------+--------+-------+-------+--------+------------+\n",
            "|  170   |       |        |        |       |       |        |            |\n",
            "|        |  all  |  1200  |  1761  | 0.434 | 0.567 | 0.444  |   0.251    |\n",
            "|        |  car  |  1200  |  1504  | 0.737 | 0.693 | 0.723  |   0.371    |\n",
            "|        |  bus  |  1200  |  210   |  0.53 | 0.542 | 0.548  |   0.351    |\n",
            "|        | truck |  1200  |   47   | 0.034 | 0.468 | 0.062  |   0.032    |\n",
            "|  495   |       |        |        |       |       |        |            |\n",
            "|        |  all  |  1200  |  2227  | 0.669 | 0.564 | 0.606  |   0.335    |\n",
            "|        |  car  |  1200  |  1950  | 0.698 | 0.565 | 0.658  |   0.341    |\n",
            "|        |  bus  |  1200  |   55   | 0.848 | 0.636 | 0.728  |   0.474    |\n",
            "|        | truck |  1200  |  222   | 0.459 | 0.491 | 0.432  |   0.189    |\n",
            "|  410   |       |        |        |       |       |        |            |\n",
            "|        |  all  |  1200  |  2331  | 0.501 | 0.557 | 0.482  |   0.242    |\n",
            "|        |  car  |  1200  |  2005  | 0.842 | 0.551 | 0.713  |   0.361    |\n",
            "|        |  bus  |  1200  |   15   | 0.151 | 0.467 |  0.14  |   0.086    |\n",
            "|        | truck |  1200  |  311   | 0.511 | 0.653 | 0.593  |   0.278    |\n",
            "|  511   |       |        |        |       |       |        |            |\n",
            "|        |  all  |  1200  |  2294  | 0.408 | 0.519 |  0.38  |   0.205    |\n",
            "|        |  car  |  1200  |  2077  | 0.797 | 0.516 | 0.666  |   0.331    |\n",
            "|        |  bus  |  1200  |   86   | 0.336 | 0.477 |  0.3   |   0.187    |\n",
            "|        | truck |  1200  |  131   | 0.092 | 0.565 | 0.174  |   0.097    |\n",
            "|  398   |       |        |        |       |       |        |            |\n",
            "|        |  all  |  1200  |  2353  | 0.751 | 0.645 | 0.701  |   0.435    |\n",
            "|        |  car  |  1200  |  2056  | 0.707 | 0.656 | 0.705  |   0.393    |\n",
            "|        |  bus  |  1200  |  104   | 0.931 | 0.529 | 0.708  |   0.468    |\n",
            "|        | truck |  1200  |  193   | 0.614 | 0.751 |  0.69  |   0.444    |\n",
            "|  173   |       |        |        |       |       |        |            |\n",
            "|        |  all  |  1200  |  1991  | 0.757 | 0.722 | 0.783  |   0.464    |\n",
            "|        |  car  |  1200  |  1680  |  0.9  | 0.683 | 0.846  |   0.476    |\n",
            "|        |  bus  |  1200  |  171   |  0.8  | 0.797 |  0.84  |   0.561    |\n",
            "|        | truck |  1200  |  140   | 0.571 | 0.686 | 0.663  |   0.354    |\n",
            "|        |       |        |        |       |       |        |            |\n",
            "|  ALL   |       |        |        |       |       |        |            |\n",
            "|        |  all  |  1200  | 12957  | 0.606 | 0.571 | 0.575  |   0.324    |\n",
            "|        |  car  |  1200  | 11272  | 0.769 | 0.581 | 0.698  |   0.368    |\n",
            "|        |  bus  |  1200  |  641   | 0.704 | 0.495 | 0.565  |   0.366    |\n",
            "|        | truck |  1200  |  1044  | 0.344 | 0.638 | 0.463  |    0.24    |\n",
            "+--------+-------+--------+--------+-------+-------+--------+------------+\n",
            "Speed: 11.0/1.4/12.3 ms inference/NMS/total per 640x640 image at batch-size 32\n",
            "/content/drive/MyDrive/11101/CV/yolov7/utils/metrics.py:167: RuntimeWarning: More than 20 figures have been opened. Figures created through the pyplot interface (`matplotlib.pyplot.figure`) are retained until explicitly closed and may consume too much memory. (To control this warning, see the rcParam `figure.max_open_warning`).\n",
            "  fig = plt.figure(figsize=(12, 9), tight_layout=True)\n",
            "Results saved to runs/test/Q1/refine9\n"
          ]
        }
      ],
      "source": [
        "# testing command\n",
        "!python test.py --verbose --show_div_cams --task test --weights \"./runs/train/Q1/refine/weights/best.pt\" --project runs/test/Q1 --name refine"
      ]
    }
  ],
  "metadata": {
    "colab": {
      "provenance": [],
      "toc_visible": true
    },
    "kernelspec": {
      "display_name": "Python 3",
      "name": "python3"
    },
    "language_info": {
      "name": "python"
    }
  },
  "nbformat": 4,
  "nbformat_minor": 0
}